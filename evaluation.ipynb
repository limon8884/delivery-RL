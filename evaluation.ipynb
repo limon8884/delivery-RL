{
 "cells": [
  {
   "attachments": {},
   "cell_type": "markdown",
   "metadata": {},
   "source": [
    "Evaluation of assignment problem"
   ]
  },
  {
   "cell_type": "code",
   "execution_count": 5,
   "metadata": {},
   "outputs": [],
   "source": [
    "%matplotlib inline\n",
    "import matplotlib.pyplot as plt\n",
    "import numpy as np\n",
    "import torch\n",
    "import torch.nn as nn\n",
    "import torch.nn.functional as F\n",
    "from collections import defaultdict\n",
    "import time\n",
    "\n",
    "import utils\n",
    "import networks\n",
    "import importlib\n",
    "# importlib.reload(utils)\n",
    "# importlib.reload(networks.scoring_v1)\n",
    "# importlib.reload(networks.scoring_demo)\n",
    "# importlib.reload(networks.encoders)\n",
    "\n",
    "from utils import *\n",
    "from objects.point import Point, get_random_point\n",
    "from objects.utils import distance\n",
    "from objects.gamble_triple import GambleTriple, random_triple\n",
    "from networks.model_trainer import ModelTrainer\n",
    "from dispatch.solvers import HungarianSolver\n",
    "from networks.scoring_v1 import ScoringNet\n",
    "# from networks.scoring_demo import ScoringNetDemo\n",
    "from networks.points_distance_net import PointDistNet\n",
    "from networks.encoders import PointEncoder\n",
    "from dispatch.scorings import ETAScoring\n",
    "from dispatch.dispatch import Dispatch\n",
    "from simulator.base_simulator import BaseSimulator\n",
    "from IPython.display import clear_output\n",
    "from matplotlib.pyplot import figure"
   ]
  },
  {
   "cell_type": "code",
   "execution_count": 6,
   "metadata": {},
   "outputs": [],
   "source": [
    "bounds = (Point(0, 0), Point(10, 10))\n",
    "device = torch.device('cuda:0') if torch.cuda.is_available() else torch.device('cpu')\n",
    "\n",
    "point_encoder = PointEncoder(64, device=device)\n",
    "point_encoder_path = 'pretained_models/point_encoder64/point_encoder64.pt'\n",
    "point_encoder.load_state_dict(torch.load(point_encoder_path, map_location=device))\n",
    "\n",
    "net = ScoringNet(\n",
    "    mode='default',\n",
    "    point_encoder=point_encoder,\n",
    "    n_layers=2,\n",
    "    d_model=512,\n",
    "    n_head=4,\n",
    "    dim_ff=512,\n",
    "    point_enc_dim=32,\n",
    "    number_enc_dim=8,\n",
    "    device=device\n",
    ")\n",
    "\n",
    "net_path = 'pretained_models/assignment_cloning_model_v2/model.pt'\n",
    "net.load_state_dict(torch.load(net_path, map_location=device))\n",
    "net.eval();"
   ]
  },
  {
   "attachments": {},
   "cell_type": "markdown",
   "metadata": {},
   "source": [
    "Evaluation of accuracy by gambles"
   ]
  },
  {
   "cell_type": "code",
   "execution_count": 18,
   "metadata": {},
   "outputs": [],
   "source": [
    "def target_assigments(triple):\n",
    "    scoring = ETAScoring()\n",
    "    solver = HungarianSolver()\n",
    "\n",
    "    scores = scoring(triple.orders, triple.couriers)\n",
    "    ords, crrs = solver(scores)\n",
    "    answer = -np.ones(len(triple.orders))\n",
    "    for o, c in zip(ords, crrs):\n",
    "        answer[o] = c\n",
    "    return answer\n",
    "\n",
    "def pred_assigments(triple):\n",
    "    preds = net([triple], 0)\n",
    "    fake_courier_idx = preds[0].shape[1] - 1\n",
    "    argmaxes = torch.argmax(preds[0], dim=-1)\n",
    "    return torch.where(argmaxes == fake_courier_idx, -1, argmaxes).numpy()\n",
    "\n",
    "def target_assigments_batch(triples):\n",
    "    assignments_batch = []\n",
    "    for triple in triples:\n",
    "        assignments_batch.append(target_assigments(triple))\n",
    "    \n",
    "    return assignments_batch\n",
    "\n",
    "def pred_assigments_batch(triples):\n",
    "    preds = net(triples, 0)\n",
    "    fake_courier_idx = preds.shape[2] - 1\n",
    "    argmaxes = torch.argmax(preds, dim=-1)\n",
    "    assignments_batch_tens = torch.where(argmaxes == fake_courier_idx, -1, argmaxes).numpy()\n",
    "\n",
    "    assignments_batch = []\n",
    "    for i, assignments_tens in enumerate(assignments_batch_tens):\n",
    "        num_orders = len(triples[i].orders)\n",
    "        assignments_batch.append(assignments_tens[:num_orders])\n",
    "\n",
    "    return assignments_batch"
   ]
  },
  {
   "cell_type": "code",
   "execution_count": 19,
   "metadata": {},
   "outputs": [
    {
     "name": "stdout",
     "output_type": "stream",
     "text": [
      "[array([0., 1., 2.]), array([0.])]\n",
      "[array([0, 1, 2], dtype=int64), array([0], dtype=int64)]\n"
     ]
    }
   ],
   "source": [
    "triples = [random_triple(bounds, max_items=3, same_number=True) for _ in range(2)]\n",
    "\n",
    "print(target_assigments_batch(triples))\n",
    "print(pred_assigments_batch(triples))"
   ]
  },
  {
   "cell_type": "code",
   "execution_count": 29,
   "metadata": {},
   "outputs": [],
   "source": [
    "from collections import Counter\n",
    "\n",
    "def get_dict_metrics(a, b, n_couriers = 1000):\n",
    "    return {\n",
    "        'fake_mistake_not_assigns': ((a != b) & (a == -1) & (b < n_couriers)).sum(),\n",
    "        'fake_mistake_assigns': ((a != b) & (b == -1)).sum(),\n",
    "        'real_mistakes': ((a != b) & (a != -1) & (b != -1) & (b < n_couriers)).sum(),\n",
    "        'masked_assigns': ((b >= n_couriers)).sum(),\n",
    "        'correct': (a == b).sum(),\n",
    "    }\n",
    "\n",
    "def get_metrics(n_samples, max_items=3):\n",
    "    c = Counter()\n",
    "    for _ in range(n_samples):\n",
    "        triple = random_triple(bounds, max_items=max_items)\n",
    "        pred_ass = pred_assigments(triple)\n",
    "        tgt_ass = target_assigments(triple)\n",
    "        assert pred_ass.shape == tgt_ass.shape\n",
    "        c.update(get_dict_metrics(tgt_ass, pred_ass))\n",
    "    \n",
    "    return c\n",
    "\n",
    "def get_metrics_batch(batch_size, n_samples, max_items=3):\n",
    "    c = Counter()\n",
    "    for _ in range(n_samples):\n",
    "        triples = [random_triple(bounds, max_items=max_items) for _ in range(batch_size)]\n",
    "        pred_ass_batch = pred_assigments_batch(triples)\n",
    "        tgt_ass_batch = target_assigments_batch(triples)\n",
    "        assert len(pred_ass_batch) == len(tgt_ass_batch)\n",
    "        for i, (pred_ass, tgt_ass) in enumerate(zip(pred_ass_batch, tgt_ass_batch)):\n",
    "            assert pred_ass.shape == tgt_ass.shape\n",
    "            c.update(get_dict_metrics(tgt_ass, pred_ass, n_couriers=len(triples[i].couriers)))\n",
    "    \n",
    "    return c"
   ]
  },
  {
   "attachments": {},
   "cell_type": "markdown",
   "metadata": {},
   "source": [
    "Without masks (wo batches)"
   ]
  },
  {
   "cell_type": "code",
   "execution_count": 7,
   "metadata": {},
   "outputs": [
    {
     "data": {
      "text/plain": [
       "Counter({'fake_mistake_not_assigns': 24,\n",
       "         'fake_mistake_assigns': 17,\n",
       "         'real_mistakes': 51,\n",
       "         'correct': 442})"
      ]
     },
     "execution_count": 7,
     "metadata": {},
     "output_type": "execute_result"
    }
   ],
   "source": [
    "metrics = get_metrics(n_samples=100, max_items=10)\n",
    "metrics"
   ]
  },
  {
   "cell_type": "code",
   "execution_count": 8,
   "metadata": {},
   "outputs": [
    {
     "name": "stdout",
     "output_type": "stream",
     "text": [
      "fake_mistake_not_assigns:  0.0449438202247191\n",
      "fake_mistake_assigns:  0.031835205992509365\n",
      "real_mistakes:  0.09550561797752809\n",
      "correct:  0.8277153558052435\n"
     ]
    }
   ],
   "source": [
    "num_total_orders = sum(metrics.values())\n",
    "for k, v in metrics.items():\n",
    "    print(k + ': ', v / num_total_orders)"
   ]
  },
  {
   "attachments": {},
   "cell_type": "markdown",
   "metadata": {},
   "source": [
    "Аккураси модели 85%\n",
    "10% теряется на неверных назначениях курьеров реальных\n",
    "5% на назначениях фейковых\n",
    "\n",
    "Ситуация резко ухудшается при большем кол-во итемов (чем то, на чем модель училась). Но в рамках того, чему модель училась, все норм\n",
    "\n",
    "Ниже: accuracy в зависимости от max_items\n",
    "\n",
    "Модель как будто поняла, что не надо назначать на маскированных челов"
   ]
  },
  {
   "cell_type": "code",
   "execution_count": 87,
   "metadata": {},
   "outputs": [
    {
     "data": {
      "text/plain": [
       "[<matplotlib.lines.Line2D at 0x1986ee5cd48>]"
      ]
     },
     "execution_count": 87,
     "metadata": {},
     "output_type": "execute_result"
    },
    {
     "data": {
      "image/png": "[encoded data removed]",
      "text/plain": [
       "<Figure size 432x288 with 1 Axes>"
      ]
     },
     "metadata": {
      "needs_background": "light"
     },
     "output_type": "display_data"
    }
   ],
   "source": [
    "accuracies = [None]\n",
    "for n_items in range(1, 21):\n",
    "    metrics = get_metrics(n_samples=50, max_items=n_items)\n",
    "    num_total_orders = sum(metrics.values())\n",
    "    accuracies.append(metrics['correct'] / num_total_orders)\n",
    "\n",
    "plt.plot(accuracies)"
   ]
  },
  {
   "attachments": {},
   "cell_type": "markdown",
   "metadata": {},
   "source": [
    "With masks (and batches)"
   ]
  },
  {
   "cell_type": "code",
   "execution_count": 31,
   "metadata": {},
   "outputs": [
    {
     "name": "stdout",
     "output_type": "stream",
     "text": [
      "Counter({'correct': 888, 'real_mistakes': 144, 'fake_mistake_assigns': 32, 'fake_mistake_not_assigns': 27, 'masked_assigns': 5})\n",
      "fake_mistake_not_assigns:  0.024635036496350366\n",
      "fake_mistake_assigns:  0.029197080291970802\n",
      "real_mistakes:  0.13138686131386862\n",
      "masked_assigns:  0.004562043795620438\n",
      "correct:  0.8102189781021898\n"
     ]
    }
   ],
   "source": [
    "metrics = get_metrics_batch(batch_size=10, n_samples=20, max_items=10)\n",
    "print(metrics)\n",
    "\n",
    "num_total_orders = sum(metrics.values())\n",
    "for k, v in metrics.items():\n",
    "    print(k + ': ', v / num_total_orders)"
   ]
  },
  {
   "attachments": {},
   "cell_type": "markdown",
   "metadata": {},
   "source": [
    "Evaluation of CR"
   ]
  },
  {
   "cell_type": "code",
   "execution_count": 1,
   "metadata": {},
   "outputs": [],
   "source": [
    "%matplotlib inline\n",
    "import matplotlib.pyplot as plt\n",
    "import numpy as np\n",
    "\n",
    "from dispatch.dispatch import Dispatch, NeuralDispatch\n",
    "from simulator.base_simulator import BaseSimulator"
   ]
  },
  {
   "attachments": {},
   "cell_type": "markdown",
   "metadata": {},
   "source": [
    "Default dispatch"
   ]
  },
  {
   "cell_type": "code",
   "execution_count": 2,
   "metadata": {},
   "outputs": [],
   "source": [
    "dsp = Dispatch()\n",
    "sim = BaseSimulator(dsp)\n",
    "\n",
    "all_metrics = []\n",
    "for i in range(1000):\n",
    "    metrics = sim.GetMetrics()\n",
    "    all_metrics.append(metrics)\n",
    "    sim.Next()\n"
   ]
  },
  {
   "cell_type": "code",
   "execution_count": 3,
   "metadata": {},
   "outputs": [
    {
     "name": "stdout",
     "output_type": "stream",
     "text": [
      "CR:  0.6623292586136372\n"
     ]
    },
    {
     "data": {
      "image/png": "[encoded data removed]",
      "text/plain": [
       "<Figure size 432x288 with 1 Axes>"
      ]
     },
     "metadata": {
      "needs_background": "light"
     },
     "output_type": "display_data"
    },
    {
     "name": "stdout",
     "output_type": "stream",
     "text": [
      "current free couriers:  0.112\n",
      "current free orders:  12.717\n",
      "current active routes:  19.888\n"
     ]
    },
    {
     "data": {
      "image/png": "[encoded data removed]",
      "text/plain": [
       "<Figure size 432x288 with 1 Axes>"
      ]
     },
     "metadata": {
      "needs_background": "light"
     },
     "output_type": "display_data"
    }
   ],
   "source": [
    "def print_metrics(all_metrics):\n",
    "    plt.title('CR')\n",
    "    plt.plot([m['completed_orders'] / m['finished_orders'] for m in all_metrics if m['finished_orders'] != 0])\n",
    "    print('CR: ', np.mean([m['completed_orders'] / m['finished_orders'] for m in all_metrics if m['finished_orders'] != 0]))\n",
    "    plt.show()\n",
    "    plt.title('nums')\n",
    "    plt.plot([m['current_free_couriers'] for m in all_metrics], label='c')\n",
    "    plt.plot([m['current_free_orders'] for m in all_metrics], label='o')\n",
    "    plt.plot([m['current_active_routes'] for m in all_metrics], label='ar')\n",
    "    plt.legend()\n",
    "    print('current free couriers: ', np.mean([m['current_free_couriers'] for m in all_metrics]))\n",
    "    print('current free orders: ', np.mean([m['current_free_orders'] for m in all_metrics]))\n",
    "    print('current active routes: ', np.mean([m['current_active_routes'] for m in all_metrics]))\n",
    "\n",
    "print_metrics(all_metrics)"
   ]
  },
  {
   "cell_type": "code",
   "execution_count": 4,
   "metadata": {},
   "outputs": [
    {
     "data": {
      "text/plain": [
       "{'iter': 1000,\n",
       " 'completed_orders': 1281,\n",
       " 'finished_orders': 1970,\n",
       " 'current_free_couriers': 0,\n",
       " 'current_free_orders': 10,\n",
       " 'current_active_routes': 20,\n",
       " 'total_eta': 1.9930485193855516}"
      ]
     },
     "execution_count": 4,
     "metadata": {},
     "output_type": "execute_result"
    }
   ],
   "source": [
    "sim.GetMetrics()"
   ]
  },
  {
   "attachments": {},
   "cell_type": "markdown",
   "metadata": {},
   "source": [
    "Neural dispatch"
   ]
  },
  {
   "cell_type": "code",
   "execution_count": 11,
   "metadata": {},
   "outputs": [
    {
     "name": "stderr",
     "output_type": "stream",
     "text": [
      "100%|██████████| 500/500 [00:32<00:00, 15.57it/s]\n"
     ]
    }
   ],
   "source": [
    "%matplotlib inline\n",
    "import matplotlib.pyplot as plt\n",
    "import numpy as np\n",
    "\n",
    "from dispatch.dispatch import Dispatch, NeuralDispatch\n",
    "from simulator.base_simulator import BaseSimulator\n",
    "from tqdm import tqdm\n",
    "\n",
    "dsp = NeuralDispatch(net)\n",
    "sim = BaseSimulator(dsp)\n",
    "\n",
    "all_metrics = []\n",
    "for i in tqdm(range(500)):\n",
    "    metrics = sim.GetMetrics()\n",
    "    all_metrics.append(metrics)\n",
    "    sim.Next()\n"
   ]
  },
  {
   "cell_type": "code",
   "execution_count": 12,
   "metadata": {},
   "outputs": [
    {
     "name": "stdout",
     "output_type": "stream",
     "text": [
      "CR:  0.5292722359989297\n"
     ]
    },
    {
     "data": {
      "image/png": "[encoded data removed]",
      "text/plain": [
       "<Figure size 432x288 with 1 Axes>"
      ]
     },
     "metadata": {
      "needs_background": "light"
     },
     "output_type": "display_data"
    },
    {
     "name": "stdout",
     "output_type": "stream",
     "text": [
      "current free couriers:  0.816\n",
      "current free orders:  20.83\n",
      "current active routes:  19.184\n"
     ]
    },
    {
     "data": {
      "image/png": "[encoded data removed]",
      "text/plain": [
       "<Figure size 432x288 with 1 Axes>"
      ]
     },
     "metadata": {
      "needs_background": "light"
     },
     "output_type": "display_data"
    }
   ],
   "source": [
    "def print_metrics(all_metrics):\n",
    "    plt.title('CR')\n",
    "    plt.plot([m['completed_orders'] / m['finished_orders'] for m in all_metrics if m['finished_orders'] != 0])\n",
    "    print('CR: ', np.mean([m['completed_orders'] / m['finished_orders'] for m in all_metrics if m['finished_orders'] != 0]))\n",
    "    plt.show()\n",
    "    plt.title('nums')\n",
    "    plt.plot([m['current_free_couriers'] for m in all_metrics], label='c')\n",
    "    plt.plot([m['current_free_orders'] for m in all_metrics], label='o')\n",
    "    plt.plot([m['current_active_routes'] for m in all_metrics], label='ar')\n",
    "    plt.legend()\n",
    "    print('current free couriers: ', np.mean([m['current_free_couriers'] for m in all_metrics]))\n",
    "    print('current free orders: ', np.mean([m['current_free_orders'] for m in all_metrics]))\n",
    "    print('current active routes: ', np.mean([m['current_active_routes'] for m in all_metrics]))\n",
    "\n",
    "print_metrics(all_metrics)"
   ]
  },
  {
   "cell_type": "code",
   "execution_count": 13,
   "metadata": {},
   "outputs": [
    {
     "data": {
      "text/plain": [
       "{'iter': 500,\n",
       " 'completed_orders': 436,\n",
       " 'finished_orders': 958,\n",
       " 'current_free_couriers': 0,\n",
       " 'current_free_orders': 22,\n",
       " 'current_active_routes': 20,\n",
       " 'total_eta': 10.109865439257533}"
      ]
     },
     "execution_count": 13,
     "metadata": {},
     "output_type": "execute_result"
    }
   ],
   "source": [
    "sim.GetMetrics()"
   ]
  },
  {
   "attachments": {},
   "cell_type": "markdown",
   "metadata": {},
   "source": [
    "Default dispatch's CR is 65% which is better than Neural dispatch 50%"
   ]
  },
  {
   "cell_type": "code",
   "execution_count": null,
   "metadata": {},
   "outputs": [],
   "source": []
  }
 ],
 "metadata": {
  "kernelspec": {
   "display_name": "Python 3",
   "language": "python",
   "name": "python3"
  },
  "language_info": {
   "codemirror_mode": {
    "name": "ipython",
    "version": 3
   },
   "file_extension": ".py",
   "mimetype": "text/x-python",
   "name": "python",
   "nbconvert_exporter": "python",
   "pygments_lexer": "ipython3",
   "version": "3.7.9"
  },
  "orig_nbformat": 4,
  "vscode": {
   "interpreter": {
    "hash": "a35fb83ac8e6ec7d775c8e4493051254ee64ddb3600bc3fef060a4811657ed17"
   }
  }
 },
 "nbformat": 4,
 "nbformat_minor": 2
}
