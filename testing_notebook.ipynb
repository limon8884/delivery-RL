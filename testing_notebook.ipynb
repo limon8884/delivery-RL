{
 "cells": [
  {
   "cell_type": "code",
   "execution_count": 1,
   "metadata": {},
   "outputs": [],
   "source": [
    "from typing import List, Tuple, Dict\n",
    "from utils import *\n",
    "import numpy as np\n",
    "import heapq\n",
    "import random\n",
    "import json\n",
    "\n",
    "from simulator.simulator import Simulator\n",
    "from objects.point import Point, get_random_point\n",
    "from objects.order import Order\n",
    "from objects.courier import Courier\n",
    "from objects.active_route import ActiveRoute\n",
    "from objects.gamble_triple import GambleTriple\n",
    "from objects.utils import *"
   ]
  },
  {
   "cell_type": "code",
   "execution_count": 2,
   "metadata": {},
   "outputs": [],
   "source": [
    "from dispatch.dispatch import Dispatch\n",
    "from tqdm import tqdm\n",
    "sim = Simulator()\n",
    "dsp = Dispatch() "
   ]
  },
  {
   "cell_type": "code",
   "execution_count": 33,
   "metadata": {},
   "outputs": [
    {
     "data": {
      "text/plain": [
       "[(1, 18), (2, 16), (3, 12)]"
      ]
     },
     "execution_count": 33,
     "metadata": {},
     "output_type": "execute_result"
    }
   ],
   "source": [
    "# sim = Simulator()\n",
    "# sim.Next([])\n",
    "# sim.Next([(0, 0)])\n",
    "# state = sim.GetState()\n",
    "\n",
    "# ass = [(state.orders[o_idx].id, state.couriers[c_idx].id) for o_idx, c_idx in dsp(state)]"
   ]
  },
  {
   "cell_type": "code",
   "execution_count": 3,
   "metadata": {},
   "outputs": [],
   "source": [
    "from networks.scoring_v1 import ScoringNet, ScoringInterface\n",
    "net = ScoringNet(\n",
    "    mode='default',\n",
    "    # point_encoder=point_encoder,\n",
    "    n_layers=2,\n",
    "    d_model=512,\n",
    "    n_head=4,\n",
    "    dim_ff=512,\n",
    "    point_enc_dim=64,\n",
    "    number_enc_dim=8,\n",
    "    device='cpu'\n",
    ")\n",
    "\n",
    "model = ScoringInterface(net)\n",
    "model.load_weights('pretrained_models/assignment_cloning_model_v2')\n"
   ]
  },
  {
   "cell_type": "code",
   "execution_count": 5,
   "metadata": {},
   "outputs": [
    {
     "name": "stdout",
     "output_type": "stream",
     "text": [
      "torch.Size([20, 512])\n"
     ]
    }
   ],
   "source": [
    "state = sim.GetState()\n",
    "model.encode_input([state], 0)"
   ]
  },
  {
   "cell_type": "code",
   "execution_count": 1,
   "metadata": {},
   "outputs": [
    {
     "data": {
      "text/plain": [
       "2"
      ]
     },
     "execution_count": 1,
     "metadata": {},
     "output_type": "execute_result"
    }
   ],
   "source": [
    "try:\n",
    "    x = 5 / 0\n",
    "except:\n",
    "    x = 2\n",
    "x"
   ]
  },
  {
   "cell_type": "code",
   "execution_count": 3,
   "metadata": {},
   "outputs": [
    {
     "data": {
      "text/plain": [
       "tensor([[True],\n",
       "        [True],\n",
       "        [True],\n",
       "        [True],\n",
       "        [True]])"
      ]
     },
     "execution_count": 3,
     "metadata": {},
     "output_type": "execute_result"
    }
   ],
   "source": [
    "import torch\n",
    "torch.ones((5, 1), dtype=torch.bool)"
   ]
  },
  {
   "cell_type": "code",
   "execution_count": 4,
   "metadata": {},
   "outputs": [
    {
     "data": {
      "text/plain": [
       "torch.Tensor"
      ]
     },
     "execution_count": 4,
     "metadata": {},
     "output_type": "execute_result"
    }
   ],
   "source": [
    "from networks.utils import create_mask\n",
    "type(create_mask([1, 3, 2], None))"
   ]
  },
  {
   "cell_type": "code",
   "execution_count": null,
   "metadata": {},
   "outputs": [],
   "source": []
  }
 ],
 "metadata": {
  "kernelspec": {
   "display_name": "Python 3",
   "language": "python",
   "name": "python3"
  },
  "language_info": {
   "codemirror_mode": {
    "name": "ipython",
    "version": 3
   },
   "file_extension": ".py",
   "mimetype": "text/x-python",
   "name": "python",
   "nbconvert_exporter": "python",
   "pygments_lexer": "ipython3",
   "version": "3.10.6"
  },
  "orig_nbformat": 4
 },
 "nbformat": 4,
 "nbformat_minor": 2
}
