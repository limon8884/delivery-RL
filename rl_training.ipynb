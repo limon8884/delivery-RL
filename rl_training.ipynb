{
 "cells": [
  {
   "cell_type": "code",
   "execution_count": 1,
   "metadata": {},
   "outputs": [
    {
     "name": "stderr",
     "output_type": "stream",
     "text": [
      "\n"
     ]
    }
   ],
   "source": [
    "%matplotlib inline\n",
    "import matplotlib.pyplot as plt\n",
    "import numpy as np\n",
    "import pandas as pd\n",
    "\n",
    "from utils import *\n",
    "from dispatch.dispatch import Dispatch, NeuralDispatch\n",
    "from simulator.base_simulator import BaseSimulator, ManualSimulator\n",
    "from simulator.simulator import Simulator\n",
    "from simulator.graphics import plot_CR, plot_counts\n",
    "from tqdm import tqdm\n",
    "import json\n",
    "\n",
    "import torch\n",
    "from networks.encoders.point_encoder import PointEncoder\n",
    "# from networks.scoring_v1 import ScoringNet, ScoringInterface\n",
    "\n",
    "from collections import defaultdict\n",
    "import matplotlib.pyplot as plt\n",
    "import torch\n",
    "from tensordict.nn import TensorDictModule\n",
    "from tensordict.nn.distributions import NormalParamExtractor\n",
    "from torch import nn\n",
    "import torch.nn.functional as F\n",
    "from torchrl.collectors import SyncDataCollector, MultiaSyncDataCollector, MultiSyncDataCollector\n",
    "from torchrl.data.replay_buffers import ReplayBuffer\n",
    "from torchrl.data.replay_buffers.samplers import SamplerWithoutReplacement\n",
    "from torchrl.data.replay_buffers.storages import LazyTensorStorage\n",
    "from torchrl.envs import (\n",
    "    Compose,\n",
    "    DoubleToFloat,\n",
    "    ObservationNorm,\n",
    "    StepCounter,\n",
    "    TransformedEnv,\n",
    ")\n",
    "from torchrl.envs.libs.gym import GymEnv\n",
    "from torchrl.envs.utils import check_env_specs, set_exploration_mode\n",
    "from torchrl.modules import ProbabilisticActor, TanhNormal, ValueOperator\n",
    "from torchrl.objectives import ClipPPOLoss\n",
    "from torchrl.objectives.value import GAE\n",
    "from torchrl.envs import EnvBase\n",
    "from tensordict.tensordict import TensorDictBase, TensorDict\n",
    "from typing import Optional\n",
    "import gym\n",
    "from torchrl.data import CompositeSpec, BoundedTensorSpec, UnboundedContinuousTensorSpec, BinaryDiscreteTensorSpec, OneHotDiscreteTensorSpec, DiscreteTensorSpec, UnboundedDiscreteTensorSpec\n",
    "\n",
    "from networks.scoring_networks.net1 import ScoringNet\n",
    "from networks.encoders.gamble_encoder import GambleTripleEncoder\n",
    "# import importlib\n",
    "# importlib.reload(utils)"
   ]
  },
  {
   "cell_type": "code",
   "execution_count": 2,
   "metadata": {},
   "outputs": [
    {
     "name": "stderr",
     "output_type": "stream",
     "text": [
      "Failed to detect the name of this notebook, you can set it manually with the WANDB_NOTEBOOK_NAME environment variable to enable code saving.\n",
      "\u001b[34m\u001b[1mwandb\u001b[0m: Currently logged in as: \u001b[33mlimon8884\u001b[0m. Use \u001b[1m`wandb login --relogin`\u001b[0m to force relogin\n"
     ]
    },
    {
     "data": {
      "text/plain": [
       "True"
      ]
     },
     "execution_count": 2,
     "metadata": {},
     "output_type": "execute_result"
    }
   ],
   "source": [
    "import wandb\n",
    "wandb.login()"
   ]
  },
  {
   "cell_type": "code",
   "execution_count": 3,
   "metadata": {},
   "outputs": [
    {
     "name": "stdout",
     "output_type": "stream",
     "text": [
      "cpu\n"
     ]
    }
   ],
   "source": [
    "device = torch.device('cuda:0') if torch.cuda.is_available() else torch.device('cpu')\n",
    "print(device)\n",
    "\n",
    "num_cells = 256  # number of cells in each layer\n",
    "lr = 3e-4\n",
    "max_grad_norm = 1.0\n",
    "\n",
    "frame_skip = 1\n",
    "frames_per_batch = 1000 // frame_skip\n",
    "# For a complete training, bring the number of frames up to 1M\n",
    "total_frames = 200_000 // frame_skip\n",
    "\n",
    "sub_batch_size = 4  # cardinality of the sub-samples gathered from the current data in the inner loop\n",
    "num_epochs = 10  # optimisation steps per batch of data collected\n",
    "clip_epsilon = (\n",
    "    0.2  # clip value for PPO loss: see the equation in the intro for more context.\n",
    ")\n",
    "gamma = 0.99\n",
    "lmbda = 0.95\n",
    "entropy_eps = 1e-4"
   ]
  },
  {
   "cell_type": "code",
   "execution_count": 4,
   "metadata": {},
   "outputs": [
    {
     "name": "stdout",
     "output_type": "stream",
     "text": [
      "gamble encoder weights loaded successfuly!\n"
     ]
    }
   ],
   "source": [
    "with open('configs/network_hyperparams.json') as f:\n",
    "    hyperparams = json.load(f)    \n",
    "\n",
    "net = ScoringNet(\n",
    "    n_layers=hyperparams['n_layers'],\n",
    "    d_model=hyperparams['d_model'],\n",
    "    n_head=hyperparams['n_head'],\n",
    "    dim_ff=hyperparams['dim_ff'],\n",
    "    device=device\n",
    ")\n",
    "encoder = GambleTripleEncoder(\n",
    "    number_enc_dim=hyperparams['number_enc_dim'], \n",
    "    d_model=hyperparams['d_model'], \n",
    "    point_enc_dim=hyperparams['point_enc_dim'],\n",
    "    path_weights='pretrained_models/assignment_cloning_model_v2/encoders/'\n",
    ")\n",
    "\n",
    "bounds = (Point(0, 0), Point(10, 10))\n",
    "# model = ScoringInterface(net)\n",
    "# model.load_weights('pretrained_models/assignment_cloning_model_v2')"
   ]
  },
  {
   "cell_type": "code",
   "execution_count": 40,
   "metadata": {},
   "outputs": [],
   "source": [
    "\n",
    "# triples = [random_triple(bounds) for _ in range(sub_batch_size)]\n",
    "\n",
    "# model.encode_input(triples, 0)\n",
    "# preds = model.inference()\n",
    "# mask = model.get_mask()\n",
    "\n",
    "# print(preds.shape, mask.shape)"
   ]
  },
  {
   "cell_type": "code",
   "execution_count": 41,
   "metadata": {},
   "outputs": [],
   "source": [
    "# encoder = GambleTripleEncoder(number_enc_dim=hyperparams['number_enc_dim'], d_model=hyperparams['d_model'], point_enc_dim=hyperparams['point_enc_dim'])\n",
    "# tensors, ids = encoder(triples[0], 0)"
   ]
  },
  {
   "cell_type": "code",
   "execution_count": 6,
   "metadata": {},
   "outputs": [],
   "source": [
    "from networks.utils import get_target_assignments, get_batch_embeddings_tensors, get_batch_masks, cross_entropy_assignment_loss, get_cross_mask\n",
    "\n",
    "with open('configs/training_settings.json') as f:\n",
    "    training_settings = json.load(f)   \n",
    "\n",
    "optimizer = torch.optim.SGD(net.parameters(), lr=training_settings['lr'], momentum=training_settings['momentum'])\n",
    "# scheduler = torch.optim.lr_scheduler.OneCycleLR(optimizer, max_lr=1e-3, epochs=n_epochs, steps_per_epoch=n_iters)\n",
    "scheduler = None"
   ]
  },
  {
   "cell_type": "code",
   "execution_count": 7,
   "metadata": {},
   "outputs": [
    {
     "data": {
      "text/html": [
       "Tracking run with wandb version 0.15.4"
      ],
      "text/plain": [
       "<IPython.core.display.HTML object>"
      ]
     },
     "metadata": {},
     "output_type": "display_data"
    },
    {
     "data": {
      "text/html": [
       "Run data is saved locally in <code>/Users/dbok/PycharmProjects/delivery-RL/delivery-RL/wandb/run-20230625_174045-0cpy6qbi</code>"
      ],
      "text/plain": [
       "<IPython.core.display.HTML object>"
      ]
     },
     "metadata": {},
     "output_type": "display_data"
    },
    {
     "data": {
      "text/html": [
       "Syncing run <strong><a href='https://wandb.ai/limon8884/delivery-RL/runs/0cpy6qbi' target=\"_blank\">test_launch_1</a></strong> to <a href='https://wandb.ai/limon8884/delivery-RL' target=\"_blank\">Weights & Biases</a> (<a href='https://wandb.me/run' target=\"_blank\">docs</a>)<br/>"
      ],
      "text/plain": [
       "<IPython.core.display.HTML object>"
      ]
     },
     "metadata": {},
     "output_type": "display_data"
    },
    {
     "data": {
      "text/html": [
       " View project at <a href='https://wandb.ai/limon8884/delivery-RL' target=\"_blank\">https://wandb.ai/limon8884/delivery-RL</a>"
      ],
      "text/plain": [
       "<IPython.core.display.HTML object>"
      ]
     },
     "metadata": {},
     "output_type": "display_data"
    },
    {
     "data": {
      "text/html": [
       " View run at <a href='https://wandb.ai/limon8884/delivery-RL/runs/0cpy6qbi' target=\"_blank\">https://wandb.ai/limon8884/delivery-RL/runs/0cpy6qbi</a>"
      ],
      "text/plain": [
       "<IPython.core.display.HTML object>"
      ]
     },
     "metadata": {},
     "output_type": "display_data"
    },
    {
     "data": {
      "text/html": [
       "<button onClick=\"this.nextSibling.style.display='block';this.style.display='none';\">Display W&B run</button><iframe src='https://wandb.ai/limon8884/delivery-RL/runs/0cpy6qbi?jupyter=true' style='border:none;width:100%;height:420px;display:none;'></iframe>"
      ],
      "text/plain": [
       "<wandb.sdk.wandb_run.Run at 0x163e83580>"
      ]
     },
     "execution_count": 7,
     "metadata": {},
     "output_type": "execute_result"
    }
   ],
   "source": [
    "wandb.init(\n",
    "      # Set the project where this run will be logged\n",
    "    project=\"delivery-RL\", \n",
    "      # We pass a run name (otherwise it’ll be randomly assigned, like sunshine-lollypop-10)\n",
    "    name=f\"test_launch_1\", \n",
    "      # Track hyperparameters and run metadata\n",
    "    config={\n",
    "        'hyperparams': hyperparams,\n",
    "        'training_settings': training_settings,\n",
    "        'device': device,\n",
    "    })"
   ]
  },
  {
   "cell_type": "code",
   "execution_count": 8,
   "metadata": {},
   "outputs": [
    {
     "name": "stdout",
     "output_type": "stream",
     "text": [
      "[5.618820667266846]\n",
      "[5.618820667266846, 13.820128440856934]\n"
     ]
    }
   ],
   "source": [
    "losses = []\n",
    "for epoch in range(training_settings['num_epochs']):\n",
    "    for iter in range(training_settings['num_iters_in_epoch']):\n",
    "        rolling_loss = []\n",
    "        triples = [random_triple(bounds) for _ in range(training_settings['batch_size'])]\n",
    "        max_num_ords = max([len(triple.orders) for triple in triples])\n",
    "        max_num_crrs = max([len(triple.couriers) for triple in triples])\n",
    "\n",
    "        target_assignment_idxs = []\n",
    "        embeds = []\n",
    "        for triple in triples:\n",
    "            target_assignment_idxs.append(get_target_assignments(triple, max_num_ords, max_num_crrs))\n",
    "            embeds.append(encoder(triple, 0)[0])\n",
    "\n",
    "        batch_embs = get_batch_embeddings_tensors(embeds)\n",
    "        batch_masks = get_batch_masks(triples)\n",
    "\n",
    "        optimizer.zero_grad()\n",
    "        pred_scores, _ = net(batch_embs, batch_masks)\n",
    "        loss = cross_entropy_assignment_loss(pred_scores, target_assignment_idxs, get_cross_mask(batch_masks))\n",
    "        loss.backward()\n",
    "        optimizer.step()\n",
    "        rolling_loss.append(loss.item())\n",
    "        # break\n",
    "        # print(assignments)\n",
    "        # print(50 * '-')\n",
    "        wandb.log({\"loss\": loss.item()})\n",
    "\n",
    "    losses.append(np.mean(rolling_loss))\n",
    "\n",
    "    print(losses)\n",
    "    wandb.finish()"
   ]
  },
  {
   "cell_type": "code",
   "execution_count": 7,
   "metadata": {},
   "outputs": [
    {
     "name": "stderr",
     "output_type": "stream",
     "text": [
      "100%|██████████| 1000/1000 [00:00<00:00, 3058.00it/s]\n"
     ]
    },
    {
     "name": "stdout",
     "output_type": "stream",
     "text": [
      "micro average CR:  0.6884973629991256\n",
      "macro average CR:  0.6863753213367609\n"
     ]
    },
    {
     "data": {
      "image/png": "[encoded data removed]",
      "text/plain": [
       "<Figure size 640x480 with 1 Axes>"
      ]
     },
     "metadata": {},
     "output_type": "display_data"
    },
    {
     "name": "stdout",
     "output_type": "stream",
     "text": [
      "average free couriers:  1.455\n",
      "average free orders:  13.289\n",
      "average active routes:  18.545\n"
     ]
    },
    {
     "data": {
      "image/png": "[encoded data removed]",
      "text/plain": [
       "<Figure size 640x480 with 1 Axes>"
      ]
     },
     "metadata": {},
     "output_type": "display_data"
    }
   ],
   "source": [
    "# dsp = NeuralDispatch(net)\n",
    "dsp = Dispatch()\n",
    "sim = Simulator()\n",
    "\n",
    "all_metrics = []\n",
    "for i in tqdm(range(1000)):\n",
    "    metrics = sim.GetMetrics()\n",
    "    all_metrics.append(metrics)\n",
    "    state = sim.GetState()\n",
    "    sim.Next(dsp(state))\n",
    "\n",
    "plot_CR(all_metrics)\n",
    "plot_counts(all_metrics)"
   ]
  },
  {
   "cell_type": "code",
   "execution_count": 8,
   "metadata": {},
   "outputs": [],
   "source": [
    "# # dsp = NeuralDispatch(net)\n",
    "# dsp = Dispatch()\n",
    "# sim = ManualSimulator()\n",
    "\n",
    "# all_metrics = []\n",
    "# for i in tqdm(range(1000)):\n",
    "#     metrics = sim.GetMetrics()\n",
    "#     all_metrics.append(metrics)\n",
    "#     ass = dsp(sim.GetState())\n",
    "#     sim.Next(ass)\n",
    "\n",
    "# plot_CR(all_metrics)\n",
    "# plot_counts(all_metrics)"
   ]
  },
  {
   "cell_type": "code",
   "execution_count": 8,
   "metadata": {},
   "outputs": [
    {
     "data": {
      "text/plain": [
       "torch.Size([4, 10])"
      ]
     },
     "execution_count": 8,
     "metadata": {},
     "output_type": "execute_result"
    }
   ],
   "source": [
    "# model.tensors['o'].shape\n",
    "model.masks['o'].shape"
   ]
  },
  {
   "cell_type": "code",
   "execution_count": 48,
   "metadata": {},
   "outputs": [],
   "source": [
    "class SimulatorEnv(EnvBase):\n",
    "    def __init__(self, simulator: type[Simulator], seed=None, device=\"cpu\"):\n",
    "        super().__init__(device=device, batch_size=[])\n",
    "\n",
    "        self.load_settings()\n",
    "        \n",
    "        # self.simulators = [simulator(seed=i) for i in range(sub_batch_size)]\n",
    "        self.simulator = simulator()\n",
    "        self.encoder = GambleTripleEncoder(number_enc_dim=self.number_enc_dim, d_model=self.d_model, point_enc_dim=self.point_enc_dim)\n",
    "        # self.model = ScoringInterface(net)\n",
    "        # triples = [simulator.GetState() for simulator in self.simulators]\n",
    "        # self.model.encode_input(triples, 0)\n",
    "        self._make_specs()\n",
    "        \n",
    "        if seed is None:\n",
    "            seed = torch.empty((), dtype=torch.long).random_().item()\n",
    "        self.set_seed(seed)\n",
    "\n",
    "    def load_settings(self):\n",
    "        with open('configs/rl_settings.json') as f:\n",
    "            settings = json.load(f)\n",
    "        self.max_num_orders = settings['max_num_orders']\n",
    "        self.max_num_couriers = settings['max_num_couriers']\n",
    "        self.max_num_active_routes = settings['max_num_active_routes']\n",
    "\n",
    "        with open('configs/network_hyperparams.json') as f:\n",
    "            hyperparams = json.load(f)\n",
    "        self.number_enc_dim = hyperparams['number_enc_dim']\n",
    "        self.d_model = hyperparams['d_model']\n",
    "        self.point_enc_dim = hyperparams['point_enc_dim']\n",
    "\n",
    "\n",
    "    def make_masks(self, tensors):\n",
    "        masks = {\n",
    "            'o': torch.tensor([True] + [False] * (len(tensors['o']) - 1), device=device, dtype=torch.bool),\n",
    "            'c': torch.tensor([True] + [False] * (len(tensors['c']) - 1), device=device, dtype=torch.bool),\n",
    "            'ar': torch.tensor([True] + [False] * (len(tensors['ar']) - 1), device=device, dtype=torch.bool)\n",
    "        }\n",
    "\n",
    "        return masks\n",
    "    \n",
    "    def pad_tensors(self, tensors, masks, ids):\n",
    "        '''\n",
    "        Pads tensors to max_limits inplace\n",
    "        '''\n",
    "        max_limits = {\n",
    "            'o': self.max_num_orders,\n",
    "            'c': self.max_num_couriers,\n",
    "            'ar': self.max_num_active_routes\n",
    "        }\n",
    "        for item_type in ['o', 'c', 'ar']:\n",
    "            length = tensors[item_type].shape[0]\n",
    "            tensors[item_type] = F.pad(input=tensors[item_type], pad=(0, 0, 0, max_limits[item_type] - length), mode='constant', value=0.0)\n",
    "            masks[item_type] = F.pad(input=masks[item_type], pad=(0, max_limits[item_type] - length), mode='constant', value=True)\n",
    "            ids[item_type] = F.pad(input=ids[item_type], pad=(0, max_limits[item_type] - length), mode='constant', value=-1)\n",
    "\n",
    "        \n",
    "    def _step(self, tensordict: TensorDictBase) -> TensorDictBase:\n",
    "        '''\n",
    "        tensordict['action'] - a np.array of indexes (not IDs) of couriers assigned for the given order. If there is no courier assigned -1 is provided.\n",
    "        BOS-fake items are included.\n",
    "        '''\n",
    "\n",
    "        assignments = []\n",
    "        assigned_o_idxs = set()\n",
    "        assigned_c_idxs = set()\n",
    "        for o_idx, c_idx in enumerate(tensordict['action'].numpy()):\n",
    "            if c_idx != - 1 \\\n",
    "                and not tensordict['observation', 'masks', 'o'][o_idx] \\\n",
    "                and not tensordict['observation', 'masks', 'c'][c_idx] \\\n",
    "                and (o_idx not in assigned_o_idxs) and (c_idx not in assigned_c_idxs) \\\n",
    "            :\n",
    "                assignment = (tensordict['observation', 'ids', 'o'][o_idx].item(), tensordict['observation', 'ids', 'c'][c_idx].item())\n",
    "                assignments.append(assignment)\n",
    "                assigned_o_idxs.add(o_idx)\n",
    "                assigned_c_idxs.add(c_idx)\n",
    "\n",
    "        # print(assignments)\n",
    "        # print(self.simulator.GetState())\n",
    "        self.simulator.Next(assignments)\n",
    "        triple = self.simulator.GetState()\n",
    "        tensors, ids = self.encoder(triple, 0)\n",
    "        masks = self.make_masks(tensors)\n",
    "        self.pad_tensors(tensors, masks, ids)\n",
    "\n",
    "        out = TensorDict(\n",
    "            {\n",
    "                \"next\": {\n",
    "                    \"observation\": {\n",
    "                        'tensors': {\n",
    "                            'o': tensors['o'],\n",
    "                            'c': tensors['c'],\n",
    "                            'ar': tensors['ar']     \n",
    "                        },\n",
    "                        'masks': {\n",
    "                            'o': masks['o'],\n",
    "                            'c': masks['c'],\n",
    "                            'ar': masks['ar']     \n",
    "                        },\n",
    "                        'ids': {\n",
    "                            'o': ids['o'],\n",
    "                            'c': ids['c'],\n",
    "                            'ar': ids['ar']\n",
    "                        }\n",
    "                    },\n",
    "                    \"reward\": torch.tensor(0, dtype=torch.float32),\n",
    "                    \"done\": torch.tensor(False, dtype=torch.bool),\n",
    "                    # \"reward\": torch.tensor([0] * sub_batch_size, dtype=torch.float32),\n",
    "                    # \"done\": torch.tensor([False] * sub_batch_size, dtype=torch.bool),\n",
    "                }\n",
    "            },\n",
    "            tensordict.shape\n",
    "            # batch_size=tensordict.shape[0]\n",
    "        )\n",
    "        # print(out['next', 'observation', 'ids', 'o'])\n",
    "        return out\n",
    "    \n",
    "    def _reset(self, tensordict: TensorDictBase) -> TensorDictBase:\n",
    "        if tensordict is None or tensordict.is_empty():\n",
    "            triple = self.simulator.GetState()\n",
    "            tensors, ids = self.encoder(triple, 0)\n",
    "            masks = self.make_masks(tensors)\n",
    "            self.pad_tensors(tensors, masks, ids)\n",
    "            \n",
    "            return TensorDict(\n",
    "            {\n",
    "                \"observation\": {\n",
    "                    'tensors': {\n",
    "                        'o': tensors['o'],\n",
    "                        'c': tensors['c'],\n",
    "                        'ar': tensors['ar']     \n",
    "                    },\n",
    "                    'masks': {\n",
    "                        'o': masks['o'],\n",
    "                        'c': masks['c'],\n",
    "                        'ar': masks['ar']     \n",
    "                    },\n",
    "                    'ids': {\n",
    "                        'o': ids['o'],\n",
    "                        'c': ids['c'],\n",
    "                        'ar': ids['ar']\n",
    "                    }\n",
    "                }\n",
    "            },\n",
    "            # batch_size=[sub_batch_size]\n",
    "            batch_size=self.batch_size\n",
    "        ) \n",
    "        return tensordict\n",
    "    \n",
    "    def _set_seed(self, seed: Optional[int]):\n",
    "        rng = torch.manual_seed(seed)\n",
    "        self.rng = rng\n",
    "\n",
    "    def _make_specs(self) -> None:\n",
    "        self.action_spec = DiscreteTensorSpec(\n",
    "            n=self.max_num_couriers,\n",
    "            dtype=torch.int,\n",
    "            shape=[self.max_num_orders]\n",
    "        )\n",
    "        observation_spec = CompositeSpec(\n",
    "            tensors = CompositeSpec(\n",
    "                o = UnboundedContinuousTensorSpec(\n",
    "                    shape=[self.max_num_orders, self.encoder.d_model],\n",
    "                    dtype=torch.float\n",
    "                ),\n",
    "                c = UnboundedContinuousTensorSpec(\n",
    "                    shape=[self.max_num_couriers, self.encoder.d_model],\n",
    "                    dtype=torch.float\n",
    "                ),\n",
    "                ar = UnboundedContinuousTensorSpec(\n",
    "                    shape=[self.max_num_active_routes, self.encoder.d_model],\n",
    "                    dtype=torch.float\n",
    "                ),\n",
    "                # shape=[sub_batch_size]\n",
    "            ),\n",
    "            masks = CompositeSpec(\n",
    "                o = DiscreteTensorSpec(\n",
    "                    n=2,\n",
    "                    dtype=torch.bool,\n",
    "                    shape=[self.max_num_orders]\n",
    "                ),\n",
    "                c = DiscreteTensorSpec(\n",
    "                    n=2,\n",
    "                    dtype=torch.bool,\n",
    "                    shape=[self.max_num_couriers]\n",
    "                ),\n",
    "                ar = DiscreteTensorSpec(\n",
    "                    n=2,\n",
    "                    dtype=torch.bool,\n",
    "                    shape=[self.max_num_active_routes]\n",
    "                ),\n",
    "                # shape=[sub_batch_size]\n",
    "            ),\n",
    "            ids = CompositeSpec(\n",
    "                o = UnboundedDiscreteTensorSpec(\n",
    "                    dtype=torch.int,\n",
    "                    shape=[self.max_num_orders]\n",
    "                ),\n",
    "                c = UnboundedDiscreteTensorSpec(\n",
    "                    dtype=torch.int,\n",
    "                    shape=[self.max_num_couriers]\n",
    "                ),\n",
    "                ar = UnboundedDiscreteTensorSpec(\n",
    "                    dtype=torch.int,\n",
    "                    shape=[self.max_num_active_routes]\n",
    "                ),\n",
    "                # shape=[sub_batch_size]\n",
    "            ), \n",
    "            # shape=[sub_batch_size]\n",
    "        )\n",
    "        # if not isinstance(observation_spec, CompositeSpec):\n",
    "        observation_spec = CompositeSpec(observation=observation_spec) # shape=[sub_batch_size]\n",
    "            \n",
    "        self.observation_spec = observation_spec\n",
    "        self.reward_spec = UnboundedContinuousTensorSpec(\n",
    "            # shape=[sub_batch_size],\n",
    "            shape=[1],\n",
    "            dtype=torch.float32,\n",
    "        )\n",
    "        self.done_spec = BinaryDiscreteTensorSpec(\n",
    "            # n=sub_batch_size,\n",
    "            # shape=[sub_batch_size],\n",
    "            n=1,\n",
    "            shape=[1],\n",
    "            dtype=torch.bool\n",
    "        )\n",
    " "
   ]
  },
  {
   "cell_type": "code",
   "execution_count": 49,
   "metadata": {},
   "outputs": [],
   "source": [
    "my_env = SimulatorEnv(Simulator)"
   ]
  },
  {
   "cell_type": "code",
   "execution_count": 50,
   "metadata": {},
   "outputs": [],
   "source": [
    "env = TransformedEnv(\n",
    "    my_env,\n",
    "    # Compose(\n",
    "    #     # normalize observations\n",
    "    #     # ObservationNorm(in_keys=[\"observation\"]),\n",
    "    #     # DoubleToFloat(in_keys=[\"observation\"]),\n",
    "    #     StepCounter(),\n",
    "    # ),\n",
    ")"
   ]
  },
  {
   "cell_type": "code",
   "execution_count": 51,
   "metadata": {},
   "outputs": [
    {
     "name": "stdout",
     "output_type": "stream",
     "text": [
      "observation_spec: CompositeSpec(\n",
      "    observation: CompositeSpec(\n",
      "        tensors: CompositeSpec(\n",
      "            o: UnboundedContinuousTensorSpec(\n",
      "                 shape=torch.Size([100, 512]), space=None, device=cpu, dtype=torch.float32, domain=continuous),\n",
      "            c: UnboundedContinuousTensorSpec(\n",
      "                 shape=torch.Size([100, 512]), space=None, device=cpu, dtype=torch.float32, domain=continuous),\n",
      "            ar: UnboundedContinuousTensorSpec(\n",
      "                 shape=torch.Size([100, 512]), space=None, device=cpu, dtype=torch.float32, domain=continuous), device=cpu, shape=torch.Size([])),\n",
      "        masks: CompositeSpec(\n",
      "            o: DiscreteTensorSpec(\n",
      "                 shape=torch.Size([100]), space=DiscreteBox(n=2), device=cpu, dtype=torch.bool, domain=discrete),\n",
      "            c: DiscreteTensorSpec(\n",
      "                 shape=torch.Size([100]), space=DiscreteBox(n=2), device=cpu, dtype=torch.bool, domain=discrete),\n",
      "            ar: DiscreteTensorSpec(\n",
      "                 shape=torch.Size([100]), space=DiscreteBox(n=2), device=cpu, dtype=torch.bool, domain=discrete), device=cpu, shape=torch.Size([])),\n",
      "        ids: CompositeSpec(\n",
      "            o: UnboundedDiscreteTensorSpec(\n",
      "                 shape=torch.Size([100]), space=ContinuousBox(minimum=Tensor(shape=torch.Size([100]), device=cpu, dtype=torch.int64, contiguous=True), maximum=Tensor(shape=torch.Size([100]), device=cpu, dtype=torch.int64, contiguous=True)), device=cpu, dtype=torch.int32, domain=continuous),\n",
      "            c: UnboundedDiscreteTensorSpec(\n",
      "                 shape=torch.Size([100]), space=ContinuousBox(minimum=Tensor(shape=torch.Size([100]), device=cpu, dtype=torch.int64, contiguous=True), maximum=Tensor(shape=torch.Size([100]), device=cpu, dtype=torch.int64, contiguous=True)), device=cpu, dtype=torch.int32, domain=continuous),\n",
      "            ar: UnboundedDiscreteTensorSpec(\n",
      "                 shape=torch.Size([100]), space=ContinuousBox(minimum=Tensor(shape=torch.Size([100]), device=cpu, dtype=torch.int64, contiguous=True), maximum=Tensor(shape=torch.Size([100]), device=cpu, dtype=torch.int64, contiguous=True)), device=cpu, dtype=torch.int32, domain=continuous), device=cpu, shape=torch.Size([])), device=cpu, shape=torch.Size([])), device=cpu, shape=torch.Size([]))\n",
      "reward_spec: UnboundedContinuousTensorSpec(\n",
      "     shape=torch.Size([1]), space=None, device=cpu, dtype=torch.float32, domain=continuous)\n",
      "input_spec: CompositeSpec(\n",
      "    action: DiscreteTensorSpec(\n",
      "         shape=torch.Size([100]), space=DiscreteBox(n=100), device=cpu, dtype=torch.int32, domain=discrete), device=cpu, shape=torch.Size([]))\n",
      "action_spec (as defined by input_spec): DiscreteTensorSpec(\n",
      "     shape=torch.Size([100]), space=DiscreteBox(n=100), device=cpu, dtype=torch.int32, domain=discrete)\n"
     ]
    }
   ],
   "source": [
    "# env.transform[0].init_stats(num_iter=1000, reduce_dim=0, cat_dim=0)\n",
    "# print(\"normalization constant shape:\", env.transform[0].loc.shape)\n",
    "print(\"observation_spec:\", my_env.observation_spec)\n",
    "print(\"reward_spec:\", my_env.reward_spec)\n",
    "print(\"input_spec:\", my_env.input_spec)\n",
    "print(\"action_spec (as defined by input_spec):\", my_env.action_spec)"
   ]
  },
  {
   "cell_type": "code",
   "execution_count": 52,
   "metadata": {},
   "outputs": [
    {
     "name": "stdout",
     "output_type": "stream",
     "text": [
      "check_env_specs succeeded!\n"
     ]
    }
   ],
   "source": [
    "check_env_specs(my_env)"
   ]
  },
  {
   "cell_type": "code",
   "execution_count": 53,
   "metadata": {},
   "outputs": [
    {
     "name": "stdout",
     "output_type": "stream",
     "text": [
      "rollout of three steps: TensorDict(\n",
      "    fields={\n",
      "        action: Tensor(shape=torch.Size([10, 100]), device=cpu, dtype=torch.int32, is_shared=False),\n",
      "        done: Tensor(shape=torch.Size([10, 1]), device=cpu, dtype=torch.bool, is_shared=False),\n",
      "        next: TensorDict(\n",
      "            fields={\n",
      "                done: Tensor(shape=torch.Size([10, 1]), device=cpu, dtype=torch.bool, is_shared=False),\n",
      "                observation: TensorDict(\n",
      "                    fields={\n",
      "                        ids: TensorDict(\n",
      "                            fields={\n",
      "                                ar: Tensor(shape=torch.Size([10, 100]), device=cpu, dtype=torch.int32, is_shared=False),\n",
      "                                c: Tensor(shape=torch.Size([10, 100]), device=cpu, dtype=torch.int32, is_shared=False),\n",
      "                                o: Tensor(shape=torch.Size([10, 100]), device=cpu, dtype=torch.int32, is_shared=False)},\n",
      "                            batch_size=torch.Size([10]),\n",
      "                            device=cpu,\n",
      "                            is_shared=False),\n",
      "                        masks: TensorDict(\n",
      "                            fields={\n",
      "                                ar: Tensor(shape=torch.Size([10, 100]), device=cpu, dtype=torch.bool, is_shared=False),\n",
      "                                c: Tensor(shape=torch.Size([10, 100]), device=cpu, dtype=torch.bool, is_shared=False),\n",
      "                                o: Tensor(shape=torch.Size([10, 100]), device=cpu, dtype=torch.bool, is_shared=False)},\n",
      "                            batch_size=torch.Size([10]),\n",
      "                            device=cpu,\n",
      "                            is_shared=False),\n",
      "                        tensors: TensorDict(\n",
      "                            fields={\n",
      "                                ar: Tensor(shape=torch.Size([10, 100, 512]), device=cpu, dtype=torch.float32, is_shared=False),\n",
      "                                c: Tensor(shape=torch.Size([10, 100, 512]), device=cpu, dtype=torch.float32, is_shared=False),\n",
      "                                o: Tensor(shape=torch.Size([10, 100, 512]), device=cpu, dtype=torch.float32, is_shared=False)},\n",
      "                            batch_size=torch.Size([10]),\n",
      "                            device=cpu,\n",
      "                            is_shared=False)},\n",
      "                    batch_size=torch.Size([10]),\n",
      "                    device=cpu,\n",
      "                    is_shared=False),\n",
      "                reward: Tensor(shape=torch.Size([10, 1]), device=cpu, dtype=torch.float32, is_shared=False)},\n",
      "            batch_size=torch.Size([10]),\n",
      "            device=cpu,\n",
      "            is_shared=False),\n",
      "        observation: TensorDict(\n",
      "            fields={\n",
      "                ids: TensorDict(\n",
      "                    fields={\n",
      "                        ar: Tensor(shape=torch.Size([10, 100]), device=cpu, dtype=torch.int32, is_shared=False),\n",
      "                        c: Tensor(shape=torch.Size([10, 100]), device=cpu, dtype=torch.int32, is_shared=False),\n",
      "                        o: Tensor(shape=torch.Size([10, 100]), device=cpu, dtype=torch.int32, is_shared=False)},\n",
      "                    batch_size=torch.Size([10]),\n",
      "                    device=cpu,\n",
      "                    is_shared=False),\n",
      "                masks: TensorDict(\n",
      "                    fields={\n",
      "                        ar: Tensor(shape=torch.Size([10, 100]), device=cpu, dtype=torch.bool, is_shared=False),\n",
      "                        c: Tensor(shape=torch.Size([10, 100]), device=cpu, dtype=torch.bool, is_shared=False),\n",
      "                        o: Tensor(shape=torch.Size([10, 100]), device=cpu, dtype=torch.bool, is_shared=False)},\n",
      "                    batch_size=torch.Size([10]),\n",
      "                    device=cpu,\n",
      "                    is_shared=False),\n",
      "                tensors: TensorDict(\n",
      "                    fields={\n",
      "                        ar: Tensor(shape=torch.Size([10, 100, 512]), device=cpu, dtype=torch.float32, is_shared=False),\n",
      "                        c: Tensor(shape=torch.Size([10, 100, 512]), device=cpu, dtype=torch.float32, is_shared=False),\n",
      "                        o: Tensor(shape=torch.Size([10, 100, 512]), device=cpu, dtype=torch.float32, is_shared=False)},\n",
      "                    batch_size=torch.Size([10]),\n",
      "                    device=cpu,\n",
      "                    is_shared=False)},\n",
      "            batch_size=torch.Size([10]),\n",
      "            device=cpu,\n",
      "            is_shared=False),\n",
      "        reward: Tensor(shape=torch.Size([10, 1]), device=cpu, dtype=torch.float32, is_shared=False)},\n",
      "    batch_size=torch.Size([10]),\n",
      "    device=cpu,\n",
      "    is_shared=False)\n",
      "Shape of the rollout TensorDict: torch.Size([10])\n"
     ]
    },
    {
     "data": {
      "text/plain": [
       "torch.Size([10])"
      ]
     },
     "execution_count": 53,
     "metadata": {},
     "output_type": "execute_result"
    }
   ],
   "source": [
    "rollout = my_env.rollout(10)\n",
    "print(\"rollout of three steps:\", rollout)\n",
    "print(\"Shape of the rollout TensorDict:\", rollout.batch_size)\n",
    "rollout.batch_size"
   ]
  },
  {
   "cell_type": "code",
   "execution_count": 54,
   "metadata": {},
   "outputs": [],
   "source": [
    "module = TensorDictModule(\n",
    "    net, in_keys=[('observation', 'tensors'), ('observation', 'masks')], out_keys=['logits', 'values']\n",
    ")"
   ]
  },
  {
   "cell_type": "code",
   "execution_count": 17,
   "metadata": {},
   "outputs": [],
   "source": [
    "# td = my_env.reset()\n",
    "# net(td['observation', 'tensors'].to_dict(), td['observation', 'masks'].to_dict())\n",
    "# td['observation', 'tensors'].to_dict()"
   ]
  },
  {
   "cell_type": "code",
   "execution_count": 55,
   "metadata": {},
   "outputs": [
    {
     "name": "stdout",
     "output_type": "stream",
     "text": [
      "Running policy: torch.Size([])\n"
     ]
    }
   ],
   "source": [
    "print(\"Running policy:\", module(my_env.reset()).shape)\n",
    "# env.reset()"
   ]
  },
  {
   "cell_type": "code",
   "execution_count": 22,
   "metadata": {},
   "outputs": [],
   "source": [
    "# for i in [0, 1, 2, 3]:\n",
    "#     print(my_env.simulators[i].GetMetrics())\n",
    "#     print('-'* 50)\n"
   ]
  },
  {
   "cell_type": "code",
   "execution_count": 56,
   "metadata": {},
   "outputs": [],
   "source": [
    "# from tensordict.nn.distributions import Categorical\n",
    "from torch.distributions.categorical import Categorical\n",
    "policy_module_actor = ProbabilisticActor(\n",
    "    module=module,\n",
    "    in_keys=[\"logits\"],\n",
    "    distribution_class=Categorical,\n",
    "    # distribution_kwargs={\n",
    "    #     \"n\": env.action_spec.space.n,\n",
    "    # },\n",
    "    return_log_prob=True,\n",
    "    # we'll need the log-prob for the numerator of the importance weights\n",
    ")"
   ]
  },
  {
   "cell_type": "code",
   "execution_count": 57,
   "metadata": {},
   "outputs": [],
   "source": [
    "class LogPolicyAvg(nn.Module):\n",
    "    def __init__(self):\n",
    "        super().__init__()\n",
    "\n",
    "    def forward(self, input, mask):\n",
    "        assert (len(input.shape) == 2 and len(mask.shape) == 2) or (len(input.shape) == 1 and len(mask.shape) == 1), 'dims should be [bs, ord] or [ord]'\n",
    "\n",
    "        sums = torch.sum(torch.where(mask, input, 0), dim=-1)\n",
    "        nums = torch.sum(torch.where(mask, 1, 0), dim=-1)\n",
    "\n",
    "        return torch.where(nums > 0, sums / nums, 0)"
   ]
  },
  {
   "cell_type": "code",
   "execution_count": 58,
   "metadata": {},
   "outputs": [],
   "source": [
    "from tensordict.nn import TensorDictModule, TensorDictSequential\n",
    "final_module = TensorDictSequential(\n",
    "    policy_module_actor,\n",
    "    TensorDictModule(LogPolicyAvg(), in_keys=['sample_log_prob', ('observation', 'masks', 'o')], out_keys=['sample_log_prob']),\n",
    ")\n"
   ]
  },
  {
   "cell_type": "code",
   "execution_count": 40,
   "metadata": {},
   "outputs": [],
   "source": [
    "# value_module = ValueOperator(\n",
    "#     module=net,\n",
    "#     in_keys=[('observation', 'tensors'), ('observation', 'masks')], \n",
    "#     out_keys=['logits', 'values']\n",
    "# )"
   ]
  },
  {
   "cell_type": "code",
   "execution_count": 59,
   "metadata": {},
   "outputs": [],
   "source": [
    "collector = SyncDataCollector(\n",
    "    my_env,\n",
    "    policy_module_actor,\n",
    "    frames_per_batch=1,\n",
    "    total_frames=5,\n",
    "    split_trajs=False,\n",
    "    device=device,\n",
    ")"
   ]
  },
  {
   "cell_type": "code",
   "execution_count": 60,
   "metadata": {},
   "outputs": [
    {
     "ename": "IndexError",
     "evalue": "index 100 is out of bounds for dimension 0 with size 100",
     "output_type": "error",
     "traceback": [
      "\u001b[0;31m---------------------------------------------------------------------------\u001b[0m",
      "\u001b[0;31mIndexError\u001b[0m                                Traceback (most recent call last)",
      "\u001b[1;32m/Users/dbok/PycharmProjects/delivery-RL/delivery-RL/rl_training.ipynb Cell 26\u001b[0m in \u001b[0;36m1\n\u001b[0;32m----> <a href='vscode-notebook-cell:/Users/dbok/PycharmProjects/delivery-RL/delivery-RL/rl_training.ipynb#X34sZmlsZQ%3D%3D?line=0'>1</a>\u001b[0m \u001b[39mfor\u001b[39;00m i, c \u001b[39min\u001b[39;00m \u001b[39menumerate\u001b[39m(collector):\n\u001b[1;32m      <a href='vscode-notebook-cell:/Users/dbok/PycharmProjects/delivery-RL/delivery-RL/rl_training.ipynb#X34sZmlsZQ%3D%3D?line=1'>2</a>\u001b[0m     \u001b[39mif\u001b[39;00m i \u001b[39m==\u001b[39m \u001b[39m1\u001b[39m:\n\u001b[1;32m      <a href='vscode-notebook-cell:/Users/dbok/PycharmProjects/delivery-RL/delivery-RL/rl_training.ipynb#X34sZmlsZQ%3D%3D?line=2'>3</a>\u001b[0m         \u001b[39mbreak\u001b[39;00m\n",
      "File \u001b[0;32m/usr/local/lib/python3.10/site-packages/torchrl/collectors/collectors.py:596\u001b[0m, in \u001b[0;36mSyncDataCollector.iterator\u001b[0;34m(self)\u001b[0m\n\u001b[1;32m    594\u001b[0m i \u001b[39m+\u001b[39m\u001b[39m=\u001b[39m \u001b[39m1\u001b[39m\n\u001b[1;32m    595\u001b[0m \u001b[39mself\u001b[39m\u001b[39m.\u001b[39m_iter \u001b[39m=\u001b[39m i\n\u001b[0;32m--> 596\u001b[0m tensordict_out \u001b[39m=\u001b[39m \u001b[39mself\u001b[39;49m\u001b[39m.\u001b[39;49mrollout()\n\u001b[1;32m    597\u001b[0m \u001b[39mself\u001b[39m\u001b[39m.\u001b[39m_frames \u001b[39m+\u001b[39m\u001b[39m=\u001b[39m tensordict_out\u001b[39m.\u001b[39mnumel()\n\u001b[1;32m    598\u001b[0m \u001b[39mif\u001b[39;00m \u001b[39mself\u001b[39m\u001b[39m.\u001b[39m_frames \u001b[39m>\u001b[39m\u001b[39m=\u001b[39m total_frames:\n",
      "File \u001b[0;32m/usr/local/lib/python3.10/site-packages/torchrl/_utils.py:296\u001b[0m, in \u001b[0;36maccept_remote_rref_invocation.<locals>.unpack_rref_and_invoke_function\u001b[0;34m(self, *args, **kwargs)\u001b[0m\n\u001b[1;32m    294\u001b[0m \u001b[39mif\u001b[39;00m \u001b[39mnot\u001b[39;00m _os_is_windows \u001b[39mand\u001b[39;00m \u001b[39misinstance\u001b[39m(\u001b[39mself\u001b[39m, torch\u001b[39m.\u001b[39m_C\u001b[39m.\u001b[39m_distributed_rpc\u001b[39m.\u001b[39mPyRRef):\n\u001b[1;32m    295\u001b[0m     \u001b[39mself\u001b[39m \u001b[39m=\u001b[39m \u001b[39mself\u001b[39m\u001b[39m.\u001b[39mlocal_value()\n\u001b[0;32m--> 296\u001b[0m \u001b[39mreturn\u001b[39;00m func(\u001b[39mself\u001b[39;49m, \u001b[39m*\u001b[39;49margs, \u001b[39m*\u001b[39;49m\u001b[39m*\u001b[39;49mkwargs)\n",
      "File \u001b[0;32m/usr/local/lib/python3.10/site-packages/torch/utils/_contextlib.py:115\u001b[0m, in \u001b[0;36mcontext_decorator.<locals>.decorate_context\u001b[0;34m(*args, **kwargs)\u001b[0m\n\u001b[1;32m    112\u001b[0m \u001b[39m@functools\u001b[39m\u001b[39m.\u001b[39mwraps(func)\n\u001b[1;32m    113\u001b[0m \u001b[39mdef\u001b[39;00m \u001b[39mdecorate_context\u001b[39m(\u001b[39m*\u001b[39margs, \u001b[39m*\u001b[39m\u001b[39m*\u001b[39mkwargs):\n\u001b[1;32m    114\u001b[0m     \u001b[39mwith\u001b[39;00m ctx_factory():\n\u001b[0;32m--> 115\u001b[0m         \u001b[39mreturn\u001b[39;00m func(\u001b[39m*\u001b[39;49margs, \u001b[39m*\u001b[39;49m\u001b[39m*\u001b[39;49mkwargs)\n",
      "File \u001b[0;32m/usr/local/lib/python3.10/site-packages/torchrl/collectors/collectors.py:687\u001b[0m, in \u001b[0;36mSyncDataCollector.rollout\u001b[0;34m(self)\u001b[0m\n\u001b[1;32m    685\u001b[0m     \u001b[39mself\u001b[39m\u001b[39m.\u001b[39menv\u001b[39m.\u001b[39mrand_step(\u001b[39mself\u001b[39m\u001b[39m.\u001b[39m_tensordict)\n\u001b[1;32m    686\u001b[0m \u001b[39melse\u001b[39;00m:\n\u001b[0;32m--> 687\u001b[0m     \u001b[39mself\u001b[39;49m\u001b[39m.\u001b[39;49menv\u001b[39m.\u001b[39;49mstep(\u001b[39mself\u001b[39;49m\u001b[39m.\u001b[39;49mpolicy(\u001b[39mself\u001b[39;49m\u001b[39m.\u001b[39;49m_tensordict))\n\u001b[1;32m    689\u001b[0m \u001b[39m# we must clone all the values, since the step / traj_id updates are done in-place\u001b[39;00m\n\u001b[1;32m    690\u001b[0m \u001b[39mtry\u001b[39;00m:\n",
      "File \u001b[0;32m/usr/local/lib/python3.10/site-packages/torchrl/envs/common.py:371\u001b[0m, in \u001b[0;36mEnvBase.step\u001b[0;34m(self, tensordict)\u001b[0m\n\u001b[1;32m    368\u001b[0m \u001b[39mself\u001b[39m\u001b[39m.\u001b[39m_assert_tensordict_shape(tensordict)\n\u001b[1;32m    370\u001b[0m tensordict\u001b[39m.\u001b[39mlock_()  \u001b[39m# make sure _step does not modify the tensordict\u001b[39;00m\n\u001b[0;32m--> 371\u001b[0m tensordict_out \u001b[39m=\u001b[39m \u001b[39mself\u001b[39;49m\u001b[39m.\u001b[39;49m_step(tensordict)\n\u001b[1;32m    372\u001b[0m \u001b[39m# this tensordict should contain a \"next\" key\u001b[39;00m\n\u001b[1;32m    373\u001b[0m next_tensordict_out \u001b[39m=\u001b[39m tensordict_out\u001b[39m.\u001b[39mget(\u001b[39m\"\u001b[39m\u001b[39mnext\u001b[39m\u001b[39m\"\u001b[39m, \u001b[39mNone\u001b[39;00m)\n",
      "\u001b[1;32m/Users/dbok/PycharmProjects/delivery-RL/delivery-RL/rl_training.ipynb Cell 26\u001b[0m in \u001b[0;36m7\n\u001b[1;32m     <a href='vscode-notebook-cell:/Users/dbok/PycharmProjects/delivery-RL/delivery-RL/rl_training.ipynb#X34sZmlsZQ%3D%3D?line=65'>66</a>\u001b[0m assigned_c_idxs \u001b[39m=\u001b[39m \u001b[39mset\u001b[39m()\n\u001b[1;32m     <a href='vscode-notebook-cell:/Users/dbok/PycharmProjects/delivery-RL/delivery-RL/rl_training.ipynb#X34sZmlsZQ%3D%3D?line=66'>67</a>\u001b[0m \u001b[39mfor\u001b[39;00m o_idx, c_idx \u001b[39min\u001b[39;00m \u001b[39menumerate\u001b[39m(tensordict[\u001b[39m'\u001b[39m\u001b[39maction\u001b[39m\u001b[39m'\u001b[39m]\u001b[39m.\u001b[39mnumpy()):\n\u001b[1;32m     <a href='vscode-notebook-cell:/Users/dbok/PycharmProjects/delivery-RL/delivery-RL/rl_training.ipynb#X34sZmlsZQ%3D%3D?line=67'>68</a>\u001b[0m     \u001b[39mif\u001b[39;00m c_idx \u001b[39m!=\u001b[39m \u001b[39m-\u001b[39m \u001b[39m1\u001b[39m \\\n\u001b[1;32m     <a href='vscode-notebook-cell:/Users/dbok/PycharmProjects/delivery-RL/delivery-RL/rl_training.ipynb#X34sZmlsZQ%3D%3D?line=68'>69</a>\u001b[0m         \u001b[39mand\u001b[39;00m \u001b[39mnot\u001b[39;00m tensordict[\u001b[39m'\u001b[39m\u001b[39mobservation\u001b[39m\u001b[39m'\u001b[39m, \u001b[39m'\u001b[39m\u001b[39mmasks\u001b[39m\u001b[39m'\u001b[39m, \u001b[39m'\u001b[39m\u001b[39mo\u001b[39m\u001b[39m'\u001b[39m][o_idx] \\\n\u001b[0;32m---> <a href='vscode-notebook-cell:/Users/dbok/PycharmProjects/delivery-RL/delivery-RL/rl_training.ipynb#X34sZmlsZQ%3D%3D?line=69'>70</a>\u001b[0m         \u001b[39mand\u001b[39;00m \u001b[39mnot\u001b[39;00m tensordict[\u001b[39m'\u001b[39;49m\u001b[39mobservation\u001b[39;49m\u001b[39m'\u001b[39;49m, \u001b[39m'\u001b[39;49m\u001b[39mmasks\u001b[39;49m\u001b[39m'\u001b[39;49m, \u001b[39m'\u001b[39;49m\u001b[39mc\u001b[39;49m\u001b[39m'\u001b[39;49m][c_idx] \\\n\u001b[1;32m     <a href='vscode-notebook-cell:/Users/dbok/PycharmProjects/delivery-RL/delivery-RL/rl_training.ipynb#X34sZmlsZQ%3D%3D?line=70'>71</a>\u001b[0m         \u001b[39mand\u001b[39;00m (o_idx \u001b[39mnot\u001b[39;00m \u001b[39min\u001b[39;00m assigned_o_idxs) \u001b[39mand\u001b[39;00m (c_idx \u001b[39mnot\u001b[39;00m \u001b[39min\u001b[39;00m assigned_c_idxs) \\\n\u001b[1;32m     <a href='vscode-notebook-cell:/Users/dbok/PycharmProjects/delivery-RL/delivery-RL/rl_training.ipynb#X34sZmlsZQ%3D%3D?line=71'>72</a>\u001b[0m     :\n\u001b[1;32m     <a href='vscode-notebook-cell:/Users/dbok/PycharmProjects/delivery-RL/delivery-RL/rl_training.ipynb#X34sZmlsZQ%3D%3D?line=72'>73</a>\u001b[0m         assignment \u001b[39m=\u001b[39m (tensordict[\u001b[39m'\u001b[39m\u001b[39mobservation\u001b[39m\u001b[39m'\u001b[39m, \u001b[39m'\u001b[39m\u001b[39mids\u001b[39m\u001b[39m'\u001b[39m, \u001b[39m'\u001b[39m\u001b[39mo\u001b[39m\u001b[39m'\u001b[39m][o_idx]\u001b[39m.\u001b[39mitem(), tensordict[\u001b[39m'\u001b[39m\u001b[39mobservation\u001b[39m\u001b[39m'\u001b[39m, \u001b[39m'\u001b[39m\u001b[39mids\u001b[39m\u001b[39m'\u001b[39m, \u001b[39m'\u001b[39m\u001b[39mc\u001b[39m\u001b[39m'\u001b[39m][c_idx]\u001b[39m.\u001b[39mitem())\n\u001b[1;32m     <a href='vscode-notebook-cell:/Users/dbok/PycharmProjects/delivery-RL/delivery-RL/rl_training.ipynb#X34sZmlsZQ%3D%3D?line=73'>74</a>\u001b[0m         assignments\u001b[39m.\u001b[39mappend(assignment)\n",
      "\u001b[0;31mIndexError\u001b[0m: index 100 is out of bounds for dimension 0 with size 100"
     ]
    }
   ],
   "source": [
    "for i, c in enumerate(collector):\n",
    "    if i == 1:\n",
    "        break\n",
    "c"
   ]
  },
  {
   "cell_type": "code",
   "execution_count": 76,
   "metadata": {},
   "outputs": [],
   "source": [
    "from torchrl.data import ReplayBuffer, LazyTensorStorage\n",
    "replay_buffer = ReplayBuffer(\n",
    "    storage=LazyTensorStorage(frames_per_batch),\n",
    "    sampler=SamplerWithoutReplacement(),\n",
    "    batch_size=sub_batch_size\n",
    ")"
   ]
  },
  {
   "cell_type": "code",
   "execution_count": 77,
   "metadata": {},
   "outputs": [],
   "source": [
    "advantage_module = GAE(\n",
    "    gamma=gamma, lmbda=lmbda, value_network=module, average_gae=True, value_key='values'\n",
    ")\n",
    "\n",
    "loss_module = ClipPPOLoss(\n",
    "    actor=policy_module_actor,\n",
    "    critic=final_module,\n",
    "    advantage_key=\"advantage\",\n",
    "    clip_epsilon=clip_epsilon,\n",
    "    entropy_bonus=bool(entropy_eps),\n",
    "    entropy_coef=entropy_eps,\n",
    "    # these keys match by default but we set this for completeness\n",
    "    value_target_key=advantage_module.value_target_key,\n",
    "    critic_coef=1.0,\n",
    "    gamma=0.99,\n",
    "    loss_critic_type=\"smooth_l1\",\n",
    ")\n",
    "\n",
    "optim = torch.optim.Adam(loss_module.parameters(), lr=3e-4)"
   ]
  },
  {
   "cell_type": "code",
   "execution_count": 78,
   "metadata": {},
   "outputs": [],
   "source": [
    "for i, c in enumerate(collector):\n",
    "    if i == 5:\n",
    "        break\n",
    "    advantage_module(c)\n",
    "    data_view = c.reshape(-1)\n",
    "    replay_buffer.extend(data_view.cpu())\n",
    "\n",
    "subdata = replay_buffer.sample()\n",
    "# loss_vals = loss_module(subdata)\n",
    "# loss_value = (\n",
    "#     loss_vals[\"loss_objective\"]\n",
    "#     + loss_vals[\"loss_critic\"]\n",
    "#     + loss_vals[\"loss_entropy\"]\n",
    "# )\n"
   ]
  },
  {
   "cell_type": "code",
   "execution_count": 79,
   "metadata": {},
   "outputs": [
    {
     "data": {
      "text/plain": [
       "TensorDict(\n",
       "    fields={\n",
       "        action: Tensor(shape=torch.Size([4, 1]), device=cpu, dtype=torch.int64, is_shared=False),\n",
       "        advantage: Tensor(shape=torch.Size([4, 1]), device=cpu, dtype=torch.float32, is_shared=False),\n",
       "        collector.traj_ids: Tensor(shape=torch.Size([4]), device=cpu, dtype=torch.int64, is_shared=False),\n",
       "        done: Tensor(shape=torch.Size([4, 1]), device=cpu, dtype=torch.bool, is_shared=False),\n",
       "        logits: Tensor(shape=torch.Size([4, 1, 22]), device=cpu, dtype=torch.float32, is_shared=False),\n",
       "        next.done: Tensor(shape=torch.Size([4, 1]), device=cpu, dtype=torch.bool, is_shared=False),\n",
       "        next.observation.ids.ar: Tensor(shape=torch.Size([4, 1]), device=cpu, dtype=torch.int32, is_shared=False),\n",
       "        next.observation.ids.c: Tensor(shape=torch.Size([4, 21]), device=cpu, dtype=torch.int32, is_shared=False),\n",
       "        next.observation.ids.o: Tensor(shape=torch.Size([4, 1]), device=cpu, dtype=torch.int32, is_shared=False),\n",
       "        next.observation.masks.ar: Tensor(shape=torch.Size([4, 1]), device=cpu, dtype=torch.bool, is_shared=False),\n",
       "        next.observation.masks.c: Tensor(shape=torch.Size([4, 21]), device=cpu, dtype=torch.bool, is_shared=False),\n",
       "        next.observation.masks.o: Tensor(shape=torch.Size([4, 1]), device=cpu, dtype=torch.bool, is_shared=False),\n",
       "        next.observation.tensors.ar: Tensor(shape=torch.Size([4, 1, 512]), device=cpu, dtype=torch.float32, is_shared=False),\n",
       "        next.observation.tensors.c: Tensor(shape=torch.Size([4, 21, 512]), device=cpu, dtype=torch.float32, is_shared=False),\n",
       "        next.observation.tensors.o: Tensor(shape=torch.Size([4, 1, 512]), device=cpu, dtype=torch.float32, is_shared=False),\n",
       "        next.reward: Tensor(shape=torch.Size([4, 1]), device=cpu, dtype=torch.float32, is_shared=False),\n",
       "        observation.ids.ar: Tensor(shape=torch.Size([4, 1]), device=cpu, dtype=torch.int32, is_shared=False),\n",
       "        observation.ids.c: Tensor(shape=torch.Size([4, 21]), device=cpu, dtype=torch.int32, is_shared=False),\n",
       "        observation.ids.o: Tensor(shape=torch.Size([4, 1]), device=cpu, dtype=torch.int32, is_shared=False),\n",
       "        observation.masks.ar: Tensor(shape=torch.Size([4, 1]), device=cpu, dtype=torch.bool, is_shared=False),\n",
       "        observation.masks.c: Tensor(shape=torch.Size([4, 21]), device=cpu, dtype=torch.bool, is_shared=False),\n",
       "        observation.masks.o: Tensor(shape=torch.Size([4, 1]), device=cpu, dtype=torch.bool, is_shared=False),\n",
       "        observation.tensors.ar: Tensor(shape=torch.Size([4, 1, 512]), device=cpu, dtype=torch.float32, is_shared=False),\n",
       "        observation.tensors.c: Tensor(shape=torch.Size([4, 21, 512]), device=cpu, dtype=torch.float32, is_shared=False),\n",
       "        observation.tensors.o: Tensor(shape=torch.Size([4, 1, 512]), device=cpu, dtype=torch.float32, is_shared=False),\n",
       "        reward: Tensor(shape=torch.Size([4, 1]), device=cpu, dtype=torch.float32, is_shared=False),\n",
       "        sample_log_prob: Tensor(shape=torch.Size([4, 1]), device=cpu, dtype=torch.float32, is_shared=False),\n",
       "        value_target: Tensor(shape=torch.Size([4, 1]), device=cpu, dtype=torch.float32, is_shared=False),\n",
       "        values: Tensor(shape=torch.Size([4]), device=cpu, dtype=torch.float32, is_shared=False)},\n",
       "    batch_size=torch.Size([4]),\n",
       "    device=cpu,\n",
       "    is_shared=False)"
      ]
     },
     "execution_count": 79,
     "metadata": {},
     "output_type": "execute_result"
    }
   ],
   "source": [
    "subdata.flatten_keys()"
   ]
  },
  {
   "cell_type": "code",
   "execution_count": 80,
   "metadata": {},
   "outputs": [
    {
     "ename": "RuntimeError",
     "evalue": "advantage.shape and log_weight.shape do not match (got torch.Size([4, 1]) and torch.Size([4, 1, 1]))",
     "output_type": "error",
     "traceback": [
      "\u001b[0;31m---------------------------------------------------------------------------\u001b[0m",
      "\u001b[0;31mRuntimeError\u001b[0m                              Traceback (most recent call last)",
      "\u001b[1;32m/Users/dbok/PycharmProjects/delivery-RL/delivery-RL/rl_training.ipynb Cell 30\u001b[0m in \u001b[0;36m1\n\u001b[0;32m----> <a href='vscode-notebook-cell:/Users/dbok/PycharmProjects/delivery-RL/delivery-RL/rl_training.ipynb#X61sZmlsZQ%3D%3D?line=0'>1</a>\u001b[0m loss_vals \u001b[39m=\u001b[39m loss_module(subdata)\n",
      "File \u001b[0;32m/usr/local/lib/python3.10/site-packages/torch/nn/modules/module.py:1501\u001b[0m, in \u001b[0;36mModule._call_impl\u001b[0;34m(self, *args, **kwargs)\u001b[0m\n\u001b[1;32m   1496\u001b[0m \u001b[39m# If we don't have any hooks, we want to skip the rest of the logic in\u001b[39;00m\n\u001b[1;32m   1497\u001b[0m \u001b[39m# this function, and just call forward.\u001b[39;00m\n\u001b[1;32m   1498\u001b[0m \u001b[39mif\u001b[39;00m \u001b[39mnot\u001b[39;00m (\u001b[39mself\u001b[39m\u001b[39m.\u001b[39m_backward_hooks \u001b[39mor\u001b[39;00m \u001b[39mself\u001b[39m\u001b[39m.\u001b[39m_backward_pre_hooks \u001b[39mor\u001b[39;00m \u001b[39mself\u001b[39m\u001b[39m.\u001b[39m_forward_hooks \u001b[39mor\u001b[39;00m \u001b[39mself\u001b[39m\u001b[39m.\u001b[39m_forward_pre_hooks\n\u001b[1;32m   1499\u001b[0m         \u001b[39mor\u001b[39;00m _global_backward_pre_hooks \u001b[39mor\u001b[39;00m _global_backward_hooks\n\u001b[1;32m   1500\u001b[0m         \u001b[39mor\u001b[39;00m _global_forward_hooks \u001b[39mor\u001b[39;00m _global_forward_pre_hooks):\n\u001b[0;32m-> 1501\u001b[0m     \u001b[39mreturn\u001b[39;00m forward_call(\u001b[39m*\u001b[39;49margs, \u001b[39m*\u001b[39;49m\u001b[39m*\u001b[39;49mkwargs)\n\u001b[1;32m   1502\u001b[0m \u001b[39m# Do not call functions when jit is used\u001b[39;00m\n\u001b[1;32m   1503\u001b[0m full_backward_hooks, non_full_backward_hooks \u001b[39m=\u001b[39m [], []\n",
      "File \u001b[0;32m/usr/local/lib/python3.10/site-packages/torchrl/objectives/ppo.py:244\u001b[0m, in \u001b[0;36mClipPPOLoss.forward\u001b[0;34m(self, tensordict)\u001b[0m\n\u001b[1;32m    241\u001b[0m     batch \u001b[39m=\u001b[39m log_weight\u001b[39m.\u001b[39mshape[\u001b[39m0\u001b[39m]\n\u001b[1;32m    243\u001b[0m \u001b[39mif\u001b[39;00m \u001b[39mnot\u001b[39;00m advantage\u001b[39m.\u001b[39mshape \u001b[39m==\u001b[39m log_weight\u001b[39m.\u001b[39mshape:\n\u001b[0;32m--> 244\u001b[0m     \u001b[39mraise\u001b[39;00m \u001b[39mRuntimeError\u001b[39;00m(\n\u001b[1;32m    245\u001b[0m         \u001b[39mf\u001b[39m\u001b[39m\"\u001b[39m\u001b[39madvantage.shape and log_weight.shape do not match (got \u001b[39m\u001b[39m{\u001b[39;00madvantage\u001b[39m.\u001b[39mshape\u001b[39m}\u001b[39;00m\u001b[39m \u001b[39m\u001b[39m\"\u001b[39m\n\u001b[1;32m    246\u001b[0m         \u001b[39mf\u001b[39m\u001b[39m\"\u001b[39m\u001b[39mand \u001b[39m\u001b[39m{\u001b[39;00mlog_weight\u001b[39m.\u001b[39mshape\u001b[39m}\u001b[39;00m\u001b[39m)\u001b[39m\u001b[39m\"\u001b[39m\n\u001b[1;32m    247\u001b[0m     )\n\u001b[1;32m    248\u001b[0m gain1 \u001b[39m=\u001b[39m log_weight\u001b[39m.\u001b[39mexp() \u001b[39m*\u001b[39m advantage\n\u001b[1;32m    250\u001b[0m log_weight_clip \u001b[39m=\u001b[39m log_weight\u001b[39m.\u001b[39mclamp(\u001b[39m*\u001b[39m\u001b[39mself\u001b[39m\u001b[39m.\u001b[39m_clip_bounds)\n",
      "\u001b[0;31mRuntimeError\u001b[0m: advantage.shape and log_weight.shape do not match (got torch.Size([4, 1]) and torch.Size([4, 1, 1]))"
     ]
    }
   ],
   "source": [
    "loss_vals = loss_module(subdata)"
   ]
  },
  {
   "cell_type": "code",
   "execution_count": null,
   "metadata": {},
   "outputs": [],
   "source": [
    "pbar = tqdm(total=total_frames * frame_skip)\n",
    "eval_str = \"\"\n",
    "\n",
    "# We iterate over the collector until it reaches the total number of frames it was\n",
    "# designed to collect:\n",
    "for i, tensordict_data in enumerate(collector):\n",
    "    # we now have a batch of data to work with. Let's learn something from it.\n",
    "    for _ in range(num_epochs):\n",
    "        # We'll need an \"advantage\" signal to make PPO work.\n",
    "        # We re-compute it at each epoch as its value depends on the value\n",
    "        # network which is updated in the inner loop.\n",
    "        advantage_module(tensordict_data)\n",
    "        data_view = tensordict_data.reshape(-1)\n",
    "        replay_buffer.extend(data_view.cpu())\n",
    "        for _ in range(frames_per_batch // sub_batch_size):\n",
    "            subdata = replay_buffer.sample(sub_batch_size)\n",
    "            loss_vals = loss_module(subdata.to(device))\n",
    "            loss_value = (\n",
    "                loss_vals[\"loss_objective\"]\n",
    "                + loss_vals[\"loss_critic\"]\n",
    "                + loss_vals[\"loss_entropy\"]\n",
    "            )\n",
    "\n",
    "            # Optimization: backward, grad clipping and optim step\n",
    "            loss_value.backward()\n",
    "            # this is not strictly mandatory but it's good practice to keep\n",
    "            # your gradient norm bounded\n",
    "            torch.nn.utils.clip_grad_norm_(loss_module.parameters(), max_grad_norm)\n",
    "            optim.step()\n",
    "            optim.zero_grad()\n",
    "    break"
   ]
  },
  {
   "attachments": {},
   "cell_type": "markdown",
   "metadata": {},
   "source": [
    "## Testing area"
   ]
  },
  {
   "cell_type": "code",
   "execution_count": 19,
   "metadata": {},
   "outputs": [],
   "source": [
    "bs = 2\n",
    "\n",
    "class TestEnv(EnvBase):\n",
    "    def __init__(self, seed=None, device=\"cpu\"):\n",
    "        super().__init__(device=device, batch_size=[bs])\n",
    "        self._make_specs()\n",
    "        \n",
    "        if seed is None:\n",
    "            seed = torch.empty((), dtype=torch.long).random_().item()\n",
    "        self.set_seed(seed)\n",
    "        \n",
    "    def _step(self, tensordict: TensorDictBase) -> TensorDictBase:\n",
    "        '''\n",
    "        tensordict['action'] - a np.array of indexes of couriers assigned for the given order. If there is no courier assigned -1 is provided.\n",
    "        '''\n",
    "        print('next')\n",
    "        out = TensorDict(\n",
    "            {\n",
    "                \"next\": {\n",
    "                    \"observation\": TensorDict({\n",
    "                        'a': torch.tensor([[-1, -2], [-4, -5]], dtype=torch.float),\n",
    "                        'b': torch.tensor([[1, 2, 3], [4, 5, 6]], dtype=torch.float),\n",
    "                        },\n",
    "                        batch_size=[bs]\n",
    "                    ),\n",
    "                    \"reward\": torch.tensor([0] * bs, dtype=torch.float32),\n",
    "                    \"done\": torch.tensor([False] * bs, dtype=torch.bool),\n",
    "                }\n",
    "            },\n",
    "            batch_size=[bs]\n",
    "        )\n",
    "        return out\n",
    "    \n",
    "    def _reset(self, tensordict: TensorDictBase) -> TensorDictBase:\n",
    "        if tensordict is None or tensordict.is_empty():\n",
    "            return TensorDict(\n",
    "            {\n",
    "                \"observation\": TensorDict({\n",
    "                        'a': torch.tensor([[-1, -2], [-4, -5]], dtype=torch.float),\n",
    "                        'b': torch.tensor([[1, 2, 3], [4, 5, 6]], dtype=torch.float),\n",
    "                        },\n",
    "                        batch_size=[bs]\n",
    "                    ),\n",
    "            },\n",
    "            batch_size=[bs]\n",
    "        ) \n",
    "        return tensordict\n",
    "    \n",
    "    def _set_seed(self, seed: Optional[int]):\n",
    "        rng = torch.manual_seed(seed)\n",
    "        self.rng = rng\n",
    "\n",
    "    def _make_specs(self) -> None:\n",
    "        self.action_spec = UnboundedDiscreteTensorSpec(\n",
    "            dtype=torch.int,\n",
    "            shape=[bs]\n",
    "            # shape=(1,)\n",
    "            # shape=(self.model.tensors['o'].shape[0],)\n",
    "        )\n",
    "        observation_spec = CompositeSpec(\n",
    "            a = UnboundedContinuousTensorSpec(\n",
    "                dtype=torch.float32,\n",
    "                shape=[bs]\n",
    "            ),\n",
    "            b = UnboundedContinuousTensorSpec(\n",
    "                dtype=torch.float32,\n",
    "                shape=[bs]\n",
    "            ),\n",
    "            shape=[bs]\n",
    "        )\n",
    "        # if not isinstance(observation_spec, CompositeSpec):\n",
    "        observation_spec = CompositeSpec(observation=observation_spec, shape=[bs])\n",
    "            \n",
    "        self.observation_spec = observation_spec\n",
    "        self.reward_spec = UnboundedContinuousTensorSpec(\n",
    "            shape=[bs],\n",
    "            dtype=torch.float32,\n",
    "        )\n",
    "        self.done_spec = BinaryDiscreteTensorSpec(\n",
    "            bs,\n",
    "            shape=[bs]\n",
    "        )\n",
    " "
   ]
  },
  {
   "cell_type": "code",
   "execution_count": 20,
   "metadata": {},
   "outputs": [],
   "source": [
    "env = TransformedEnv(\n",
    "    TestEnv(),\n",
    "    # Compose(\n",
    "    #     # normalize observations\n",
    "    #     # ObservationNorm(in_keys=[\"observation\"]),\n",
    "    #     # DoubleToFloat(in_keys=[\"observation\"]),\n",
    "    #     StepCounter(),\n",
    "    # ),\n",
    ")"
   ]
  },
  {
   "cell_type": "code",
   "execution_count": 21,
   "metadata": {},
   "outputs": [
    {
     "name": "stdout",
     "output_type": "stream",
     "text": [
      "observation_spec: CompositeSpec(\n",
      "    observation: CompositeSpec(\n",
      "        a: UnboundedContinuousTensorSpec(\n",
      "             shape=torch.Size([2, 3]), space=None, device=cpu, dtype=torch.float32, domain=continuous),\n",
      "        b: UnboundedContinuousTensorSpec(\n",
      "             shape=torch.Size([2, 3]), space=None, device=cpu, dtype=torch.float32, domain=continuous), device=cpu, shape=torch.Size([2, 3])), device=cpu, shape=torch.Size([2]))\n",
      "reward_spec: UnboundedContinuousTensorSpec(\n",
      "     shape=torch.Size([2]), space=None, device=cpu, dtype=torch.float32, domain=continuous)\n",
      "input_spec: CompositeSpec(\n",
      "    action: UnboundedDiscreteTensorSpec(\n",
      "         shape=torch.Size([2]), space=ContinuousBox(minimum=Tensor(shape=torch.Size([2]), device=cpu, dtype=torch.int64, contiguous=True), maximum=Tensor(shape=torch.Size([2]), device=cpu, dtype=torch.int64, contiguous=True)), device=cpu, dtype=torch.int32, domain=continuous), device=cpu, shape=torch.Size([2]))\n",
      "action_spec (as defined by input_spec): UnboundedDiscreteTensorSpec(\n",
      "     shape=torch.Size([2]), space=ContinuousBox(minimum=Tensor(shape=torch.Size([2]), device=cpu, dtype=torch.int64, contiguous=True), maximum=Tensor(shape=torch.Size([2]), device=cpu, dtype=torch.int64, contiguous=True)), device=cpu, dtype=torch.int32, domain=continuous)\n",
      "next\n",
      "next\n",
      "next\n"
     ]
    },
    {
     "ename": "AssertionError",
     "evalue": "The dtypes of the real and fake tensordict don't match for key next.done. Got fake=torch.int64 and real=torch.bool.",
     "output_type": "error",
     "traceback": [
      "\u001b[0;31m---------------------------------------------------------------------------\u001b[0m",
      "\u001b[0;31mAssertionError\u001b[0m                            Traceback (most recent call last)",
      "\u001b[1;32m/Users/dbok/PycharmProjects/delivery-RL/delivery-RL/rl_training.ipynb Cell 17\u001b[0m in \u001b[0;36m6\n\u001b[1;32m      <a href='vscode-notebook-cell:/Users/dbok/PycharmProjects/delivery-RL/delivery-RL/rl_training.ipynb#X22sZmlsZQ%3D%3D?line=2'>3</a>\u001b[0m \u001b[39mprint\u001b[39m(\u001b[39m\"\u001b[39m\u001b[39minput_spec:\u001b[39m\u001b[39m\"\u001b[39m, env\u001b[39m.\u001b[39minput_spec)\n\u001b[1;32m      <a href='vscode-notebook-cell:/Users/dbok/PycharmProjects/delivery-RL/delivery-RL/rl_training.ipynb#X22sZmlsZQ%3D%3D?line=3'>4</a>\u001b[0m \u001b[39mprint\u001b[39m(\u001b[39m\"\u001b[39m\u001b[39maction_spec (as defined by input_spec):\u001b[39m\u001b[39m\"\u001b[39m, env\u001b[39m.\u001b[39maction_spec)\n\u001b[0;32m----> <a href='vscode-notebook-cell:/Users/dbok/PycharmProjects/delivery-RL/delivery-RL/rl_training.ipynb#X22sZmlsZQ%3D%3D?line=5'>6</a>\u001b[0m check_env_specs(env)\n",
      "File \u001b[0;32m/usr/local/lib/python3.10/site-packages/torchrl/envs/utils.py:290\u001b[0m, in \u001b[0;36mcheck_env_specs\u001b[0;34m(env, return_contiguous, check_dtype, seed)\u001b[0m\n\u001b[1;32m    285\u001b[0m         \u001b[39mraise\u001b[39;00m \u001b[39mAssertionError\u001b[39;00m(\n\u001b[1;32m    286\u001b[0m             \u001b[39mf\u001b[39m\u001b[39m\"\u001b[39m\u001b[39mThe shapes of the real and fake tensordict don\u001b[39m\u001b[39m'\u001b[39m\u001b[39mt match for key \u001b[39m\u001b[39m{\u001b[39;00mkey\u001b[39m}\u001b[39;00m\u001b[39m. \u001b[39m\u001b[39m\"\u001b[39m\n\u001b[1;32m    287\u001b[0m             \u001b[39mf\u001b[39m\u001b[39m\"\u001b[39m\u001b[39mGot fake=\u001b[39m\u001b[39m{\u001b[39;00mfake_tensordict[key]\u001b[39m.\u001b[39mshape\u001b[39m}\u001b[39;00m\u001b[39m and real=\u001b[39m\u001b[39m{\u001b[39;00mreal_tensordict[key]\u001b[39m.\u001b[39mshape\u001b[39m}\u001b[39;00m\u001b[39m.\u001b[39m\u001b[39m\"\u001b[39m\n\u001b[1;32m    288\u001b[0m         )\n\u001b[1;32m    289\u001b[0m     \u001b[39mif\u001b[39;00m check_dtype \u001b[39mand\u001b[39;00m (fake_tensordict[key]\u001b[39m.\u001b[39mdtype \u001b[39m!=\u001b[39m real_tensordict[key]\u001b[39m.\u001b[39mdtype):\n\u001b[0;32m--> 290\u001b[0m         \u001b[39mraise\u001b[39;00m \u001b[39mAssertionError\u001b[39;00m(\n\u001b[1;32m    291\u001b[0m             \u001b[39mf\u001b[39m\u001b[39m\"\u001b[39m\u001b[39mThe dtypes of the real and fake tensordict don\u001b[39m\u001b[39m'\u001b[39m\u001b[39mt match for key \u001b[39m\u001b[39m{\u001b[39;00mkey\u001b[39m}\u001b[39;00m\u001b[39m. \u001b[39m\u001b[39m\"\u001b[39m\n\u001b[1;32m    292\u001b[0m             \u001b[39mf\u001b[39m\u001b[39m\"\u001b[39m\u001b[39mGot fake=\u001b[39m\u001b[39m{\u001b[39;00mfake_tensordict[key]\u001b[39m.\u001b[39mdtype\u001b[39m}\u001b[39;00m\u001b[39m and real=\u001b[39m\u001b[39m{\u001b[39;00mreal_tensordict[key]\u001b[39m.\u001b[39mdtype\u001b[39m}\u001b[39;00m\u001b[39m.\u001b[39m\u001b[39m\"\u001b[39m\n\u001b[1;32m    293\u001b[0m         )\n\u001b[1;32m    295\u001b[0m \u001b[39m# test dtypes\u001b[39;00m\n\u001b[1;32m    296\u001b[0m real_tensordict \u001b[39m=\u001b[39m env\u001b[39m.\u001b[39mrollout(\u001b[39m3\u001b[39m)  \u001b[39m# keep empty structures, for example dict()\u001b[39;00m\n",
      "\u001b[0;31mAssertionError\u001b[0m: The dtypes of the real and fake tensordict don't match for key next.done. Got fake=torch.int64 and real=torch.bool."
     ]
    }
   ],
   "source": [
    "print(\"observation_spec:\", env.observation_spec)\n",
    "print(\"reward_spec:\", env.reward_spec)\n",
    "print(\"input_spec:\", env.input_spec)\n",
    "print(\"action_spec (as defined by input_spec):\", env.action_spec)\n",
    "\n",
    "check_env_specs(env)"
   ]
  },
  {
   "cell_type": "code",
   "execution_count": 89,
   "metadata": {},
   "outputs": [
    {
     "name": "stdout",
     "output_type": "stream",
     "text": [
      "TensorDict(\n",
      "    fields={\n",
      "        action: Tensor(shape=torch.Size([2]), device=cpu, dtype=torch.int32, is_shared=False),\n",
      "        done: Tensor(shape=torch.Size([2]), device=cpu, dtype=torch.int64, is_shared=False),\n",
      "        next.done: Tensor(shape=torch.Size([2]), device=cpu, dtype=torch.int64, is_shared=False),\n",
      "        next.observation.a: Tensor(shape=torch.Size([2]), device=cpu, dtype=torch.float32, is_shared=False),\n",
      "        next.observation.b: Tensor(shape=torch.Size([2]), device=cpu, dtype=torch.float32, is_shared=False),\n",
      "        next.reward: Tensor(shape=torch.Size([2]), device=cpu, dtype=torch.float32, is_shared=False),\n",
      "        observation.a: Tensor(shape=torch.Size([2]), device=cpu, dtype=torch.float32, is_shared=False),\n",
      "        observation.b: Tensor(shape=torch.Size([2]), device=cpu, dtype=torch.float32, is_shared=False),\n",
      "        reward: Tensor(shape=torch.Size([2]), device=cpu, dtype=torch.float32, is_shared=False)},\n",
      "    batch_size=torch.Size([2]),\n",
      "    device=cpu,\n",
      "    is_shared=False)\n",
      "next\n",
      "next\n",
      "next\n",
      "TensorDict(\n",
      "    fields={\n",
      "        action: Tensor(shape=torch.Size([2, 3]), device=cpu, dtype=torch.int32, is_shared=False),\n",
      "        done: Tensor(shape=torch.Size([2, 3]), device=cpu, dtype=torch.int64, is_shared=False),\n",
      "        next.done: Tensor(shape=torch.Size([2, 3]), device=cpu, dtype=torch.bool, is_shared=False),\n",
      "        next.observation.a: Tensor(shape=torch.Size([2, 3, 2]), device=cpu, dtype=torch.float32, is_shared=False),\n",
      "        next.observation.b: Tensor(shape=torch.Size([2, 3, 3]), device=cpu, dtype=torch.float32, is_shared=False),\n",
      "        next.reward: Tensor(shape=torch.Size([2, 3]), device=cpu, dtype=torch.float32, is_shared=False),\n",
      "        observation.a: Tensor(shape=torch.Size([2, 3, 2]), device=cpu, dtype=torch.float32, is_shared=False),\n",
      "        observation.b: Tensor(shape=torch.Size([2, 3, 3]), device=cpu, dtype=torch.float32, is_shared=False),\n",
      "        reward: Tensor(shape=torch.Size([2, 3]), device=cpu, dtype=torch.float32, is_shared=False)},\n",
      "    batch_size=torch.Size([2, 3]),\n",
      "    device=cpu,\n",
      "    is_shared=False)\n"
     ]
    }
   ],
   "source": [
    "fake = env.fake_tensordict().flatten_keys(\".\")\n",
    "print(fake)\n",
    "\n",
    "real_tensordict = env.rollout(3, return_contiguous=True).flatten_keys(\".\")\n",
    "print(real_tensordict)"
   ]
  },
  {
   "cell_type": "code",
   "execution_count": 91,
   "metadata": {},
   "outputs": [],
   "source": [
    "fake_tensordict = fake.unsqueeze(real_tensordict.batch_dims - 1).expand(*real_tensordict.shape).to_tensordict()"
   ]
  },
  {
   "cell_type": "code",
   "execution_count": 93,
   "metadata": {},
   "outputs": [
    {
     "data": {
      "text/plain": [
       "TensorDict(\n",
       "    fields={\n",
       "        action: Tensor(shape=torch.Size([2, 3]), device=cpu, dtype=torch.int32, is_shared=False),\n",
       "        done: Tensor(shape=torch.Size([2, 3]), device=cpu, dtype=torch.int64, is_shared=False),\n",
       "        next.done: Tensor(shape=torch.Size([2, 3]), device=cpu, dtype=torch.int64, is_shared=False),\n",
       "        next.observation.a: Tensor(shape=torch.Size([2, 3]), device=cpu, dtype=torch.float32, is_shared=False),\n",
       "        next.observation.b: Tensor(shape=torch.Size([2, 3]), device=cpu, dtype=torch.float32, is_shared=False),\n",
       "        next.reward: Tensor(shape=torch.Size([2, 3]), device=cpu, dtype=torch.float32, is_shared=False),\n",
       "        observation.a: Tensor(shape=torch.Size([2, 3]), device=cpu, dtype=torch.float32, is_shared=False),\n",
       "        observation.b: Tensor(shape=torch.Size([2, 3]), device=cpu, dtype=torch.float32, is_shared=False),\n",
       "        reward: Tensor(shape=torch.Size([2, 3]), device=cpu, dtype=torch.float32, is_shared=False)},\n",
       "    batch_size=torch.Size([2, 3]),\n",
       "    device=cpu,\n",
       "    is_shared=False)"
      ]
     },
     "execution_count": 93,
     "metadata": {},
     "output_type": "execute_result"
    }
   ],
   "source": [
    "# real_tensordict.apply(lambda x: torch.zeros_like(x)) == fake_tensordict.apply(lambda x: torch.zeros_like(x))\n",
    "# fake_tensordict\n",
    "fake_tensordict"
   ]
  },
  {
   "cell_type": "code",
   "execution_count": 131,
   "metadata": {},
   "outputs": [],
   "source": [
    "class Net(nn.Module):\n",
    "    def __init__(self) -> None:\n",
    "        super().__init__()\n",
    "        self.f1 = nn.Linear(3, 5)\n",
    "        self.f2 = nn.Linear(3, 5)\n",
    "\n",
    "        self.last = nn.Linear(5, 2)\n",
    "    \n",
    "    def forward(self, x, y):\n",
    "        x = self.f1(x)\n",
    "        y = self.f2(y)\n",
    "\n",
    "        return self.last(x - y)"
   ]
  },
  {
   "cell_type": "code",
   "execution_count": 137,
   "metadata": {},
   "outputs": [
    {
     "data": {
      "text/plain": [
       "tensor([[-1.7460, -0.8222]], grad_fn=<AddmmBackward0>)"
      ]
     },
     "execution_count": 137,
     "metadata": {},
     "output_type": "execute_result"
    }
   ],
   "source": [
    "x = torch.tensor([[1, 2, 3]], dtype=torch.float)\n",
    "y = torch.tensor([[1, 2, 3]], dtype=torch.float)\n",
    "n = Net()\n",
    "n(x, y)"
   ]
  },
  {
   "cell_type": "code",
   "execution_count": 138,
   "metadata": {},
   "outputs": [],
   "source": [
    "policy_module = TensorDictModule(\n",
    "    n, in_keys=[('inp', \"x\"), ('inp', \"y\")], out_keys=[\"out\"]\n",
    ")"
   ]
  },
  {
   "cell_type": "code",
   "execution_count": 146,
   "metadata": {},
   "outputs": [],
   "source": [
    "# policy_module(x=x, y=y)\n",
    "inp = TensorDict(\n",
    "    {\n",
    "        'inp': TensorDict({\n",
    "            'x': x,\n",
    "            'y': y,\n",
    "        }, batch_size=())\n",
    "    },\n",
    "    batch_size=(1, 3)\n",
    ")"
   ]
  },
  {
   "cell_type": "code",
   "execution_count": 140,
   "metadata": {},
   "outputs": [],
   "source": [
    "out = policy_module(inp)"
   ]
  },
  {
   "cell_type": "code",
   "execution_count": 23,
   "metadata": {},
   "outputs": [
    {
     "data": {
      "text/plain": [
       "tensor([1.9481, 0.0790], grad_fn=<AddBackward0>)"
      ]
     },
     "execution_count": 23,
     "metadata": {},
     "output_type": "execute_result"
    }
   ],
   "source": [
    "out['out']"
   ]
  },
  {
   "cell_type": "code",
   "execution_count": 147,
   "metadata": {},
   "outputs": [
    {
     "data": {
      "text/plain": [
       "torch.Size([1, 3])"
      ]
     },
     "execution_count": 147,
     "metadata": {},
     "output_type": "execute_result"
    }
   ],
   "source": [
    "inp.shape"
   ]
  },
  {
   "cell_type": "code",
   "execution_count": null,
   "metadata": {},
   "outputs": [],
   "source": []
  }
 ],
 "metadata": {
  "kernelspec": {
   "display_name": "Python 3",
   "language": "python",
   "name": "python3"
  },
  "language_info": {
   "codemirror_mode": {
    "name": "ipython",
    "version": 3
   },
   "file_extension": ".py",
   "mimetype": "text/x-python",
   "name": "python",
   "nbconvert_exporter": "python",
   "pygments_lexer": "ipython3",
   "version": "3.10.6"
  },
  "orig_nbformat": 4
 },
 "nbformat": 4,
 "nbformat_minor": 2
}
