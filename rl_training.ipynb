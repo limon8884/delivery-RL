{
 "cells": [
  {
   "cell_type": "code",
   "execution_count": 1,
   "metadata": {},
   "outputs": [
    {
     "name": "stderr",
     "output_type": "stream",
     "text": [
      "\n"
     ]
    }
   ],
   "source": [
    "%matplotlib inline\n",
    "import matplotlib.pyplot as plt\n",
    "import numpy as np\n",
    "import pandas as pd\n",
    "\n",
    "from utils import *\n",
    "from dispatch.dispatch import Dispatch, NeuralDispatch\n",
    "from simulator.base_simulator import BaseSimulator, ManualSimulator\n",
    "from simulator.simulator import Simulator\n",
    "from simulator.graphics import plot_CR, plot_counts\n",
    "from tqdm import tqdm\n",
    "\n",
    "import torch\n",
    "from networks.encoders import PointEncoder\n",
    "from networks.scoring_v1 import ScoringNet, ScoringInterface\n",
    "\n",
    "from collections import defaultdict\n",
    "import matplotlib.pyplot as plt\n",
    "import torch\n",
    "from tensordict.nn import TensorDictModule\n",
    "from tensordict.nn.distributions import NormalParamExtractor\n",
    "from torch import nn\n",
    "from torchrl.collectors import SyncDataCollector, MultiaSyncDataCollector, MultiSyncDataCollector\n",
    "from torchrl.data.replay_buffers import ReplayBuffer\n",
    "from torchrl.data.replay_buffers.samplers import SamplerWithoutReplacement\n",
    "from torchrl.data.replay_buffers.storages import LazyTensorStorage\n",
    "from torchrl.envs import (\n",
    "    Compose,\n",
    "    DoubleToFloat,\n",
    "    ObservationNorm,\n",
    "    StepCounter,\n",
    "    TransformedEnv,\n",
    ")\n",
    "from torchrl.envs.libs.gym import GymEnv\n",
    "from torchrl.envs.utils import check_env_specs, set_exploration_mode\n",
    "from torchrl.modules import ProbabilisticActor, TanhNormal, ValueOperator\n",
    "from torchrl.objectives import ClipPPOLoss\n",
    "from torchrl.objectives.value import GAE\n",
    "from torchrl.envs import EnvBase\n",
    "from tensordict.tensordict import TensorDictBase, TensorDict\n",
    "from typing import Optional\n",
    "import gym\n",
    "from torchrl.data import CompositeSpec, BoundedTensorSpec, UnboundedContinuousTensorSpec, BinaryDiscreteTensorSpec, OneHotDiscreteTensorSpec, DiscreteTensorSpec, UnboundedDiscreteTensorSpec\n",
    "\n",
    "# import importlib\n",
    "# importlib.reload(utils)"
   ]
  },
  {
   "cell_type": "code",
   "execution_count": 2,
   "metadata": {},
   "outputs": [
    {
     "name": "stdout",
     "output_type": "stream",
     "text": [
      "cpu\n"
     ]
    }
   ],
   "source": [
    "device = torch.device('cuda:0') if torch.cuda.is_available() else torch.device('cpu')\n",
    "print(device)\n",
    "\n",
    "num_cells = 256  # number of cells in each layer\n",
    "lr = 3e-4\n",
    "max_grad_norm = 1.0\n",
    "\n",
    "frame_skip = 1\n",
    "frames_per_batch = 1000 // frame_skip\n",
    "# For a complete training, bring the number of frames up to 1M\n",
    "total_frames = 200_000 // frame_skip\n",
    "\n",
    "sub_batch_size = 4  # cardinality of the sub-samples gathered from the current data in the inner loop\n",
    "num_epochs = 10  # optimisation steps per batch of data collected\n",
    "clip_epsilon = (\n",
    "    0.2  # clip value for PPO loss: see the equation in the intro for more context.\n",
    ")\n",
    "gamma = 0.99\n",
    "lmbda = 0.95\n",
    "entropy_eps = 1e-4"
   ]
  },
  {
   "cell_type": "code",
   "execution_count": 3,
   "metadata": {},
   "outputs": [],
   "source": [
    "net = ScoringNet(\n",
    "    mode='default',\n",
    "    # point_encoder=point_encoder,\n",
    "    n_layers=2,\n",
    "    d_model=512,\n",
    "    n_head=4,\n",
    "    dim_ff=512,\n",
    "    point_enc_dim=64,\n",
    "    number_enc_dim=8,\n",
    "    device=device\n",
    ")\n",
    "\n",
    "model = ScoringInterface(net)\n",
    "# model.load_weights('pretrained_models/assignment_cloning_model_v2')"
   ]
  },
  {
   "cell_type": "code",
   "execution_count": 4,
   "metadata": {},
   "outputs": [
    {
     "name": "stdout",
     "output_type": "stream",
     "text": [
      "torch.Size([4, 10, 7]) torch.Size([4, 10, 6])\n"
     ]
    }
   ],
   "source": [
    "bounds = (Point(0, 0), Point(10, 10))\n",
    "triples = [random_triple(bounds) for _ in range(sub_batch_size)]\n",
    "\n",
    "model.encode_input(triples, 0)\n",
    "preds = model.inference()\n",
    "mask = model.get_mask()\n",
    "\n",
    "print(preds.shape, mask.shape)"
   ]
  },
  {
   "cell_type": "code",
   "execution_count": 5,
   "metadata": {},
   "outputs": [
    {
     "name": "stdout",
     "output_type": "stream",
     "text": [
      "[14.724509239196777]\n",
      "[14.724509239196777, 50.051822662353516]\n"
     ]
    }
   ],
   "source": [
    "optimizer = torch.optim.SGD(model.net.parameters(), lr=1e-4, momentum=0.9) # FIX unfreeze encoder params\n",
    "# scheduler = torch.optim.lr_scheduler.OneCycleLR(optimizer, max_lr=1e-3, epochs=n_epochs, steps_per_epoch=n_iters)\n",
    "scheduler = None\n",
    "\n",
    "losses = []\n",
    "for epoch in range(2):\n",
    "    for iter in range(10):\n",
    "        rolling_loss = []\n",
    "        triples = [random_triple(bounds) for _ in range(sub_batch_size)]\n",
    "\n",
    "        scorer = ETAScoring()\n",
    "        solver = HungarianSolver()\n",
    "        assignments = []\n",
    "        for triple in triples:\n",
    "            scores = scorer(triple.orders, triple.couriers)\n",
    "            assignments.append([(i, j) for i, j in zip(*solver(scores))])\n",
    "\n",
    "        # print(assignments)\n",
    "        # print(50 * '-')\n",
    "\n",
    "        optimizer.zero_grad()\n",
    "        model.encode_input(triples, 0)\n",
    "        model.inference()\n",
    "        loss = model.CE_loss(assignments)\n",
    "        loss.backward()\n",
    "        optimizer.step()\n",
    "        rolling_loss.append(loss.item())\n",
    "\n",
    "    losses.append(np.mean(rolling_loss))\n",
    "\n",
    "    print(losses)"
   ]
  },
  {
   "cell_type": "code",
   "execution_count": 6,
   "metadata": {},
   "outputs": [
    {
     "name": "stderr",
     "output_type": "stream",
     "text": [
      "100%|██████████| 1000/1000 [00:00<00:00, 4105.78it/s]\n"
     ]
    },
    {
     "name": "stdout",
     "output_type": "stream",
     "text": [
      "micro average CR:  0.7014350306746223\n",
      "macro average CR:  0.6967960252894781\n"
     ]
    },
    {
     "data": {
      "image/png": "[encoded data removed]",
      "text/plain": [
       "<Figure size 640x480 with 1 Axes>"
      ]
     },
     "metadata": {},
     "output_type": "display_data"
    },
    {
     "name": "stdout",
     "output_type": "stream",
     "text": [
      "average free couriers:  1.503\n",
      "average free orders:  12.986\n",
      "average active routes:  18.497\n"
     ]
    },
    {
     "data": {
      "image/png": "[encoded data removed]",
      "text/plain": [
       "<Figure size 640x480 with 1 Axes>"
      ]
     },
     "metadata": {},
     "output_type": "display_data"
    }
   ],
   "source": [
    "# dsp = NeuralDispatch(net)\n",
    "dsp = Dispatch()\n",
    "sim = Simulator()\n",
    "\n",
    "all_metrics = []\n",
    "for i in tqdm(range(1000)):\n",
    "    metrics = sim.GetMetrics()\n",
    "    all_metrics.append(metrics)\n",
    "    state = sim.GetState()\n",
    "    sim.Next(dsp(state))\n",
    "\n",
    "plot_CR(all_metrics)\n",
    "plot_counts(all_metrics)"
   ]
  },
  {
   "cell_type": "code",
   "execution_count": 7,
   "metadata": {},
   "outputs": [],
   "source": [
    "# # dsp = NeuralDispatch(net)\n",
    "# dsp = Dispatch()\n",
    "# sim = ManualSimulator()\n",
    "\n",
    "# all_metrics = []\n",
    "# for i in tqdm(range(1000)):\n",
    "#     metrics = sim.GetMetrics()\n",
    "#     all_metrics.append(metrics)\n",
    "#     ass = dsp(sim.GetState())\n",
    "#     sim.Next(ass)\n",
    "\n",
    "# plot_CR(all_metrics)\n",
    "# plot_counts(all_metrics)"
   ]
  },
  {
   "cell_type": "code",
   "execution_count": 8,
   "metadata": {},
   "outputs": [
    {
     "data": {
      "text/plain": [
       "torch.Size([4, 9])"
      ]
     },
     "execution_count": 8,
     "metadata": {},
     "output_type": "execute_result"
    }
   ],
   "source": [
    "# model.tensors['o'].shape\n",
    "model.values.shape"
   ]
  },
  {
   "cell_type": "code",
   "execution_count": 9,
   "metadata": {},
   "outputs": [],
   "source": [
    "class SimulatorEnv(EnvBase):\n",
    "    def __init__(self, simulator: type[Simulator], model: ScoringInterface, seed=None, device=\"cpu\"):\n",
    "        super().__init__(device=device, batch_size=[sub_batch_size])\n",
    "        self.simulators = [simulator(seed=i) for i in range(sub_batch_size)]\n",
    "        self.model = model\n",
    "        # self.simulator.reset()\n",
    "        self._make_specs()\n",
    "        \n",
    "        if seed is None:\n",
    "            seed = torch.empty((), dtype=torch.long).random_().item()\n",
    "        self.set_seed(seed)\n",
    "        \n",
    "    def _step(self, tensordict: TensorDictBase) -> TensorDictBase:\n",
    "        '''\n",
    "        tensordict['action'] - a np.array of indexes of couriers assigned for the given order. If there is no courier assigned -1 is provided.\n",
    "        '''\n",
    "        # self.simulator.Next([(o_ind, c_ind) for o_ind, c_ind in enumerate(tensordict['action']) if c_ind != -1])\n",
    "        states = [simulator.GetState() for simulator in self.simulators]\n",
    "        self.model.encode_input(states, 0)\n",
    "        self.model.inference()\n",
    "        assignments_batch = self.model.get_assignments_batch(states)\n",
    "        # self.ass = assignments_batch\n",
    "        rewards = []\n",
    "        for assignments, simulator in zip(assignments_batch, self.simulators):\n",
    "            simulator.Next(assignments)\n",
    "            rewards.append(0)\n",
    "        # reward = self.simulator.GetReward()\n",
    "        done = False\n",
    "\n",
    "        out = TensorDict(\n",
    "            {\n",
    "                \"next\": {\n",
    "                    \"observation\": {\n",
    "                        'tensors': {\n",
    "                            'o': self.model.tensors['o'],\n",
    "                            'c': self.model.tensors['c'],\n",
    "                            'ar': self.model.tensors['ar']     \n",
    "                        },\n",
    "                        'masks': {\n",
    "                            'o': self.model.masks['o'],\n",
    "                            'c': self.model.masks['c'],\n",
    "                            'ar': self.model.masks['ar']     \n",
    "                        }\n",
    "                        # 'orders': self.model.tensors['o'],\n",
    "                        # 'couriers': self.model.tensors['c'],\n",
    "                        # 'active_routes': self.model.tensors['ar'] \n",
    "                    },\n",
    "                    \"reward\": torch.tensor(rewards, dtype=torch.float32),\n",
    "                    \"done\": torch.tensor([False] * sub_batch_size, dtype=torch.bool),\n",
    "                }\n",
    "            },\n",
    "            batch_size=[sub_batch_size]\n",
    "            # batch_size=tensordict.shape[0]\n",
    "            # tensordict.shape,\n",
    "        )\n",
    "        return out\n",
    "    \n",
    "    def _reset(self, tensordict: TensorDictBase) -> TensorDictBase:\n",
    "        if tensordict is None or tensordict.is_empty():\n",
    "            return TensorDict(\n",
    "            {\n",
    "                \"observation\": {\n",
    "                    'tensors': {\n",
    "                        'o': self.model.tensors['o'],\n",
    "                        'c': self.model.tensors['c'],\n",
    "                        'ar': self.model.tensors['ar']     \n",
    "                    },\n",
    "                    'masks': {\n",
    "                        'o': self.model.masks['o'],\n",
    "                        'c': self.model.masks['c'],\n",
    "                        'ar': self.model.masks['ar']     \n",
    "                    }\n",
    "                        # 'orders': self.model.tensors['o'],\n",
    "                        # 'couriers': self.model.tensors['c'],\n",
    "                        # 'active_routes': self.model.tensors['ar'] \n",
    "                }\n",
    "            },\n",
    "            # batch_size=(16,),\n",
    "            # batch_size=(self.model.tensors['o'].shape[0],),\n",
    "            batch_size=[sub_batch_size]\n",
    "        ) \n",
    "        return tensordict\n",
    "        # return TensorDict(\n",
    "        #     {\n",
    "        #         \"observation\": tensordict['observation'],\n",
    "        #     },\n",
    "        #     # batch_size=tensordict.shape[0],\n",
    "        # )\n",
    "    \n",
    "    def _set_seed(self, seed: Optional[int]):\n",
    "        rng = torch.manual_seed(seed)\n",
    "        self.rng = rng\n",
    "\n",
    "    def _make_specs(self) -> None:\n",
    "        self.action_spec = UnboundedDiscreteTensorSpec(\n",
    "            dtype=torch.int,\n",
    "            shape=[sub_batch_size]\n",
    "            # shape=(1,)\n",
    "            # shape=(self.model.tensors['o'].shape[0],)\n",
    "        )\n",
    "        observation_spec = CompositeSpec(\n",
    "            tensors = CompositeSpec(\n",
    "                o = DiscreteTensorSpec(\n",
    "                    n=2,\n",
    "                    shape=[sub_batch_size],\n",
    "                    dtype=torch.float\n",
    "                ),\n",
    "                c = DiscreteTensorSpec(\n",
    "                    n=2,\n",
    "                    shape=[sub_batch_size],\n",
    "                    dtype=torch.float\n",
    "                ),\n",
    "                ar = DiscreteTensorSpec(\n",
    "                    n=2,\n",
    "                    shape=[sub_batch_size],\n",
    "                    dtype=torch.float\n",
    "                ),\n",
    "                shape=[sub_batch_size]\n",
    "            ),\n",
    "            masks = CompositeSpec(\n",
    "                o = UnboundedContinuousTensorSpec(\n",
    "                    dtype=torch.bool,\n",
    "                    shape=[sub_batch_size]\n",
    "                ),\n",
    "                c = UnboundedContinuousTensorSpec(\n",
    "                    dtype=torch.bool,\n",
    "                    shape=[sub_batch_size]\n",
    "                ),\n",
    "                ar = UnboundedContinuousTensorSpec(\n",
    "                    dtype=torch.bool,\n",
    "                    shape=[sub_batch_size]\n",
    "                ),\n",
    "                shape=[sub_batch_size]\n",
    "            ),\n",
    "            # orders = UnboundedContinuousTensorSpec(\n",
    "            #     dtype=torch.float32,\n",
    "            #     shape=[sub_batch_size]\n",
    "            # ),\n",
    "            # couriers = UnboundedContinuousTensorSpec(\n",
    "            #     dtype=torch.float32,\n",
    "            #     shape=[sub_batch_size]\n",
    "            # ),\n",
    "            # active_routes = UnboundedContinuousTensorSpec(\n",
    "            #     dtype=torch.float32,\n",
    "            #     shape=[sub_batch_size]\n",
    "            # ),\n",
    "            shape=[sub_batch_size]\n",
    "        )\n",
    "        # if not isinstance(observation_spec, CompositeSpec):\n",
    "        observation_spec = CompositeSpec(observation=observation_spec, shape=[sub_batch_size])\n",
    "            \n",
    "        self.observation_spec = observation_spec\n",
    "        self.reward_spec = UnboundedContinuousTensorSpec(\n",
    "            shape=[sub_batch_size],\n",
    "            dtype=torch.float32,\n",
    "        )\n",
    "        self.done_spec = BinaryDiscreteTensorSpec(\n",
    "            sub_batch_size,\n",
    "            shape=[sub_batch_size]\n",
    "        )\n",
    " "
   ]
  },
  {
   "cell_type": "code",
   "execution_count": 10,
   "metadata": {},
   "outputs": [],
   "source": [
    "my_env = SimulatorEnv(Simulator, model)"
   ]
  },
  {
   "cell_type": "code",
   "execution_count": 11,
   "metadata": {},
   "outputs": [],
   "source": [
    "env = TransformedEnv(\n",
    "    my_env,\n",
    "    # Compose(\n",
    "    #     # normalize observations\n",
    "    #     # ObservationNorm(in_keys=[\"observation\"]),\n",
    "    #     # DoubleToFloat(in_keys=[\"observation\"]),\n",
    "    #     StepCounter(),\n",
    "    # ),\n",
    ")"
   ]
  },
  {
   "cell_type": "code",
   "execution_count": 12,
   "metadata": {},
   "outputs": [
    {
     "name": "stdout",
     "output_type": "stream",
     "text": [
      "observation_spec: CompositeSpec(\n",
      "    observation: CompositeSpec(\n",
      "        tensors: CompositeSpec(\n",
      "            o: DiscreteTensorSpec(\n",
      "                 shape=torch.Size([4]), space=DiscreteBox(n=2), device=cpu, dtype=torch.float32, domain=discrete),\n",
      "            c: DiscreteTensorSpec(\n",
      "                 shape=torch.Size([4]), space=DiscreteBox(n=2), device=cpu, dtype=torch.float32, domain=discrete),\n",
      "            ar: DiscreteTensorSpec(\n",
      "                 shape=torch.Size([4]), space=DiscreteBox(n=2), device=cpu, dtype=torch.float32, domain=discrete), device=cpu, shape=torch.Size([4])),\n",
      "        masks: CompositeSpec(\n",
      "            o: UnboundedContinuousTensorSpec(\n",
      "                 shape=torch.Size([4]), space=None, device=cpu, dtype=torch.bool, domain=continuous),\n",
      "            c: UnboundedContinuousTensorSpec(\n",
      "                 shape=torch.Size([4]), space=None, device=cpu, dtype=torch.bool, domain=continuous),\n",
      "            ar: UnboundedContinuousTensorSpec(\n",
      "                 shape=torch.Size([4]), space=None, device=cpu, dtype=torch.bool, domain=continuous), device=cpu, shape=torch.Size([4])), device=cpu, shape=torch.Size([4])), device=cpu, shape=torch.Size([4]))\n",
      "reward_spec: UnboundedContinuousTensorSpec(\n",
      "     shape=torch.Size([4]), space=None, device=cpu, dtype=torch.float32, domain=continuous)\n",
      "input_spec: CompositeSpec(\n",
      "    action: UnboundedDiscreteTensorSpec(\n",
      "         shape=torch.Size([4]), space=ContinuousBox(minimum=Tensor(shape=torch.Size([4]), device=cpu, dtype=torch.int64, contiguous=True), maximum=Tensor(shape=torch.Size([4]), device=cpu, dtype=torch.int64, contiguous=True)), device=cpu, dtype=torch.int32, domain=continuous), device=cpu, shape=torch.Size([4]))\n",
      "action_spec (as defined by input_spec): UnboundedDiscreteTensorSpec(\n",
      "     shape=torch.Size([4]), space=ContinuousBox(minimum=Tensor(shape=torch.Size([4]), device=cpu, dtype=torch.int64, contiguous=True), maximum=Tensor(shape=torch.Size([4]), device=cpu, dtype=torch.int64, contiguous=True)), device=cpu, dtype=torch.int32, domain=continuous)\n"
     ]
    }
   ],
   "source": [
    "# env.transform[0].init_stats(num_iter=1000, reduce_dim=0, cat_dim=0)\n",
    "# print(\"normalization constant shape:\", env.transform[0].loc.shape)\n",
    "print(\"observation_spec:\", my_env.observation_spec)\n",
    "print(\"reward_spec:\", my_env.reward_spec)\n",
    "print(\"input_spec:\", my_env.input_spec)\n",
    "print(\"action_spec (as defined by input_spec):\", my_env.action_spec)"
   ]
  },
  {
   "cell_type": "code",
   "execution_count": 13,
   "metadata": {},
   "outputs": [],
   "source": [
    "# check_env_specs(env, return_contiguous=False)"
   ]
  },
  {
   "cell_type": "code",
   "execution_count": 14,
   "metadata": {},
   "outputs": [],
   "source": [
    "rollout = my_env.rollout(10, return_contiguous=False)\n",
    "# print(\"rollout of three steps:\", rollout)\n",
    "# print(\"Shape of the rollout TensorDict:\", rollout.batch_size)"
   ]
  },
  {
   "cell_type": "code",
   "execution_count": 15,
   "metadata": {},
   "outputs": [
    {
     "data": {
      "text/plain": [
       "torch.Size([4, 10])"
      ]
     },
     "execution_count": 15,
     "metadata": {},
     "output_type": "execute_result"
    }
   ],
   "source": [
    "rollout.batch_size"
   ]
  },
  {
   "cell_type": "code",
   "execution_count": 16,
   "metadata": {},
   "outputs": [],
   "source": [
    "policy_module = TensorDictModule(\n",
    "    net, in_keys=[('observation', 'tensors'), ('observation', 'masks')], out_keys=['logits', 'values']\n",
    ")"
   ]
  },
  {
   "cell_type": "code",
   "execution_count": 17,
   "metadata": {},
   "outputs": [
    {
     "name": "stdout",
     "output_type": "stream",
     "text": [
      "Running policy: TensorDict(\n",
      "    fields={\n",
      "        done: Tensor(shape=torch.Size([4]), device=cpu, dtype=torch.int64, is_shared=False),\n",
      "        logits: Tensor(shape=torch.Size([4, 17, 20]), device=cpu, dtype=torch.float32, is_shared=False),\n",
      "        observation: TensorDict(\n",
      "            fields={\n",
      "                masks: TensorDict(\n",
      "                    fields={\n",
      "                        ar: Tensor(shape=torch.Size([4, 1]), device=cpu, dtype=torch.bool, is_shared=False),\n",
      "                        c: Tensor(shape=torch.Size([4, 19]), device=cpu, dtype=torch.bool, is_shared=False),\n",
      "                        o: Tensor(shape=torch.Size([4, 17]), device=cpu, dtype=torch.bool, is_shared=False)},\n",
      "                    batch_size=torch.Size([4]),\n",
      "                    device=cpu,\n",
      "                    is_shared=False),\n",
      "                tensors: TensorDict(\n",
      "                    fields={\n",
      "                        ar: Tensor(shape=torch.Size([4, 1, 512]), device=cpu, dtype=torch.float32, is_shared=False),\n",
      "                        c: Tensor(shape=torch.Size([4, 19, 512]), device=cpu, dtype=torch.float32, is_shared=False),\n",
      "                        o: Tensor(shape=torch.Size([4, 17, 512]), device=cpu, dtype=torch.float32, is_shared=False)},\n",
      "                    batch_size=torch.Size([4]),\n",
      "                    device=cpu,\n",
      "                    is_shared=False)},\n",
      "            batch_size=torch.Size([4]),\n",
      "            device=cpu,\n",
      "            is_shared=False),\n",
      "        reward: Tensor(shape=torch.Size([4]), device=cpu, dtype=torch.float32, is_shared=False),\n",
      "        values: Tensor(shape=torch.Size([4, 17]), device=cpu, dtype=torch.float32, is_shared=False)},\n",
      "    batch_size=torch.Size([4]),\n",
      "    device=cpu,\n",
      "    is_shared=False)\n"
     ]
    }
   ],
   "source": [
    "print(\"Running policy:\", policy_module(my_env.reset()))\n",
    "# env.reset()"
   ]
  },
  {
   "cell_type": "code",
   "execution_count": 18,
   "metadata": {},
   "outputs": [],
   "source": [
    "# for i in [0, 1, 2, 3]:\n",
    "#     print(my_env.simulators[i].GetMetrics())\n",
    "#     print('-'* 50)\n"
   ]
  },
  {
   "cell_type": "code",
   "execution_count": 19,
   "metadata": {},
   "outputs": [],
   "source": [
    "# from tensordict.nn.distributions import Categorical\n",
    "from torch.distributions.categorical import Categorical\n",
    "policy_module_actor = ProbabilisticActor(\n",
    "    module=policy_module,\n",
    "    in_keys=[\"logits\"],\n",
    "    distribution_class=Categorical,\n",
    "    # distribution_kwargs={\n",
    "    #     \"n\": env.action_spec.space.n,\n",
    "    # },\n",
    "    return_log_prob=True,\n",
    "    # we'll need the log-prob for the numerator of the importance weights\n",
    ")"
   ]
  },
  {
   "cell_type": "code",
   "execution_count": 20,
   "metadata": {},
   "outputs": [],
   "source": [
    "# value_module = ValueOperator(\n",
    "#     module=net,\n",
    "#     in_keys=[('observation', 'tensors'), ('observation', 'masks')], \n",
    "#     out_keys=['logits', 'values']\n",
    "# )\n"
   ]
  },
  {
   "cell_type": "code",
   "execution_count": 21,
   "metadata": {},
   "outputs": [
    {
     "ename": "AssertionError",
     "evalue": "query should be unbatched 2D or batched 3D tensor but received 1-D query tensor",
     "output_type": "error",
     "traceback": [
      "\u001b[0;31m---------------------------------------------------------------------------\u001b[0m",
      "\u001b[0;31mAssertionError\u001b[0m                            Traceback (most recent call last)",
      "\u001b[1;32m/Users/dbok/PycharmProjects/delivery-RL/delivery-RL/rl_training.ipynb Cell 21\u001b[0m in \u001b[0;36m1\n\u001b[0;32m----> <a href='vscode-notebook-cell:/Users/dbok/PycharmProjects/delivery-RL/delivery-RL/rl_training.ipynb#X60sZmlsZQ%3D%3D?line=0'>1</a>\u001b[0m collector \u001b[39m=\u001b[39m SyncDataCollector(\n\u001b[1;32m      <a href='vscode-notebook-cell:/Users/dbok/PycharmProjects/delivery-RL/delivery-RL/rl_training.ipynb#X60sZmlsZQ%3D%3D?line=1'>2</a>\u001b[0m     my_env,\n\u001b[1;32m      <a href='vscode-notebook-cell:/Users/dbok/PycharmProjects/delivery-RL/delivery-RL/rl_training.ipynb#X60sZmlsZQ%3D%3D?line=2'>3</a>\u001b[0m     policy_module_actor,\n\u001b[1;32m      <a href='vscode-notebook-cell:/Users/dbok/PycharmProjects/delivery-RL/delivery-RL/rl_training.ipynb#X60sZmlsZQ%3D%3D?line=3'>4</a>\u001b[0m     frames_per_batch\u001b[39m=\u001b[39;49m\u001b[39m1\u001b[39;49m,\n\u001b[1;32m      <a href='vscode-notebook-cell:/Users/dbok/PycharmProjects/delivery-RL/delivery-RL/rl_training.ipynb#X60sZmlsZQ%3D%3D?line=4'>5</a>\u001b[0m     total_frames\u001b[39m=\u001b[39;49m\u001b[39m5\u001b[39;49m,\n\u001b[1;32m      <a href='vscode-notebook-cell:/Users/dbok/PycharmProjects/delivery-RL/delivery-RL/rl_training.ipynb#X60sZmlsZQ%3D%3D?line=5'>6</a>\u001b[0m     split_trajs\u001b[39m=\u001b[39;49m\u001b[39mFalse\u001b[39;49;00m,\n\u001b[1;32m      <a href='vscode-notebook-cell:/Users/dbok/PycharmProjects/delivery-RL/delivery-RL/rl_training.ipynb#X60sZmlsZQ%3D%3D?line=6'>7</a>\u001b[0m     device\u001b[39m=\u001b[39;49mdevice,\n\u001b[1;32m      <a href='vscode-notebook-cell:/Users/dbok/PycharmProjects/delivery-RL/delivery-RL/rl_training.ipynb#X60sZmlsZQ%3D%3D?line=7'>8</a>\u001b[0m )\n",
      "File \u001b[0;32m/usr/local/lib/python3.10/site-packages/torchrl/collectors/collectors.py:523\u001b[0m, in \u001b[0;36mSyncDataCollector.__init__\u001b[0;34m(self, create_env_fn, policy, frames_per_batch, total_frames, device, storing_device, create_env_kwargs, max_frames_per_traj, init_random_frames, reset_at_each_iter, postproc, split_trajs, exploration_mode, return_same_td, reset_when_done)\u001b[0m\n\u001b[1;32m    521\u001b[0m         \u001b[39mself\u001b[39m\u001b[39m.\u001b[39m_tensordict_out \u001b[39m=\u001b[39m env\u001b[39m.\u001b[39mfake_tensordict()\n\u001b[1;32m    522\u001b[0m         \u001b[39mself\u001b[39m\u001b[39m.\u001b[39m_tensordict_out \u001b[39m=\u001b[39m \u001b[39mself\u001b[39m\u001b[39m.\u001b[39m_tensordict_out\u001b[39m.\u001b[39mto(\u001b[39mself\u001b[39m\u001b[39m.\u001b[39mdevice)\n\u001b[0;32m--> 523\u001b[0m         \u001b[39mself\u001b[39m\u001b[39m.\u001b[39m_tensordict_out \u001b[39m=\u001b[39m \u001b[39mself\u001b[39;49m\u001b[39m.\u001b[39;49mpolicy(\u001b[39mself\u001b[39;49m\u001b[39m.\u001b[39;49m_tensordict_out)\u001b[39m.\u001b[39munsqueeze(\u001b[39m-\u001b[39m\u001b[39m1\u001b[39m)\n\u001b[1;32m    524\u001b[0m     \u001b[39mself\u001b[39m\u001b[39m.\u001b[39m_tensordict_out \u001b[39m=\u001b[39m (\n\u001b[1;32m    525\u001b[0m         \u001b[39mself\u001b[39m\u001b[39m.\u001b[39m_tensordict_out\u001b[39m.\u001b[39mexpand(\u001b[39m*\u001b[39menv\u001b[39m.\u001b[39mbatch_size, \u001b[39mself\u001b[39m\u001b[39m.\u001b[39mframes_per_batch)\n\u001b[1;32m    526\u001b[0m         \u001b[39m.\u001b[39mto_tensordict()\n\u001b[1;32m    527\u001b[0m         \u001b[39m.\u001b[39mzero_()\n\u001b[1;32m    528\u001b[0m     )\n\u001b[1;32m    529\u001b[0m \u001b[39m# in addition to outputs of the policy, we add traj_ids and step_count to\u001b[39;00m\n\u001b[1;32m    530\u001b[0m \u001b[39m# _tensordict_out which will be collected during rollout\u001b[39;00m\n",
      "File \u001b[0;32m/usr/local/lib/python3.10/site-packages/torch/nn/modules/module.py:1501\u001b[0m, in \u001b[0;36mModule._call_impl\u001b[0;34m(self, *args, **kwargs)\u001b[0m\n\u001b[1;32m   1496\u001b[0m \u001b[39m# If we don't have any hooks, we want to skip the rest of the logic in\u001b[39;00m\n\u001b[1;32m   1497\u001b[0m \u001b[39m# this function, and just call forward.\u001b[39;00m\n\u001b[1;32m   1498\u001b[0m \u001b[39mif\u001b[39;00m \u001b[39mnot\u001b[39;00m (\u001b[39mself\u001b[39m\u001b[39m.\u001b[39m_backward_hooks \u001b[39mor\u001b[39;00m \u001b[39mself\u001b[39m\u001b[39m.\u001b[39m_backward_pre_hooks \u001b[39mor\u001b[39;00m \u001b[39mself\u001b[39m\u001b[39m.\u001b[39m_forward_hooks \u001b[39mor\u001b[39;00m \u001b[39mself\u001b[39m\u001b[39m.\u001b[39m_forward_pre_hooks\n\u001b[1;32m   1499\u001b[0m         \u001b[39mor\u001b[39;00m _global_backward_pre_hooks \u001b[39mor\u001b[39;00m _global_backward_hooks\n\u001b[1;32m   1500\u001b[0m         \u001b[39mor\u001b[39;00m _global_forward_hooks \u001b[39mor\u001b[39;00m _global_forward_pre_hooks):\n\u001b[0;32m-> 1501\u001b[0m     \u001b[39mreturn\u001b[39;00m forward_call(\u001b[39m*\u001b[39;49margs, \u001b[39m*\u001b[39;49m\u001b[39m*\u001b[39;49mkwargs)\n\u001b[1;32m   1502\u001b[0m \u001b[39m# Do not call functions when jit is used\u001b[39;00m\n\u001b[1;32m   1503\u001b[0m full_backward_hooks, non_full_backward_hooks \u001b[39m=\u001b[39m [], []\n",
      "File \u001b[0;32m/usr/local/lib/python3.10/site-packages/tensordict/nn/probabilistic.py:408\u001b[0m, in \u001b[0;36mProbabilisticTensorDictSequential.forward\u001b[0;34m(self, tensordict, tensordict_out, **kwargs)\u001b[0m\n\u001b[1;32m    402\u001b[0m \u001b[39mdef\u001b[39;00m \u001b[39mforward\u001b[39m(\n\u001b[1;32m    403\u001b[0m     \u001b[39mself\u001b[39m,\n\u001b[1;32m    404\u001b[0m     tensordict: TensorDictBase,\n\u001b[1;32m    405\u001b[0m     tensordict_out: TensorDictBase \u001b[39m|\u001b[39m \u001b[39mNone\u001b[39;00m \u001b[39m=\u001b[39m \u001b[39mNone\u001b[39;00m,\n\u001b[1;32m    406\u001b[0m     \u001b[39m*\u001b[39m\u001b[39m*\u001b[39mkwargs,\n\u001b[1;32m    407\u001b[0m ) \u001b[39m-\u001b[39m\u001b[39m>\u001b[39m TensorDictBase:\n\u001b[0;32m--> 408\u001b[0m     tensordict_out \u001b[39m=\u001b[39m \u001b[39mself\u001b[39;49m\u001b[39m.\u001b[39;49mget_dist_params(tensordict, tensordict_out, \u001b[39m*\u001b[39;49m\u001b[39m*\u001b[39;49mkwargs)\n\u001b[1;32m    409\u001b[0m     \u001b[39mreturn\u001b[39;00m \u001b[39mself\u001b[39m\u001b[39m.\u001b[39mmodule[\u001b[39m-\u001b[39m\u001b[39m1\u001b[39m](tensordict_out, _requires_sample\u001b[39m=\u001b[39m\u001b[39mself\u001b[39m\u001b[39m.\u001b[39m_requires_sample)\n",
      "File \u001b[0;32m/usr/local/lib/python3.10/site-packages/tensordict/nn/probabilistic.py:386\u001b[0m, in \u001b[0;36mProbabilisticTensorDictSequential.get_dist_params\u001b[0;34m(self, tensordict, tensordict_out, **kwargs)\u001b[0m\n\u001b[1;32m    384\u001b[0m     mode \u001b[39m=\u001b[39m \u001b[39mself\u001b[39m\u001b[39m.\u001b[39mmodule[\u001b[39m-\u001b[39m\u001b[39m1\u001b[39m]\u001b[39m.\u001b[39mdefault_interaction_mode\n\u001b[1;32m    385\u001b[0m \u001b[39mwith\u001b[39;00m set_interaction_mode(mode):\n\u001b[0;32m--> 386\u001b[0m     \u001b[39mreturn\u001b[39;00m tds(tensordict, tensordict_out, \u001b[39m*\u001b[39;49m\u001b[39m*\u001b[39;49mkwargs)\n",
      "File \u001b[0;32m/usr/local/lib/python3.10/site-packages/torch/nn/modules/module.py:1501\u001b[0m, in \u001b[0;36mModule._call_impl\u001b[0;34m(self, *args, **kwargs)\u001b[0m\n\u001b[1;32m   1496\u001b[0m \u001b[39m# If we don't have any hooks, we want to skip the rest of the logic in\u001b[39;00m\n\u001b[1;32m   1497\u001b[0m \u001b[39m# this function, and just call forward.\u001b[39;00m\n\u001b[1;32m   1498\u001b[0m \u001b[39mif\u001b[39;00m \u001b[39mnot\u001b[39;00m (\u001b[39mself\u001b[39m\u001b[39m.\u001b[39m_backward_hooks \u001b[39mor\u001b[39;00m \u001b[39mself\u001b[39m\u001b[39m.\u001b[39m_backward_pre_hooks \u001b[39mor\u001b[39;00m \u001b[39mself\u001b[39m\u001b[39m.\u001b[39m_forward_hooks \u001b[39mor\u001b[39;00m \u001b[39mself\u001b[39m\u001b[39m.\u001b[39m_forward_pre_hooks\n\u001b[1;32m   1499\u001b[0m         \u001b[39mor\u001b[39;00m _global_backward_pre_hooks \u001b[39mor\u001b[39;00m _global_backward_hooks\n\u001b[1;32m   1500\u001b[0m         \u001b[39mor\u001b[39;00m _global_forward_hooks \u001b[39mor\u001b[39;00m _global_forward_pre_hooks):\n\u001b[0;32m-> 1501\u001b[0m     \u001b[39mreturn\u001b[39;00m forward_call(\u001b[39m*\u001b[39;49margs, \u001b[39m*\u001b[39;49m\u001b[39m*\u001b[39;49mkwargs)\n\u001b[1;32m   1502\u001b[0m \u001b[39m# Do not call functions when jit is used\u001b[39;00m\n\u001b[1;32m   1503\u001b[0m full_backward_hooks, non_full_backward_hooks \u001b[39m=\u001b[39m [], []\n",
      "File \u001b[0;32m/usr/local/lib/python3.10/site-packages/tensordict/nn/common.py:275\u001b[0m, in \u001b[0;36mdispatch.__call__.<locals>.wrapper\u001b[0;34m(_self, *args, **kwargs)\u001b[0m\n\u001b[1;32m    273\u001b[0m     out \u001b[39m=\u001b[39m \u001b[39mtuple\u001b[39m(out[key] \u001b[39mfor\u001b[39;00m key \u001b[39min\u001b[39;00m dest)\n\u001b[1;32m    274\u001b[0m     \u001b[39mreturn\u001b[39;00m out[\u001b[39m0\u001b[39m] \u001b[39mif\u001b[39;00m \u001b[39mlen\u001b[39m(out) \u001b[39m==\u001b[39m \u001b[39m1\u001b[39m \u001b[39melse\u001b[39;00m out\n\u001b[0;32m--> 275\u001b[0m \u001b[39mreturn\u001b[39;00m func(_self, tensordict, \u001b[39m*\u001b[39;49margs, \u001b[39m*\u001b[39;49m\u001b[39m*\u001b[39;49mkwargs)\n",
      "File \u001b[0;32m/usr/local/lib/python3.10/site-packages/tensordict/nn/sequence.py:246\u001b[0m, in \u001b[0;36mTensorDictSequential.forward\u001b[0;34m(self, tensordict, tensordict_out, **kwargs)\u001b[0m\n\u001b[1;32m    244\u001b[0m \u001b[39mif\u001b[39;00m \u001b[39mnot\u001b[39;00m \u001b[39mlen\u001b[39m(kwargs):\n\u001b[1;32m    245\u001b[0m     \u001b[39mfor\u001b[39;00m module \u001b[39min\u001b[39;00m \u001b[39mself\u001b[39m\u001b[39m.\u001b[39mmodule:\n\u001b[0;32m--> 246\u001b[0m         tensordict \u001b[39m=\u001b[39m \u001b[39mself\u001b[39;49m\u001b[39m.\u001b[39;49m_run_module(module, tensordict, \u001b[39m*\u001b[39;49m\u001b[39m*\u001b[39;49mkwargs)\n\u001b[1;32m    247\u001b[0m \u001b[39melse\u001b[39;00m:\n\u001b[1;32m    248\u001b[0m     \u001b[39mraise\u001b[39;00m \u001b[39mRuntimeError\u001b[39;00m(\n\u001b[1;32m    249\u001b[0m         \u001b[39m\"\u001b[39m\u001b[39mTensorDictSequential does not support keyword arguments other than \u001b[39m\u001b[39m'\u001b[39m\u001b[39mtensordict_out\u001b[39m\u001b[39m'\u001b[39m\u001b[39m, \u001b[39m\u001b[39m'\u001b[39m\u001b[39min_keys\u001b[39m\u001b[39m'\u001b[39m\u001b[39m and \u001b[39m\u001b[39m'\u001b[39m\u001b[39mout_keys\u001b[39m\u001b[39m'\u001b[39m\u001b[39m\"\u001b[39m\n\u001b[1;32m    250\u001b[0m     )\n",
      "File \u001b[0;32m/usr/local/lib/python3.10/site-packages/tensordict/nn/sequence.py:228\u001b[0m, in \u001b[0;36mTensorDictSequential._run_module\u001b[0;34m(self, module, tensordict, **kwargs)\u001b[0m\n\u001b[1;32m    224\u001b[0m tensordict_keys \u001b[39m=\u001b[39m \u001b[39mset\u001b[39m(tensordict\u001b[39m.\u001b[39mkeys(include_nested\u001b[39m=\u001b[39m\u001b[39mTrue\u001b[39;00m))\n\u001b[1;32m    225\u001b[0m \u001b[39mif\u001b[39;00m \u001b[39mnot\u001b[39;00m \u001b[39mself\u001b[39m\u001b[39m.\u001b[39mpartial_tolerant \u001b[39mor\u001b[39;00m \u001b[39mall\u001b[39m(\n\u001b[1;32m    226\u001b[0m     key \u001b[39min\u001b[39;00m tensordict_keys \u001b[39mfor\u001b[39;00m key \u001b[39min\u001b[39;00m module\u001b[39m.\u001b[39min_keys\n\u001b[1;32m    227\u001b[0m ):\n\u001b[0;32m--> 228\u001b[0m     tensordict \u001b[39m=\u001b[39m module(tensordict, \u001b[39m*\u001b[39;49m\u001b[39m*\u001b[39;49mkwargs)\n\u001b[1;32m    229\u001b[0m \u001b[39melif\u001b[39;00m \u001b[39mself\u001b[39m\u001b[39m.\u001b[39mpartial_tolerant \u001b[39mand\u001b[39;00m \u001b[39misinstance\u001b[39m(tensordict, LazyStackedTensorDict):\n\u001b[1;32m    230\u001b[0m     \u001b[39mfor\u001b[39;00m sub_td \u001b[39min\u001b[39;00m tensordict\u001b[39m.\u001b[39mtensordicts:\n",
      "File \u001b[0;32m/usr/local/lib/python3.10/site-packages/torch/nn/modules/module.py:1501\u001b[0m, in \u001b[0;36mModule._call_impl\u001b[0;34m(self, *args, **kwargs)\u001b[0m\n\u001b[1;32m   1496\u001b[0m \u001b[39m# If we don't have any hooks, we want to skip the rest of the logic in\u001b[39;00m\n\u001b[1;32m   1497\u001b[0m \u001b[39m# this function, and just call forward.\u001b[39;00m\n\u001b[1;32m   1498\u001b[0m \u001b[39mif\u001b[39;00m \u001b[39mnot\u001b[39;00m (\u001b[39mself\u001b[39m\u001b[39m.\u001b[39m_backward_hooks \u001b[39mor\u001b[39;00m \u001b[39mself\u001b[39m\u001b[39m.\u001b[39m_backward_pre_hooks \u001b[39mor\u001b[39;00m \u001b[39mself\u001b[39m\u001b[39m.\u001b[39m_forward_hooks \u001b[39mor\u001b[39;00m \u001b[39mself\u001b[39m\u001b[39m.\u001b[39m_forward_pre_hooks\n\u001b[1;32m   1499\u001b[0m         \u001b[39mor\u001b[39;00m _global_backward_pre_hooks \u001b[39mor\u001b[39;00m _global_backward_hooks\n\u001b[1;32m   1500\u001b[0m         \u001b[39mor\u001b[39;00m _global_forward_hooks \u001b[39mor\u001b[39;00m _global_forward_pre_hooks):\n\u001b[0;32m-> 1501\u001b[0m     \u001b[39mreturn\u001b[39;00m forward_call(\u001b[39m*\u001b[39;49margs, \u001b[39m*\u001b[39;49m\u001b[39m*\u001b[39;49mkwargs)\n\u001b[1;32m   1502\u001b[0m \u001b[39m# Do not call functions when jit is used\u001b[39;00m\n\u001b[1;32m   1503\u001b[0m full_backward_hooks, non_full_backward_hooks \u001b[39m=\u001b[39m [], []\n",
      "File \u001b[0;32m/usr/local/lib/python3.10/site-packages/tensordict/nn/common.py:275\u001b[0m, in \u001b[0;36mdispatch.__call__.<locals>.wrapper\u001b[0;34m(_self, *args, **kwargs)\u001b[0m\n\u001b[1;32m    273\u001b[0m     out \u001b[39m=\u001b[39m \u001b[39mtuple\u001b[39m(out[key] \u001b[39mfor\u001b[39;00m key \u001b[39min\u001b[39;00m dest)\n\u001b[1;32m    274\u001b[0m     \u001b[39mreturn\u001b[39;00m out[\u001b[39m0\u001b[39m] \u001b[39mif\u001b[39;00m \u001b[39mlen\u001b[39m(out) \u001b[39m==\u001b[39m \u001b[39m1\u001b[39m \u001b[39melse\u001b[39;00m out\n\u001b[0;32m--> 275\u001b[0m \u001b[39mreturn\u001b[39;00m func(_self, tensordict, \u001b[39m*\u001b[39;49margs, \u001b[39m*\u001b[39;49m\u001b[39m*\u001b[39;49mkwargs)\n",
      "File \u001b[0;32m/usr/local/lib/python3.10/site-packages/tensordict/nn/common.py:433\u001b[0m, in \u001b[0;36mTensorDictModule.forward\u001b[0;34m(self, tensordict, tensordict_out, **kwargs)\u001b[0m\n\u001b[1;32m    427\u001b[0m         \u001b[39mraise\u001b[39;00m \u001b[39mKeyError\u001b[39;00m(\n\u001b[1;32m    428\u001b[0m             \u001b[39m\"\u001b[39m\u001b[39mSome tensors that are necessary for the module call may \u001b[39m\u001b[39m\"\u001b[39m\n\u001b[1;32m    429\u001b[0m             \u001b[39m\"\u001b[39m\u001b[39mnot have not been found in the input tensordict: \u001b[39m\u001b[39m\"\u001b[39m\n\u001b[1;32m    430\u001b[0m             \u001b[39mf\u001b[39m\u001b[39m\"\u001b[39m\u001b[39mthe following inputs are None: \u001b[39m\u001b[39m{\u001b[39;00mnone_set\u001b[39m}\u001b[39;00m\u001b[39m.\u001b[39m\u001b[39m\"\u001b[39m\n\u001b[1;32m    431\u001b[0m         ) \u001b[39mfrom\u001b[39;00m \u001b[39merr\u001b[39;00m\n\u001b[1;32m    432\u001b[0m     \u001b[39melse\u001b[39;00m:\n\u001b[0;32m--> 433\u001b[0m         \u001b[39mraise\u001b[39;00m err\n\u001b[1;32m    434\u001b[0m \u001b[39mif\u001b[39;00m \u001b[39mnot\u001b[39;00m \u001b[39misinstance\u001b[39m(tensors, \u001b[39mtuple\u001b[39m):\n\u001b[1;32m    435\u001b[0m     tensors \u001b[39m=\u001b[39m (tensors,)\n",
      "File \u001b[0;32m/usr/local/lib/python3.10/site-packages/tensordict/nn/common.py:421\u001b[0m, in \u001b[0;36mTensorDictModule.forward\u001b[0;34m(self, tensordict, tensordict_out, **kwargs)\u001b[0m\n\u001b[1;32m    419\u001b[0m tensors \u001b[39m=\u001b[39m \u001b[39mtuple\u001b[39m(tensordict\u001b[39m.\u001b[39mget(in_key, \u001b[39mNone\u001b[39;00m) \u001b[39mfor\u001b[39;00m in_key \u001b[39min\u001b[39;00m \u001b[39mself\u001b[39m\u001b[39m.\u001b[39min_keys)\n\u001b[1;32m    420\u001b[0m \u001b[39mtry\u001b[39;00m:\n\u001b[0;32m--> 421\u001b[0m     tensors \u001b[39m=\u001b[39m \u001b[39mself\u001b[39;49m\u001b[39m.\u001b[39;49m_call_module(tensors, \u001b[39m*\u001b[39;49m\u001b[39m*\u001b[39;49mkwargs)\n\u001b[1;32m    422\u001b[0m \u001b[39mexcept\u001b[39;00m \u001b[39mException\u001b[39;00m \u001b[39mas\u001b[39;00m err:\n\u001b[1;32m    423\u001b[0m     \u001b[39mif\u001b[39;00m \u001b[39many\u001b[39m(tensor \u001b[39mis\u001b[39;00m \u001b[39mNone\u001b[39;00m \u001b[39mfor\u001b[39;00m tensor \u001b[39min\u001b[39;00m tensors) \u001b[39mand\u001b[39;00m \u001b[39m\"\u001b[39m\u001b[39mNone\u001b[39m\u001b[39m\"\u001b[39m \u001b[39min\u001b[39;00m \u001b[39mstr\u001b[39m(err):\n",
      "File \u001b[0;32m/usr/local/lib/python3.10/site-packages/tensordict/nn/common.py:408\u001b[0m, in \u001b[0;36mTensorDictModule._call_module\u001b[0;34m(self, tensors, **kwargs)\u001b[0m\n\u001b[1;32m    405\u001b[0m \u001b[39mdef\u001b[39;00m \u001b[39m_call_module\u001b[39m(\n\u001b[1;32m    406\u001b[0m     \u001b[39mself\u001b[39m, tensors: Sequence[Tensor], \u001b[39m*\u001b[39m\u001b[39m*\u001b[39mkwargs: Any\n\u001b[1;32m    407\u001b[0m ) \u001b[39m-\u001b[39m\u001b[39m>\u001b[39m Tensor \u001b[39m|\u001b[39m Sequence[Tensor]:\n\u001b[0;32m--> 408\u001b[0m     out \u001b[39m=\u001b[39m \u001b[39mself\u001b[39;49m\u001b[39m.\u001b[39;49mmodule(\u001b[39m*\u001b[39;49mtensors, \u001b[39m*\u001b[39;49m\u001b[39m*\u001b[39;49mkwargs)\n\u001b[1;32m    409\u001b[0m     \u001b[39mreturn\u001b[39;00m out\n",
      "File \u001b[0;32m/usr/local/lib/python3.10/site-packages/torch/nn/modules/module.py:1501\u001b[0m, in \u001b[0;36mModule._call_impl\u001b[0;34m(self, *args, **kwargs)\u001b[0m\n\u001b[1;32m   1496\u001b[0m \u001b[39m# If we don't have any hooks, we want to skip the rest of the logic in\u001b[39;00m\n\u001b[1;32m   1497\u001b[0m \u001b[39m# this function, and just call forward.\u001b[39;00m\n\u001b[1;32m   1498\u001b[0m \u001b[39mif\u001b[39;00m \u001b[39mnot\u001b[39;00m (\u001b[39mself\u001b[39m\u001b[39m.\u001b[39m_backward_hooks \u001b[39mor\u001b[39;00m \u001b[39mself\u001b[39m\u001b[39m.\u001b[39m_backward_pre_hooks \u001b[39mor\u001b[39;00m \u001b[39mself\u001b[39m\u001b[39m.\u001b[39m_forward_hooks \u001b[39mor\u001b[39;00m \u001b[39mself\u001b[39m\u001b[39m.\u001b[39m_forward_pre_hooks\n\u001b[1;32m   1499\u001b[0m         \u001b[39mor\u001b[39;00m _global_backward_pre_hooks \u001b[39mor\u001b[39;00m _global_backward_hooks\n\u001b[1;32m   1500\u001b[0m         \u001b[39mor\u001b[39;00m _global_forward_hooks \u001b[39mor\u001b[39;00m _global_forward_pre_hooks):\n\u001b[0;32m-> 1501\u001b[0m     \u001b[39mreturn\u001b[39;00m forward_call(\u001b[39m*\u001b[39;49margs, \u001b[39m*\u001b[39;49m\u001b[39m*\u001b[39;49mkwargs)\n\u001b[1;32m   1502\u001b[0m \u001b[39m# Do not call functions when jit is used\u001b[39;00m\n\u001b[1;32m   1503\u001b[0m full_backward_hooks, non_full_backward_hooks \u001b[39m=\u001b[39m [], []\n",
      "File \u001b[0;32m~/PycharmProjects/delivery-RL/delivery-RL/networks/scoring_v1.py:112\u001b[0m, in \u001b[0;36mScoringNet.forward\u001b[0;34m(self, tensors, masks)\u001b[0m\n\u001b[1;32m    108\u001b[0m \u001b[39mdef\u001b[39;00m \u001b[39mforward\u001b[39m(\u001b[39mself\u001b[39m, tensors, masks):\n\u001b[1;32m    109\u001b[0m     \u001b[39m# self.masks = None\u001b[39;00m\n\u001b[1;32m    110\u001b[0m     \u001b[39m# ord, crr, ar = self.make_tensors_and_create_masks(batch, current_time)\u001b[39;00m\n\u001b[0;32m--> 112\u001b[0m     \u001b[39mord\u001b[39m, crr \u001b[39m=\u001b[39m \u001b[39mself\u001b[39;49m\u001b[39m.\u001b[39;49mencoder_AR(tensors[\u001b[39m'\u001b[39;49m\u001b[39mo\u001b[39;49m\u001b[39m'\u001b[39;49m], tensors[\u001b[39m'\u001b[39;49m\u001b[39mc\u001b[39;49m\u001b[39m'\u001b[39;49m], tensors[\u001b[39m'\u001b[39;49m\u001b[39mar\u001b[39;49m\u001b[39m'\u001b[39;49m], masks)\n\u001b[1;32m    113\u001b[0m     \u001b[39mord\u001b[39m, crr \u001b[39m=\u001b[39m \u001b[39mself\u001b[39m\u001b[39m.\u001b[39mencoder_OC(\u001b[39mord\u001b[39m, crr, masks)\n\u001b[1;32m    114\u001b[0m     ord_scores, ord_fake_crr \u001b[39m=\u001b[39m \u001b[39mself\u001b[39m\u001b[39m.\u001b[39mscore_and_fake_heads(\u001b[39mord\u001b[39m)\n",
      "File \u001b[0;32m~/PycharmProjects/delivery-RL/delivery-RL/networks/scoring_v1.py:163\u001b[0m, in \u001b[0;36mScoringNet.encoder_AR\u001b[0;34m(self, ord, crr, ar, masks)\u001b[0m\n\u001b[1;32m    162\u001b[0m \u001b[39mdef\u001b[39;00m \u001b[39mencoder_AR\u001b[39m(\u001b[39mself\u001b[39m, \u001b[39mord\u001b[39m, crr, ar, masks):\n\u001b[0;32m--> 163\u001b[0m     new_ord \u001b[39m=\u001b[39m \u001b[39mself\u001b[39;49m\u001b[39m.\u001b[39;49mencoders_AR[\u001b[39m'\u001b[39;49m\u001b[39mo\u001b[39;49m\u001b[39m'\u001b[39;49m](\u001b[39mord\u001b[39;49m, ar, tgt_key_padding_mask\u001b[39m=\u001b[39;49mmasks[\u001b[39m'\u001b[39;49m\u001b[39mo\u001b[39;49m\u001b[39m'\u001b[39;49m], memory_key_padding_mask\u001b[39m=\u001b[39;49mmasks[\u001b[39m'\u001b[39;49m\u001b[39mar\u001b[39;49m\u001b[39m'\u001b[39;49m])\n\u001b[1;32m    164\u001b[0m     new_crr \u001b[39m=\u001b[39m \u001b[39mself\u001b[39m\u001b[39m.\u001b[39mencoders_AR[\u001b[39m'\u001b[39m\u001b[39mc\u001b[39m\u001b[39m'\u001b[39m](crr, ar, tgt_key_padding_mask\u001b[39m=\u001b[39mmasks[\u001b[39m'\u001b[39m\u001b[39mc\u001b[39m\u001b[39m'\u001b[39m], memory_key_padding_mask\u001b[39m=\u001b[39mmasks[\u001b[39m'\u001b[39m\u001b[39mar\u001b[39m\u001b[39m'\u001b[39m])\n\u001b[1;32m    166\u001b[0m     \u001b[39mreturn\u001b[39;00m new_ord, new_crr\n",
      "File \u001b[0;32m/usr/local/lib/python3.10/site-packages/torch/nn/modules/module.py:1501\u001b[0m, in \u001b[0;36mModule._call_impl\u001b[0;34m(self, *args, **kwargs)\u001b[0m\n\u001b[1;32m   1496\u001b[0m \u001b[39m# If we don't have any hooks, we want to skip the rest of the logic in\u001b[39;00m\n\u001b[1;32m   1497\u001b[0m \u001b[39m# this function, and just call forward.\u001b[39;00m\n\u001b[1;32m   1498\u001b[0m \u001b[39mif\u001b[39;00m \u001b[39mnot\u001b[39;00m (\u001b[39mself\u001b[39m\u001b[39m.\u001b[39m_backward_hooks \u001b[39mor\u001b[39;00m \u001b[39mself\u001b[39m\u001b[39m.\u001b[39m_backward_pre_hooks \u001b[39mor\u001b[39;00m \u001b[39mself\u001b[39m\u001b[39m.\u001b[39m_forward_hooks \u001b[39mor\u001b[39;00m \u001b[39mself\u001b[39m\u001b[39m.\u001b[39m_forward_pre_hooks\n\u001b[1;32m   1499\u001b[0m         \u001b[39mor\u001b[39;00m _global_backward_pre_hooks \u001b[39mor\u001b[39;00m _global_backward_hooks\n\u001b[1;32m   1500\u001b[0m         \u001b[39mor\u001b[39;00m _global_forward_hooks \u001b[39mor\u001b[39;00m _global_forward_pre_hooks):\n\u001b[0;32m-> 1501\u001b[0m     \u001b[39mreturn\u001b[39;00m forward_call(\u001b[39m*\u001b[39;49margs, \u001b[39m*\u001b[39;49m\u001b[39m*\u001b[39;49mkwargs)\n\u001b[1;32m   1502\u001b[0m \u001b[39m# Do not call functions when jit is used\u001b[39;00m\n\u001b[1;32m   1503\u001b[0m full_backward_hooks, non_full_backward_hooks \u001b[39m=\u001b[39m [], []\n",
      "File \u001b[0;32m/usr/local/lib/python3.10/site-packages/torch/nn/modules/transformer.py:698\u001b[0m, in \u001b[0;36mTransformerDecoderLayer.forward\u001b[0;34m(self, tgt, memory, tgt_mask, memory_mask, tgt_key_padding_mask, memory_key_padding_mask, tgt_is_causal, memory_is_causal)\u001b[0m\n\u001b[1;32m    696\u001b[0m     x \u001b[39m=\u001b[39m x \u001b[39m+\u001b[39m \u001b[39mself\u001b[39m\u001b[39m.\u001b[39m_ff_block(\u001b[39mself\u001b[39m\u001b[39m.\u001b[39mnorm3(x))\n\u001b[1;32m    697\u001b[0m \u001b[39melse\u001b[39;00m:\n\u001b[0;32m--> 698\u001b[0m     x \u001b[39m=\u001b[39m \u001b[39mself\u001b[39m\u001b[39m.\u001b[39mnorm1(x \u001b[39m+\u001b[39m \u001b[39mself\u001b[39;49m\u001b[39m.\u001b[39;49m_sa_block(x, tgt_mask, tgt_key_padding_mask, tgt_is_causal))\n\u001b[1;32m    699\u001b[0m     x \u001b[39m=\u001b[39m \u001b[39mself\u001b[39m\u001b[39m.\u001b[39mnorm2(x \u001b[39m+\u001b[39m \u001b[39mself\u001b[39m\u001b[39m.\u001b[39m_mha_block(x, memory, memory_mask, memory_key_padding_mask, memory_is_causal))\n\u001b[1;32m    700\u001b[0m     x \u001b[39m=\u001b[39m \u001b[39mself\u001b[39m\u001b[39m.\u001b[39mnorm3(x \u001b[39m+\u001b[39m \u001b[39mself\u001b[39m\u001b[39m.\u001b[39m_ff_block(x))\n",
      "File \u001b[0;32m/usr/local/lib/python3.10/site-packages/torch/nn/modules/transformer.py:707\u001b[0m, in \u001b[0;36mTransformerDecoderLayer._sa_block\u001b[0;34m(self, x, attn_mask, key_padding_mask, is_causal)\u001b[0m\n\u001b[1;32m    705\u001b[0m \u001b[39mdef\u001b[39;00m \u001b[39m_sa_block\u001b[39m(\u001b[39mself\u001b[39m, x: Tensor,\n\u001b[1;32m    706\u001b[0m               attn_mask: Optional[Tensor], key_padding_mask: Optional[Tensor], is_causal: \u001b[39mbool\u001b[39m \u001b[39m=\u001b[39m \u001b[39mFalse\u001b[39;00m) \u001b[39m-\u001b[39m\u001b[39m>\u001b[39m Tensor:\n\u001b[0;32m--> 707\u001b[0m     x \u001b[39m=\u001b[39m \u001b[39mself\u001b[39;49m\u001b[39m.\u001b[39;49mself_attn(x, x, x,\n\u001b[1;32m    708\u001b[0m                        attn_mask\u001b[39m=\u001b[39;49mattn_mask,\n\u001b[1;32m    709\u001b[0m                        key_padding_mask\u001b[39m=\u001b[39;49mkey_padding_mask,\n\u001b[1;32m    710\u001b[0m                        is_causal\u001b[39m=\u001b[39;49mis_causal,\n\u001b[1;32m    711\u001b[0m                        need_weights\u001b[39m=\u001b[39;49m\u001b[39mFalse\u001b[39;49;00m)[\u001b[39m0\u001b[39m]\n\u001b[1;32m    712\u001b[0m     \u001b[39mreturn\u001b[39;00m \u001b[39mself\u001b[39m\u001b[39m.\u001b[39mdropout1(x)\n",
      "File \u001b[0;32m/usr/local/lib/python3.10/site-packages/torch/nn/modules/module.py:1501\u001b[0m, in \u001b[0;36mModule._call_impl\u001b[0;34m(self, *args, **kwargs)\u001b[0m\n\u001b[1;32m   1496\u001b[0m \u001b[39m# If we don't have any hooks, we want to skip the rest of the logic in\u001b[39;00m\n\u001b[1;32m   1497\u001b[0m \u001b[39m# this function, and just call forward.\u001b[39;00m\n\u001b[1;32m   1498\u001b[0m \u001b[39mif\u001b[39;00m \u001b[39mnot\u001b[39;00m (\u001b[39mself\u001b[39m\u001b[39m.\u001b[39m_backward_hooks \u001b[39mor\u001b[39;00m \u001b[39mself\u001b[39m\u001b[39m.\u001b[39m_backward_pre_hooks \u001b[39mor\u001b[39;00m \u001b[39mself\u001b[39m\u001b[39m.\u001b[39m_forward_hooks \u001b[39mor\u001b[39;00m \u001b[39mself\u001b[39m\u001b[39m.\u001b[39m_forward_pre_hooks\n\u001b[1;32m   1499\u001b[0m         \u001b[39mor\u001b[39;00m _global_backward_pre_hooks \u001b[39mor\u001b[39;00m _global_backward_hooks\n\u001b[1;32m   1500\u001b[0m         \u001b[39mor\u001b[39;00m _global_forward_hooks \u001b[39mor\u001b[39;00m _global_forward_pre_hooks):\n\u001b[0;32m-> 1501\u001b[0m     \u001b[39mreturn\u001b[39;00m forward_call(\u001b[39m*\u001b[39;49margs, \u001b[39m*\u001b[39;49m\u001b[39m*\u001b[39;49mkwargs)\n\u001b[1;32m   1502\u001b[0m \u001b[39m# Do not call functions when jit is used\u001b[39;00m\n\u001b[1;32m   1503\u001b[0m full_backward_hooks, non_full_backward_hooks \u001b[39m=\u001b[39m [], []\n",
      "File \u001b[0;32m/usr/local/lib/python3.10/site-packages/torch/nn/modules/activation.py:1189\u001b[0m, in \u001b[0;36mMultiheadAttention.forward\u001b[0;34m(self, query, key, value, key_padding_mask, need_weights, attn_mask, average_attn_weights, is_causal)\u001b[0m\n\u001b[1;32m   1175\u001b[0m     attn_output, attn_output_weights \u001b[39m=\u001b[39m F\u001b[39m.\u001b[39mmulti_head_attention_forward(\n\u001b[1;32m   1176\u001b[0m         query, key, value, \u001b[39mself\u001b[39m\u001b[39m.\u001b[39membed_dim, \u001b[39mself\u001b[39m\u001b[39m.\u001b[39mnum_heads,\n\u001b[1;32m   1177\u001b[0m         \u001b[39mself\u001b[39m\u001b[39m.\u001b[39min_proj_weight, \u001b[39mself\u001b[39m\u001b[39m.\u001b[39min_proj_bias,\n\u001b[0;32m   (...)\u001b[0m\n\u001b[1;32m   1186\u001b[0m         average_attn_weights\u001b[39m=\u001b[39maverage_attn_weights,\n\u001b[1;32m   1187\u001b[0m         is_causal\u001b[39m=\u001b[39mis_causal)\n\u001b[1;32m   1188\u001b[0m \u001b[39melse\u001b[39;00m:\n\u001b[0;32m-> 1189\u001b[0m     attn_output, attn_output_weights \u001b[39m=\u001b[39m F\u001b[39m.\u001b[39;49mmulti_head_attention_forward(\n\u001b[1;32m   1190\u001b[0m         query, key, value, \u001b[39mself\u001b[39;49m\u001b[39m.\u001b[39;49membed_dim, \u001b[39mself\u001b[39;49m\u001b[39m.\u001b[39;49mnum_heads,\n\u001b[1;32m   1191\u001b[0m         \u001b[39mself\u001b[39;49m\u001b[39m.\u001b[39;49min_proj_weight, \u001b[39mself\u001b[39;49m\u001b[39m.\u001b[39;49min_proj_bias,\n\u001b[1;32m   1192\u001b[0m         \u001b[39mself\u001b[39;49m\u001b[39m.\u001b[39;49mbias_k, \u001b[39mself\u001b[39;49m\u001b[39m.\u001b[39;49mbias_v, \u001b[39mself\u001b[39;49m\u001b[39m.\u001b[39;49madd_zero_attn,\n\u001b[1;32m   1193\u001b[0m         \u001b[39mself\u001b[39;49m\u001b[39m.\u001b[39;49mdropout, \u001b[39mself\u001b[39;49m\u001b[39m.\u001b[39;49mout_proj\u001b[39m.\u001b[39;49mweight, \u001b[39mself\u001b[39;49m\u001b[39m.\u001b[39;49mout_proj\u001b[39m.\u001b[39;49mbias,\n\u001b[1;32m   1194\u001b[0m         training\u001b[39m=\u001b[39;49m\u001b[39mself\u001b[39;49m\u001b[39m.\u001b[39;49mtraining,\n\u001b[1;32m   1195\u001b[0m         key_padding_mask\u001b[39m=\u001b[39;49mkey_padding_mask,\n\u001b[1;32m   1196\u001b[0m         need_weights\u001b[39m=\u001b[39;49mneed_weights,\n\u001b[1;32m   1197\u001b[0m         attn_mask\u001b[39m=\u001b[39;49mattn_mask,\n\u001b[1;32m   1198\u001b[0m         average_attn_weights\u001b[39m=\u001b[39;49maverage_attn_weights,\n\u001b[1;32m   1199\u001b[0m         is_causal\u001b[39m=\u001b[39;49mis_causal)\n\u001b[1;32m   1200\u001b[0m \u001b[39mif\u001b[39;00m \u001b[39mself\u001b[39m\u001b[39m.\u001b[39mbatch_first \u001b[39mand\u001b[39;00m is_batched:\n\u001b[1;32m   1201\u001b[0m     \u001b[39mreturn\u001b[39;00m attn_output\u001b[39m.\u001b[39mtranspose(\u001b[39m1\u001b[39m, \u001b[39m0\u001b[39m), attn_output_weights\n",
      "File \u001b[0;32m/usr/local/lib/python3.10/site-packages/torch/nn/functional.py:5140\u001b[0m, in \u001b[0;36mmulti_head_attention_forward\u001b[0;34m(query, key, value, embed_dim_to_check, num_heads, in_proj_weight, in_proj_bias, bias_k, bias_v, add_zero_attn, dropout_p, out_proj_weight, out_proj_bias, training, key_padding_mask, need_weights, attn_mask, use_separate_proj_weight, q_proj_weight, k_proj_weight, v_proj_weight, static_k, static_v, average_attn_weights, is_causal)\u001b[0m\n\u001b[1;32m   5109\u001b[0m \u001b[39mif\u001b[39;00m has_torch_function(tens_ops):\n\u001b[1;32m   5110\u001b[0m     \u001b[39mreturn\u001b[39;00m handle_torch_function(\n\u001b[1;32m   5111\u001b[0m         multi_head_attention_forward,\n\u001b[1;32m   5112\u001b[0m         tens_ops,\n\u001b[0;32m   (...)\u001b[0m\n\u001b[1;32m   5137\u001b[0m         average_attn_weights\u001b[39m=\u001b[39maverage_attn_weights,\n\u001b[1;32m   5138\u001b[0m     )\n\u001b[0;32m-> 5140\u001b[0m is_batched \u001b[39m=\u001b[39m _mha_shape_check(query, key, value, key_padding_mask, attn_mask, num_heads)\n\u001b[1;32m   5142\u001b[0m \u001b[39m# For unbatched input, we unsqueeze at the expected batch-dim to pretend that the input\u001b[39;00m\n\u001b[1;32m   5143\u001b[0m \u001b[39m# is batched, run the computation and before returning squeeze the\u001b[39;00m\n\u001b[1;32m   5144\u001b[0m \u001b[39m# batch dimension so that the output doesn't carry this temporary batch dimension.\u001b[39;00m\n\u001b[1;32m   5145\u001b[0m \u001b[39mif\u001b[39;00m \u001b[39mnot\u001b[39;00m is_batched:\n\u001b[1;32m   5146\u001b[0m     \u001b[39m# unsqueeze if the input is unbatched\u001b[39;00m\n",
      "File \u001b[0;32m/usr/local/lib/python3.10/site-packages/torch/nn/functional.py:4977\u001b[0m, in \u001b[0;36m_mha_shape_check\u001b[0;34m(query, key, value, key_padding_mask, attn_mask, num_heads)\u001b[0m\n\u001b[1;32m   4974\u001b[0m             \u001b[39massert\u001b[39;00m attn_mask\u001b[39m.\u001b[39mshape \u001b[39m==\u001b[39m expected_shape, \\\n\u001b[1;32m   4975\u001b[0m                 (\u001b[39mf\u001b[39m\u001b[39m\"\u001b[39m\u001b[39mExpected `attn_mask` shape to be \u001b[39m\u001b[39m{\u001b[39;00mexpected_shape\u001b[39m}\u001b[39;00m\u001b[39m but got \u001b[39m\u001b[39m{\u001b[39;00mattn_mask\u001b[39m.\u001b[39mshape\u001b[39m}\u001b[39;00m\u001b[39m\"\u001b[39m)\n\u001b[1;32m   4976\u001b[0m \u001b[39melse\u001b[39;00m:\n\u001b[0;32m-> 4977\u001b[0m     \u001b[39mraise\u001b[39;00m \u001b[39mAssertionError\u001b[39;00m(\n\u001b[1;32m   4978\u001b[0m         \u001b[39mf\u001b[39m\u001b[39m\"\u001b[39m\u001b[39mquery should be unbatched 2D or batched 3D tensor but received \u001b[39m\u001b[39m{\u001b[39;00mquery\u001b[39m.\u001b[39mdim()\u001b[39m}\u001b[39;00m\u001b[39m-D query tensor\u001b[39m\u001b[39m\"\u001b[39m)\n\u001b[1;32m   4980\u001b[0m \u001b[39mreturn\u001b[39;00m is_batched\n",
      "\u001b[0;31mAssertionError\u001b[0m: query should be unbatched 2D or batched 3D tensor but received 1-D query tensor"
     ]
    }
   ],
   "source": [
    "collector = SyncDataCollector(\n",
    "    my_env,\n",
    "    policy_module_actor,\n",
    "    frames_per_batch=1,\n",
    "    total_frames=5,\n",
    "    split_trajs=False,\n",
    "    device=device,\n",
    ")"
   ]
  },
  {
   "attachments": {},
   "cell_type": "markdown",
   "metadata": {},
   "source": [
    "## Testing area"
   ]
  },
  {
   "cell_type": "code",
   "execution_count": 19,
   "metadata": {},
   "outputs": [],
   "source": [
    "bs = 2\n",
    "\n",
    "class TestEnv(EnvBase):\n",
    "    def __init__(self, seed=None, device=\"cpu\"):\n",
    "        super().__init__(device=device, batch_size=[bs])\n",
    "        self._make_specs()\n",
    "        \n",
    "        if seed is None:\n",
    "            seed = torch.empty((), dtype=torch.long).random_().item()\n",
    "        self.set_seed(seed)\n",
    "        \n",
    "    def _step(self, tensordict: TensorDictBase) -> TensorDictBase:\n",
    "        '''\n",
    "        tensordict['action'] - a np.array of indexes of couriers assigned for the given order. If there is no courier assigned -1 is provided.\n",
    "        '''\n",
    "        print('next')\n",
    "        out = TensorDict(\n",
    "            {\n",
    "                \"next\": {\n",
    "                    \"observation\": TensorDict({\n",
    "                        'a': torch.tensor([[-1, -2], [-4, -5]], dtype=torch.float),\n",
    "                        'b': torch.tensor([[1, 2, 3], [4, 5, 6]], dtype=torch.float),\n",
    "                        },\n",
    "                        batch_size=[bs]\n",
    "                    ),\n",
    "                    \"reward\": torch.tensor([0] * bs, dtype=torch.float32),\n",
    "                    \"done\": torch.tensor([False] * bs, dtype=torch.bool),\n",
    "                }\n",
    "            },\n",
    "            batch_size=[bs]\n",
    "        )\n",
    "        return out\n",
    "    \n",
    "    def _reset(self, tensordict: TensorDictBase) -> TensorDictBase:\n",
    "        if tensordict is None or tensordict.is_empty():\n",
    "            return TensorDict(\n",
    "            {\n",
    "                \"observation\": TensorDict({\n",
    "                        'a': torch.tensor([[-1, -2], [-4, -5]], dtype=torch.float),\n",
    "                        'b': torch.tensor([[1, 2, 3], [4, 5, 6]], dtype=torch.float),\n",
    "                        },\n",
    "                        batch_size=[bs]\n",
    "                    ),\n",
    "            },\n",
    "            batch_size=[bs]\n",
    "        ) \n",
    "        return tensordict\n",
    "    \n",
    "    def _set_seed(self, seed: Optional[int]):\n",
    "        rng = torch.manual_seed(seed)\n",
    "        self.rng = rng\n",
    "\n",
    "    def _make_specs(self) -> None:\n",
    "        self.action_spec = UnboundedDiscreteTensorSpec(\n",
    "            dtype=torch.int,\n",
    "            shape=[bs]\n",
    "            # shape=(1,)\n",
    "            # shape=(self.model.tensors['o'].shape[0],)\n",
    "        )\n",
    "        observation_spec = CompositeSpec(\n",
    "            a = UnboundedContinuousTensorSpec(\n",
    "                dtype=torch.float32,\n",
    "                shape=[bs]\n",
    "            ),\n",
    "            b = UnboundedContinuousTensorSpec(\n",
    "                dtype=torch.float32,\n",
    "                shape=[bs]\n",
    "            ),\n",
    "            shape=[bs]\n",
    "        )\n",
    "        # if not isinstance(observation_spec, CompositeSpec):\n",
    "        observation_spec = CompositeSpec(observation=observation_spec, shape=[bs])\n",
    "            \n",
    "        self.observation_spec = observation_spec\n",
    "        self.reward_spec = UnboundedContinuousTensorSpec(\n",
    "            shape=[bs],\n",
    "            dtype=torch.float32,\n",
    "        )\n",
    "        self.done_spec = BinaryDiscreteTensorSpec(\n",
    "            bs,\n",
    "            shape=[bs]\n",
    "        )\n",
    " "
   ]
  },
  {
   "cell_type": "code",
   "execution_count": 20,
   "metadata": {},
   "outputs": [],
   "source": [
    "env = TransformedEnv(\n",
    "    TestEnv(),\n",
    "    # Compose(\n",
    "    #     # normalize observations\n",
    "    #     # ObservationNorm(in_keys=[\"observation\"]),\n",
    "    #     # DoubleToFloat(in_keys=[\"observation\"]),\n",
    "    #     StepCounter(),\n",
    "    # ),\n",
    ")"
   ]
  },
  {
   "cell_type": "code",
   "execution_count": 21,
   "metadata": {},
   "outputs": [
    {
     "name": "stdout",
     "output_type": "stream",
     "text": [
      "observation_spec: CompositeSpec(\n",
      "    observation: CompositeSpec(\n",
      "        a: UnboundedContinuousTensorSpec(\n",
      "             shape=torch.Size([2, 3]), space=None, device=cpu, dtype=torch.float32, domain=continuous),\n",
      "        b: UnboundedContinuousTensorSpec(\n",
      "             shape=torch.Size([2, 3]), space=None, device=cpu, dtype=torch.float32, domain=continuous), device=cpu, shape=torch.Size([2, 3])), device=cpu, shape=torch.Size([2]))\n",
      "reward_spec: UnboundedContinuousTensorSpec(\n",
      "     shape=torch.Size([2]), space=None, device=cpu, dtype=torch.float32, domain=continuous)\n",
      "input_spec: CompositeSpec(\n",
      "    action: UnboundedDiscreteTensorSpec(\n",
      "         shape=torch.Size([2]), space=ContinuousBox(minimum=Tensor(shape=torch.Size([2]), device=cpu, dtype=torch.int64, contiguous=True), maximum=Tensor(shape=torch.Size([2]), device=cpu, dtype=torch.int64, contiguous=True)), device=cpu, dtype=torch.int32, domain=continuous), device=cpu, shape=torch.Size([2]))\n",
      "action_spec (as defined by input_spec): UnboundedDiscreteTensorSpec(\n",
      "     shape=torch.Size([2]), space=ContinuousBox(minimum=Tensor(shape=torch.Size([2]), device=cpu, dtype=torch.int64, contiguous=True), maximum=Tensor(shape=torch.Size([2]), device=cpu, dtype=torch.int64, contiguous=True)), device=cpu, dtype=torch.int32, domain=continuous)\n",
      "next\n",
      "next\n",
      "next\n"
     ]
    },
    {
     "ename": "AssertionError",
     "evalue": "The dtypes of the real and fake tensordict don't match for key next.done. Got fake=torch.int64 and real=torch.bool.",
     "output_type": "error",
     "traceback": [
      "\u001b[0;31m---------------------------------------------------------------------------\u001b[0m",
      "\u001b[0;31mAssertionError\u001b[0m                            Traceback (most recent call last)",
      "\u001b[1;32m/Users/dbok/PycharmProjects/delivery-RL/delivery-RL/rl_training.ipynb Cell 17\u001b[0m in \u001b[0;36m6\n\u001b[1;32m      <a href='vscode-notebook-cell:/Users/dbok/PycharmProjects/delivery-RL/delivery-RL/rl_training.ipynb#X22sZmlsZQ%3D%3D?line=2'>3</a>\u001b[0m \u001b[39mprint\u001b[39m(\u001b[39m\"\u001b[39m\u001b[39minput_spec:\u001b[39m\u001b[39m\"\u001b[39m, env\u001b[39m.\u001b[39minput_spec)\n\u001b[1;32m      <a href='vscode-notebook-cell:/Users/dbok/PycharmProjects/delivery-RL/delivery-RL/rl_training.ipynb#X22sZmlsZQ%3D%3D?line=3'>4</a>\u001b[0m \u001b[39mprint\u001b[39m(\u001b[39m\"\u001b[39m\u001b[39maction_spec (as defined by input_spec):\u001b[39m\u001b[39m\"\u001b[39m, env\u001b[39m.\u001b[39maction_spec)\n\u001b[0;32m----> <a href='vscode-notebook-cell:/Users/dbok/PycharmProjects/delivery-RL/delivery-RL/rl_training.ipynb#X22sZmlsZQ%3D%3D?line=5'>6</a>\u001b[0m check_env_specs(env)\n",
      "File \u001b[0;32m/usr/local/lib/python3.10/site-packages/torchrl/envs/utils.py:290\u001b[0m, in \u001b[0;36mcheck_env_specs\u001b[0;34m(env, return_contiguous, check_dtype, seed)\u001b[0m\n\u001b[1;32m    285\u001b[0m         \u001b[39mraise\u001b[39;00m \u001b[39mAssertionError\u001b[39;00m(\n\u001b[1;32m    286\u001b[0m             \u001b[39mf\u001b[39m\u001b[39m\"\u001b[39m\u001b[39mThe shapes of the real and fake tensordict don\u001b[39m\u001b[39m'\u001b[39m\u001b[39mt match for key \u001b[39m\u001b[39m{\u001b[39;00mkey\u001b[39m}\u001b[39;00m\u001b[39m. \u001b[39m\u001b[39m\"\u001b[39m\n\u001b[1;32m    287\u001b[0m             \u001b[39mf\u001b[39m\u001b[39m\"\u001b[39m\u001b[39mGot fake=\u001b[39m\u001b[39m{\u001b[39;00mfake_tensordict[key]\u001b[39m.\u001b[39mshape\u001b[39m}\u001b[39;00m\u001b[39m and real=\u001b[39m\u001b[39m{\u001b[39;00mreal_tensordict[key]\u001b[39m.\u001b[39mshape\u001b[39m}\u001b[39;00m\u001b[39m.\u001b[39m\u001b[39m\"\u001b[39m\n\u001b[1;32m    288\u001b[0m         )\n\u001b[1;32m    289\u001b[0m     \u001b[39mif\u001b[39;00m check_dtype \u001b[39mand\u001b[39;00m (fake_tensordict[key]\u001b[39m.\u001b[39mdtype \u001b[39m!=\u001b[39m real_tensordict[key]\u001b[39m.\u001b[39mdtype):\n\u001b[0;32m--> 290\u001b[0m         \u001b[39mraise\u001b[39;00m \u001b[39mAssertionError\u001b[39;00m(\n\u001b[1;32m    291\u001b[0m             \u001b[39mf\u001b[39m\u001b[39m\"\u001b[39m\u001b[39mThe dtypes of the real and fake tensordict don\u001b[39m\u001b[39m'\u001b[39m\u001b[39mt match for key \u001b[39m\u001b[39m{\u001b[39;00mkey\u001b[39m}\u001b[39;00m\u001b[39m. \u001b[39m\u001b[39m\"\u001b[39m\n\u001b[1;32m    292\u001b[0m             \u001b[39mf\u001b[39m\u001b[39m\"\u001b[39m\u001b[39mGot fake=\u001b[39m\u001b[39m{\u001b[39;00mfake_tensordict[key]\u001b[39m.\u001b[39mdtype\u001b[39m}\u001b[39;00m\u001b[39m and real=\u001b[39m\u001b[39m{\u001b[39;00mreal_tensordict[key]\u001b[39m.\u001b[39mdtype\u001b[39m}\u001b[39;00m\u001b[39m.\u001b[39m\u001b[39m\"\u001b[39m\n\u001b[1;32m    293\u001b[0m         )\n\u001b[1;32m    295\u001b[0m \u001b[39m# test dtypes\u001b[39;00m\n\u001b[1;32m    296\u001b[0m real_tensordict \u001b[39m=\u001b[39m env\u001b[39m.\u001b[39mrollout(\u001b[39m3\u001b[39m)  \u001b[39m# keep empty structures, for example dict()\u001b[39;00m\n",
      "\u001b[0;31mAssertionError\u001b[0m: The dtypes of the real and fake tensordict don't match for key next.done. Got fake=torch.int64 and real=torch.bool."
     ]
    }
   ],
   "source": [
    "print(\"observation_spec:\", env.observation_spec)\n",
    "print(\"reward_spec:\", env.reward_spec)\n",
    "print(\"input_spec:\", env.input_spec)\n",
    "print(\"action_spec (as defined by input_spec):\", env.action_spec)\n",
    "\n",
    "check_env_specs(env)"
   ]
  },
  {
   "cell_type": "code",
   "execution_count": 89,
   "metadata": {},
   "outputs": [
    {
     "name": "stdout",
     "output_type": "stream",
     "text": [
      "TensorDict(\n",
      "    fields={\n",
      "        action: Tensor(shape=torch.Size([2]), device=cpu, dtype=torch.int32, is_shared=False),\n",
      "        done: Tensor(shape=torch.Size([2]), device=cpu, dtype=torch.int64, is_shared=False),\n",
      "        next.done: Tensor(shape=torch.Size([2]), device=cpu, dtype=torch.int64, is_shared=False),\n",
      "        next.observation.a: Tensor(shape=torch.Size([2]), device=cpu, dtype=torch.float32, is_shared=False),\n",
      "        next.observation.b: Tensor(shape=torch.Size([2]), device=cpu, dtype=torch.float32, is_shared=False),\n",
      "        next.reward: Tensor(shape=torch.Size([2]), device=cpu, dtype=torch.float32, is_shared=False),\n",
      "        observation.a: Tensor(shape=torch.Size([2]), device=cpu, dtype=torch.float32, is_shared=False),\n",
      "        observation.b: Tensor(shape=torch.Size([2]), device=cpu, dtype=torch.float32, is_shared=False),\n",
      "        reward: Tensor(shape=torch.Size([2]), device=cpu, dtype=torch.float32, is_shared=False)},\n",
      "    batch_size=torch.Size([2]),\n",
      "    device=cpu,\n",
      "    is_shared=False)\n",
      "next\n",
      "next\n",
      "next\n",
      "TensorDict(\n",
      "    fields={\n",
      "        action: Tensor(shape=torch.Size([2, 3]), device=cpu, dtype=torch.int32, is_shared=False),\n",
      "        done: Tensor(shape=torch.Size([2, 3]), device=cpu, dtype=torch.int64, is_shared=False),\n",
      "        next.done: Tensor(shape=torch.Size([2, 3]), device=cpu, dtype=torch.bool, is_shared=False),\n",
      "        next.observation.a: Tensor(shape=torch.Size([2, 3, 2]), device=cpu, dtype=torch.float32, is_shared=False),\n",
      "        next.observation.b: Tensor(shape=torch.Size([2, 3, 3]), device=cpu, dtype=torch.float32, is_shared=False),\n",
      "        next.reward: Tensor(shape=torch.Size([2, 3]), device=cpu, dtype=torch.float32, is_shared=False),\n",
      "        observation.a: Tensor(shape=torch.Size([2, 3, 2]), device=cpu, dtype=torch.float32, is_shared=False),\n",
      "        observation.b: Tensor(shape=torch.Size([2, 3, 3]), device=cpu, dtype=torch.float32, is_shared=False),\n",
      "        reward: Tensor(shape=torch.Size([2, 3]), device=cpu, dtype=torch.float32, is_shared=False)},\n",
      "    batch_size=torch.Size([2, 3]),\n",
      "    device=cpu,\n",
      "    is_shared=False)\n"
     ]
    }
   ],
   "source": [
    "fake = env.fake_tensordict().flatten_keys(\".\")\n",
    "print(fake)\n",
    "\n",
    "real_tensordict = env.rollout(3, return_contiguous=True).flatten_keys(\".\")\n",
    "print(real_tensordict)"
   ]
  },
  {
   "cell_type": "code",
   "execution_count": 91,
   "metadata": {},
   "outputs": [],
   "source": [
    "fake_tensordict = fake.unsqueeze(real_tensordict.batch_dims - 1).expand(*real_tensordict.shape).to_tensordict()"
   ]
  },
  {
   "cell_type": "code",
   "execution_count": 93,
   "metadata": {},
   "outputs": [
    {
     "data": {
      "text/plain": [
       "TensorDict(\n",
       "    fields={\n",
       "        action: Tensor(shape=torch.Size([2, 3]), device=cpu, dtype=torch.int32, is_shared=False),\n",
       "        done: Tensor(shape=torch.Size([2, 3]), device=cpu, dtype=torch.int64, is_shared=False),\n",
       "        next.done: Tensor(shape=torch.Size([2, 3]), device=cpu, dtype=torch.int64, is_shared=False),\n",
       "        next.observation.a: Tensor(shape=torch.Size([2, 3]), device=cpu, dtype=torch.float32, is_shared=False),\n",
       "        next.observation.b: Tensor(shape=torch.Size([2, 3]), device=cpu, dtype=torch.float32, is_shared=False),\n",
       "        next.reward: Tensor(shape=torch.Size([2, 3]), device=cpu, dtype=torch.float32, is_shared=False),\n",
       "        observation.a: Tensor(shape=torch.Size([2, 3]), device=cpu, dtype=torch.float32, is_shared=False),\n",
       "        observation.b: Tensor(shape=torch.Size([2, 3]), device=cpu, dtype=torch.float32, is_shared=False),\n",
       "        reward: Tensor(shape=torch.Size([2, 3]), device=cpu, dtype=torch.float32, is_shared=False)},\n",
       "    batch_size=torch.Size([2, 3]),\n",
       "    device=cpu,\n",
       "    is_shared=False)"
      ]
     },
     "execution_count": 93,
     "metadata": {},
     "output_type": "execute_result"
    }
   ],
   "source": [
    "# real_tensordict.apply(lambda x: torch.zeros_like(x)) == fake_tensordict.apply(lambda x: torch.zeros_like(x))\n",
    "# fake_tensordict\n",
    "fake_tensordict"
   ]
  },
  {
   "cell_type": "code",
   "execution_count": 131,
   "metadata": {},
   "outputs": [],
   "source": [
    "class Net(nn.Module):\n",
    "    def __init__(self) -> None:\n",
    "        super().__init__()\n",
    "        self.f1 = nn.Linear(3, 5)\n",
    "        self.f2 = nn.Linear(3, 5)\n",
    "\n",
    "        self.last = nn.Linear(5, 2)\n",
    "    \n",
    "    def forward(self, x, y):\n",
    "        x = self.f1(x)\n",
    "        y = self.f2(y)\n",
    "\n",
    "        return self.last(x - y)"
   ]
  },
  {
   "cell_type": "code",
   "execution_count": 137,
   "metadata": {},
   "outputs": [
    {
     "data": {
      "text/plain": [
       "tensor([[-1.7460, -0.8222]], grad_fn=<AddmmBackward0>)"
      ]
     },
     "execution_count": 137,
     "metadata": {},
     "output_type": "execute_result"
    }
   ],
   "source": [
    "x = torch.tensor([[1, 2, 3]], dtype=torch.float)\n",
    "y = torch.tensor([[1, 2, 3]], dtype=torch.float)\n",
    "n = Net()\n",
    "n(x, y)"
   ]
  },
  {
   "cell_type": "code",
   "execution_count": 138,
   "metadata": {},
   "outputs": [],
   "source": [
    "policy_module = TensorDictModule(\n",
    "    n, in_keys=[('inp', \"x\"), ('inp', \"y\")], out_keys=[\"out\"]\n",
    ")"
   ]
  },
  {
   "cell_type": "code",
   "execution_count": 146,
   "metadata": {},
   "outputs": [],
   "source": [
    "# policy_module(x=x, y=y)\n",
    "inp = TensorDict(\n",
    "    {\n",
    "        'inp': TensorDict({\n",
    "            'x': x,\n",
    "            'y': y,\n",
    "        }, batch_size=())\n",
    "    },\n",
    "    batch_size=(1, 3)\n",
    ")"
   ]
  },
  {
   "cell_type": "code",
   "execution_count": 140,
   "metadata": {},
   "outputs": [],
   "source": [
    "out = policy_module(inp)"
   ]
  },
  {
   "cell_type": "code",
   "execution_count": 23,
   "metadata": {},
   "outputs": [
    {
     "data": {
      "text/plain": [
       "tensor([1.9481, 0.0790], grad_fn=<AddBackward0>)"
      ]
     },
     "execution_count": 23,
     "metadata": {},
     "output_type": "execute_result"
    }
   ],
   "source": [
    "out['out']"
   ]
  },
  {
   "cell_type": "code",
   "execution_count": 147,
   "metadata": {},
   "outputs": [
    {
     "data": {
      "text/plain": [
       "torch.Size([1, 3])"
      ]
     },
     "execution_count": 147,
     "metadata": {},
     "output_type": "execute_result"
    }
   ],
   "source": [
    "inp.shape"
   ]
  },
  {
   "cell_type": "code",
   "execution_count": null,
   "metadata": {},
   "outputs": [],
   "source": []
  }
 ],
 "metadata": {
  "kernelspec": {
   "display_name": "Python 3",
   "language": "python",
   "name": "python3"
  },
  "language_info": {
   "codemirror_mode": {
    "name": "ipython",
    "version": 3
   },
   "file_extension": ".py",
   "mimetype": "text/x-python",
   "name": "python",
   "nbconvert_exporter": "python",
   "pygments_lexer": "ipython3",
   "version": "3.10.6"
  },
  "orig_nbformat": 4
 },
 "nbformat": 4,
 "nbformat_minor": 2
}
