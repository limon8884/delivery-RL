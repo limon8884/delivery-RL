{
 "cells": [
  {
   "attachments": {},
   "cell_type": "markdown",
   "metadata": {},
   "source": [
    "Install libraries"
   ]
  },
  {
   "cell_type": "code",
   "execution_count": null,
   "metadata": {},
   "outputs": [],
   "source": [
    "!pip install -r requirements.txt"
   ]
  },
  {
   "cell_type": "markdown",
   "metadata": {},
   "source": [
    "# The problem"
   ]
  },
  {
   "cell_type": "markdown",
   "metadata": {},
   "source": [
    "Imagine that we have a delivery-marketplace. We have a set of couriers and clients which make orders (from arbitary point A to arbitary point B in our city). We want to understand how to assign couriers on orders optimaly.\n",
    "\n",
    "Let's formilize the problem.\n",
    "\n",
    "The heart of our algorithm is a dispatch. Every time interval (let's say every minute) it recieves the information about free couriers, free (unassigned) orders and current orders (which are in progress). I call this triplet of sets a `gable-triple`. Dispatch needs to say how to match free couriers to free orders."
   ]
  },
  {
   "cell_type": "markdown",
   "metadata": {},
   "source": [
    "### Gamble-triple\n",
    "\n",
    "`0s` is the start point of order 0, `0f` is finish point. `0` without letter is a position of courier 0"
   ]
  },
  {
   "cell_type": "code",
   "execution_count": 1,
   "metadata": {},
   "outputs": [
    {
     "name": "stdout",
     "output_type": "stream",
     "text": [
      "Orders:\n",
      "Order; id: 0; from: (0.5858307271763263, 5.166647680428094); to: (4.438703050987839, 0.4801506239291953)\n",
      "Order; id: 1; from: (8.095322460535874, 9.731658045495225); to: (2.2017938531225143, 5.6594961317951045)\n",
      "Order; id: 2; from: (2.9982667649189523, 5.479491092177945); to: (7.298523924873058, 1.288813079151816)\n",
      "Couriers:\n",
      "Courier;  id: 0; pos: (8.82934094694062, 5.969442547710799)\n"
     ]
    },
    {
     "data": {
      "image/png": "[encoded data removed]",
      "text/plain": [
       "<Figure size 720x720 with 1 Axes>"
      ]
     },
     "metadata": {
      "needs_background": "light"
     },
     "output_type": "display_data"
    }
   ],
   "source": [
    "import matplotlib.pyplot as plt\n",
    "from src.objects.point import Point\n",
    "from src.objects.gamble_triple import random_triple\n",
    "import random\n",
    "\n",
    "random.seed(179)\n",
    "\n",
    "fig, ax = plt.subplots()\n",
    "fig.set_figheight(10)\n",
    "fig.set_figwidth(10)\n",
    "\n",
    "bounds = (Point(0, 0), Point(10, 10)) # our square city\n",
    "    \n",
    "plt.xlim(bounds[0].x, bounds[1].x)\n",
    "plt.ylim(bounds[0].y, bounds[1].y)\n",
    "\n",
    "triple = random_triple(bounds, max_items=3)\n",
    "print(triple)\n",
    "triple.plot(ax)"
   ]
  },
  {
   "cell_type": "markdown",
   "metadata": {},
   "source": [
    "### Dispatch"
   ]
  },
  {
   "cell_type": "markdown",
   "metadata": {},
   "source": [
    "\n",
    "In fact the dispatch solves the problem of matching on biparties graph: the nodes of the first party are couriers, of the second are orders. We need to fing matching.\n",
    "\n",
    "The baseline dispatch algorithm is a Hungarian-dispatch. It runs hungarian matching algorithm on weighted graph, where edge is a pair courier-order and the weight is distance between them. We solve the minimization problem."
   ]
  },
  {
   "cell_type": "code",
   "execution_count": 2,
   "metadata": {},
   "outputs": [
    {
     "data": {
      "text/plain": [
       "[(1, 0)]"
      ]
     },
     "execution_count": 2,
     "metadata": {},
     "output_type": "execute_result"
    }
   ],
   "source": [
    "from src.dispatch.dispatch import Dispatch\n",
    "dsp = Dispatch() \n",
    "\n",
    "dsp(triple) # assign 1-th order to 0-th courier"
   ]
  },
  {
   "attachments": {},
   "cell_type": "markdown",
   "metadata": {},
   "source": [
    "# Simulator"
   ]
  },
  {
   "cell_type": "markdown",
   "metadata": {},
   "source": [
    "To simulate the real world we need simulator"
   ]
  },
  {
   "cell_type": "code",
   "execution_count": 3,
   "metadata": {},
   "outputs": [],
   "source": [
    "%matplotlib inline\n",
    "import matplotlib.pyplot as plt\n",
    "import numpy as np\n",
    "import pandas as pd\n",
    "\n",
    "from src.utils import *\n",
    "\n",
    "from src.simulator.simulator import Simulator\n",
    "from src.simulator.graphics import plot_CR, plot_counts"
   ]
  },
  {
   "attachments": {},
   "cell_type": "markdown",
   "metadata": {},
   "source": [
    "Let's firstly 2 main objects of the project:\n",
    "* dispatch - the box, that assigns couriers on orders\n",
    "* simulator - a virtual environment that simulates the real world (the motion of couriers, cancelling of orders, ect)\n",
    "\n",
    "You can configure the simulator parameters in `environment_config.json` file"
   ]
  },
  {
   "cell_type": "code",
   "execution_count": 4,
   "metadata": {},
   "outputs": [],
   "source": [
    "sim = Simulator(step=0.5) # the step is the distance which courier makes for each iteration of dispatch"
   ]
  },
  {
   "attachments": {},
   "cell_type": "markdown",
   "metadata": {},
   "source": [
    "The code below visualizes per-iteration snapshots of all active routes"
   ]
  },
  {
   "cell_type": "code",
   "execution_count": 5,
   "metadata": {},
   "outputs": [
    {
     "data": {
      "image/png": "[encoded data removed]",
      "text/plain": [
       "<Figure size 720x720 with 1 Axes>"
      ]
     },
     "metadata": {
      "needs_background": "light"
     },
     "output_type": "display_data"
    }
   ],
   "source": [
    "fig, ax = plt.subplots()\n",
    "fig.set_figheight(10)\n",
    "fig.set_figwidth(10)\n",
    "\n",
    "bounds = (Point(0, 0), Point(10, 10))\n",
    "plt.xlim(bounds[0].x, bounds[1].x)\n",
    "plt.ylim(bounds[0].y, bounds[1].y)\n",
    "\n",
    "all_metrics = []\n",
    "for i in range(10): # run simulator for 10 iterations\n",
    "    metrics = sim.GetMetrics()\n",
    "    all_metrics.append(metrics)\n",
    "    state = sim.GetState()\n",
    "    sim.Next(dsp(state))\n",
    "    for ar in sim.active_routes.items():\n",
    "        ar.plot(ax)"
   ]
  },
  {
   "attachments": {},
   "cell_type": "markdown",
   "metadata": {},
   "source": [
    "Also, we can see by-iterations statistics of the whole simulation"
   ]
  },
  {
   "cell_type": "code",
   "execution_count": 6,
   "metadata": {},
   "outputs": [
    {
     "data": {
      "text/html": [
       "<div>\n",
       "<style scoped>\n",
       "    .dataframe tbody tr th:only-of-type {\n",
       "        vertical-align: middle;\n",
       "    }\n",
       "\n",
       "    .dataframe tbody tr th {\n",
       "        vertical-align: top;\n",
       "    }\n",
       "\n",
       "    .dataframe thead th {\n",
       "        text-align: right;\n",
       "    }\n",
       "</style>\n",
       "<table border=\"1\" class=\"dataframe\">\n",
       "  <thead>\n",
       "    <tr style=\"text-align: right;\">\n",
       "      <th></th>\n",
       "      <th>completed_orders</th>\n",
       "      <th>finished_orders</th>\n",
       "      <th>current_free_couriers</th>\n",
       "      <th>current_free_orders</th>\n",
       "      <th>current_active_routes</th>\n",
       "      <th>avg_eta</th>\n",
       "    </tr>\n",
       "    <tr>\n",
       "      <th>iteration</th>\n",
       "      <th></th>\n",
       "      <th></th>\n",
       "      <th></th>\n",
       "      <th></th>\n",
       "      <th></th>\n",
       "      <th></th>\n",
       "    </tr>\n",
       "  </thead>\n",
       "  <tbody>\n",
       "    <tr>\n",
       "      <th>0</th>\n",
       "      <td>0</td>\n",
       "      <td>0</td>\n",
       "      <td>20</td>\n",
       "      <td>3</td>\n",
       "      <td>0</td>\n",
       "      <td>0.000000</td>\n",
       "    </tr>\n",
       "    <tr>\n",
       "      <th>1</th>\n",
       "      <td>0</td>\n",
       "      <td>0</td>\n",
       "      <td>17</td>\n",
       "      <td>2</td>\n",
       "      <td>3</td>\n",
       "      <td>0.469714</td>\n",
       "    </tr>\n",
       "    <tr>\n",
       "      <th>2</th>\n",
       "      <td>0</td>\n",
       "      <td>0</td>\n",
       "      <td>15</td>\n",
       "      <td>2</td>\n",
       "      <td>5</td>\n",
       "      <td>0.972070</td>\n",
       "    </tr>\n",
       "    <tr>\n",
       "      <th>3</th>\n",
       "      <td>0</td>\n",
       "      <td>0</td>\n",
       "      <td>13</td>\n",
       "      <td>2</td>\n",
       "      <td>7</td>\n",
       "      <td>1.600874</td>\n",
       "    </tr>\n",
       "    <tr>\n",
       "      <th>4</th>\n",
       "      <td>0</td>\n",
       "      <td>0</td>\n",
       "      <td>11</td>\n",
       "      <td>2</td>\n",
       "      <td>9</td>\n",
       "      <td>0.323963</td>\n",
       "    </tr>\n",
       "    <tr>\n",
       "      <th>5</th>\n",
       "      <td>0</td>\n",
       "      <td>0</td>\n",
       "      <td>9</td>\n",
       "      <td>2</td>\n",
       "      <td>11</td>\n",
       "      <td>1.206377</td>\n",
       "    </tr>\n",
       "    <tr>\n",
       "      <th>6</th>\n",
       "      <td>0</td>\n",
       "      <td>0</td>\n",
       "      <td>7</td>\n",
       "      <td>2</td>\n",
       "      <td>13</td>\n",
       "      <td>1.315217</td>\n",
       "    </tr>\n",
       "    <tr>\n",
       "      <th>7</th>\n",
       "      <td>1</td>\n",
       "      <td>1</td>\n",
       "      <td>6</td>\n",
       "      <td>2</td>\n",
       "      <td>14</td>\n",
       "      <td>0.736451</td>\n",
       "    </tr>\n",
       "    <tr>\n",
       "      <th>8</th>\n",
       "      <td>1</td>\n",
       "      <td>1</td>\n",
       "      <td>4</td>\n",
       "      <td>2</td>\n",
       "      <td>16</td>\n",
       "      <td>2.383707</td>\n",
       "    </tr>\n",
       "    <tr>\n",
       "      <th>9</th>\n",
       "      <td>2</td>\n",
       "      <td>2</td>\n",
       "      <td>3</td>\n",
       "      <td>2</td>\n",
       "      <td>17</td>\n",
       "      <td>3.164634</td>\n",
       "    </tr>\n",
       "  </tbody>\n",
       "</table>\n",
       "</div>"
      ],
      "text/plain": [
       "           completed_orders  finished_orders  current_free_couriers  \\\n",
       "iteration                                                             \n",
       "0                         0                0                     20   \n",
       "1                         0                0                     17   \n",
       "2                         0                0                     15   \n",
       "3                         0                0                     13   \n",
       "4                         0                0                     11   \n",
       "5                         0                0                      9   \n",
       "6                         0                0                      7   \n",
       "7                         1                1                      6   \n",
       "8                         1                1                      4   \n",
       "9                         2                2                      3   \n",
       "\n",
       "           current_free_orders  current_active_routes   avg_eta  \n",
       "iteration                                                        \n",
       "0                            3                      0  0.000000  \n",
       "1                            2                      3  0.469714  \n",
       "2                            2                      5  0.972070  \n",
       "3                            2                      7  1.600874  \n",
       "4                            2                      9  0.323963  \n",
       "5                            2                     11  1.206377  \n",
       "6                            2                     13  1.315217  \n",
       "7                            2                     14  0.736451  \n",
       "8                            2                     16  2.383707  \n",
       "9                            2                     17  3.164634  "
      ]
     },
     "execution_count": 6,
     "metadata": {},
     "output_type": "execute_result"
    }
   ],
   "source": [
    "pd.DataFrame(all_metrics).set_index('iteration')"
   ]
  },
  {
   "attachments": {},
   "cell_type": "markdown",
   "metadata": {},
   "source": [
    "Let's run the simulation for longer time and see the convergence of bussiness metrics"
   ]
  },
  {
   "cell_type": "code",
   "execution_count": 7,
   "metadata": {},
   "outputs": [],
   "source": [
    "all_metrics = []\n",
    "for i in range(2000): # run simulator for 10 iterations\n",
    "    metrics = sim.GetMetrics()\n",
    "    all_metrics.append(metrics)\n",
    "    state = sim.GetState()\n",
    "    sim.Next(dsp(state))"
   ]
  },
  {
   "cell_type": "markdown",
   "metadata": {},
   "source": [
    "### Our main metric is CR - the rate of success (completed) orders"
   ]
  },
  {
   "cell_type": "code",
   "execution_count": 8,
   "metadata": {},
   "outputs": [
    {
     "name": "stdout",
     "output_type": "stream",
     "text": [
      "micro average CR:  0.6969386186106896\n",
      "macro average CR:  0.6936601309652564\n"
     ]
    },
    {
     "data": {
      "image/png": "[encoded data removed]",
      "text/plain": [
       "<Figure size 432x288 with 1 Axes>"
      ]
     },
     "metadata": {
      "needs_background": "light"
     },
     "output_type": "display_data"
    },
    {
     "name": "stdout",
     "output_type": "stream",
     "text": [
      "average free couriers:  1.384\n",
      "average free orders:  13.1615\n",
      "average active routes:  18.616\n"
     ]
    },
    {
     "data": {
      "image/png": "[encoded data removed]",
      "text/plain": [
       "<Figure size 432x288 with 1 Axes>"
      ]
     },
     "metadata": {
      "needs_background": "light"
     },
     "output_type": "display_data"
    }
   ],
   "source": [
    "plot_CR(all_metrics)\n",
    "plot_counts(all_metrics)"
   ]
  },
  {
   "attachments": {},
   "cell_type": "markdown",
   "metadata": {},
   "source": [
    "# Neural-network-based dispatch"
   ]
  },
  {
   "attachments": {},
   "cell_type": "markdown",
   "metadata": {},
   "source": [
    "The idea is to use NNs in dispatch to solve the assignment problem.\n",
    "\n",
    "Let's firstly decompose the problem"
   ]
  },
  {
   "attachments": {},
   "cell_type": "markdown",
   "metadata": {},
   "source": [
    "## Positional encoder"
   ]
  },
  {
   "attachments": {},
   "cell_type": "markdown",
   "metadata": {},
   "source": [
    "Every point is individual. In some areas there can be many orders (because for example there is a storage of big compaby). In some areas there may be bad roads, some the couriers are rare there. That means that we need to encode each point into emdeddings. The PositionalEncoder will do it.\n",
    "\n",
    "It is trained on the problem of prediction a distance between 2 random points. Embeddings of these points are concated and then followed by linear layer. \n",
    "\n",
    "The training code is below"
   ]
  },
  {
   "cell_type": "code",
   "execution_count": null,
   "metadata": {},
   "outputs": [
    {
     "name": "stdout",
     "output_type": "stream",
     "text": [
      "log-losses:  [32.76365343093872, 32.47199113845825, 31.62257064819336, 31.689482536315918, 31.776124153137207]\n"
     ]
    },
    {
     "data": {
      "image/png": "[encoded data removed]",
      "text/plain": [
       "<Figure size 640x480 with 1 Axes>"
      ]
     },
     "metadata": {},
     "output_type": "display_data"
    }
   ],
   "source": [
    "from src.objects.point import Point, get_random_point\n",
    "from src.networks.points_distance_net import PointDistNet\n",
    "from src.objects.utils import distance\n",
    "from IPython.display import clear_output\n",
    "\n",
    "batch_size = 64\n",
    "n_epochs = 5\n",
    "n_iters = 100\n",
    "bounds = (Point(0, 0), Point(10, 10))\n",
    "device = None #torch.device('cuda:0')\n",
    "\n",
    "net = PointDistNet(64, 128, device)\n",
    "scorer = ETAScoring()\n",
    "optimizer = torch.optim.Adam(net.parameters(), lr=1e-5)\n",
    "scheduler = torch.optim.lr_scheduler.OneCycleLR(optimizer, max_lr=1e-4, epochs=n_epochs, steps_per_epoch=n_iters)\n",
    "\n",
    "losses = []\n",
    "for epoch in range(n_epochs):\n",
    "    rolling_loss = []\n",
    "    for iter in range(n_iters):\n",
    "        real_distances = []\n",
    "        pts1 = []\n",
    "        pts2 = []\n",
    "        for _ in range(batch_size):\n",
    "            p1 = get_random_point(bounds)\n",
    "            p2 = get_random_point(bounds)\n",
    "            pts1.append(p1)\n",
    "            pts2.append(p2)\n",
    "            real_distances.append(distance(p1, p2))\n",
    "\n",
    "        optimizer.zero_grad()\n",
    "        mse_loss = nn.MSELoss()\n",
    "        preds = net(pts1, pts2)\n",
    "        loss = mse_loss(preds, torch.tensor(real_distances, device=net.device))\n",
    "        loss.backward()\n",
    "        optimizer.step()\n",
    "\n",
    "        rolling_loss.append(loss.item())\n",
    "\n",
    "    losses.append(np.mean(rolling_loss))\n",
    "    if epoch % 1 == 0:\n",
    "        clear_output()\n",
    "        print('log-losses: ', losses[-50:])\n",
    "        plt.plot(np.log(losses))\n",
    "        plt.show()"
   ]
  },
  {
   "attachments": {},
   "cell_type": "markdown",
   "metadata": {},
   "source": [
    "I trained the model till 0.01-loss convergence. I think that more precision is useless because of overfitting on the exact problem."
   ]
  },
  {
   "cell_type": "code",
   "execution_count": null,
   "metadata": {},
   "outputs": [
    {
     "name": "stdout",
     "output_type": "stream",
     "text": [
      "embedding shape: torch.Size([64])\n",
      "point embedding: tensor([ 0.9194, -0.6178, -0.6289,  0.3408,  0.5997, -0.9999, -0.3766,  0.7901,\n",
      "         0.7682,  0.4607, -0.5005, -0.3224,  0.5850,  0.9111,  0.3351, -0.7106,\n",
      "        -0.9989, -0.2293, -0.9441,  0.9406, -0.9713, -0.9986,  0.0974, -0.9986,\n",
      "         0.4485, -0.9106, -0.3107, -0.7465,  0.1559, -0.6427,  0.9294, -0.7158,\n",
      "        -0.9975, -0.0516,  0.1596,  0.0105, -0.8298, -0.7889, -0.5455, -0.7833,\n",
      "         0.9705,  0.8713, -0.6593, -0.2642,  0.2498,  0.8684, -0.9972, -0.7506,\n",
      "        -0.4543,  0.8936, -0.0201, -0.6019,  0.9899,  0.7962, -0.5686,  0.8110,\n",
      "        -0.2467,  0.9450,  0.6753, -0.8544,  0.9840, -0.3151, -0.9229,  0.5824])\n"
     ]
    }
   ],
   "source": [
    "import torch\n",
    "from src.networks.encoders import PointEncoder\n",
    "from src.objects.point import Point, get_random_point\n",
    "device = torch.device('cpu')\n",
    "pe = PointEncoder(64, device=device)\n",
    "pe.load_state_dict(torch.load('pretrained_models/point_encoder64/point_encoder64.pt', map_location=device))\n",
    "\n",
    "random_point = get_random_point()\n",
    "embedding = pe(random_point)\n",
    "print('embedding shape:', embedding.shape)\n",
    "print('point embedding:', embedding)"
   ]
  },
  {
   "attachments": {},
   "cell_type": "markdown",
   "metadata": {},
   "source": [
    "## Network architecture"
   ]
  },
  {
   "attachments": {},
   "cell_type": "markdown",
   "metadata": {},
   "source": [
    "The input of dispatch at every iteration is a GambleTriple.\n",
    "It contains 3 lists of items:\n",
    "* list of unassigned orders\n",
    "* list of unassigned couriers\n",
    "* list of active routes\n",
    "\n",
    "Every item in the list can be embedded. For example, a given order has a source point, a destination point and some time information about the order. All these features can be edmedded, so the order can be represented as a vector. The same logic works for courier and active roure. So, the input of our NN is 3 sequnces of vectors. \n",
    "\n",
    "The output of the dispatch should be assignments. They can be achieved by solving the maximal matching in bipartite graph. Edges and couriers are the vertexes of this graph. The score of a given edge shows how the corresponding courier suites the corresponding order.\n",
    "Edges scores can be represented by a matrix of shape [num_orders, num_couriers+1]. '+1' means a fake courier - a given order is not assigned. This matrix is the outpus of our NN.\n",
    "\n",
    "As a seq2seq problem I solve the problem using Transformer architecture. Every layer of the whole transformer consists of 2 decoders - for the orders and for the couriers. They attend on each other and on active routes. At the end we have in fact a query-key matrix, which is in fact our output"
   ]
  },
  {
   "cell_type": "markdown",
   "metadata": {},
   "source": [
    "## Supervised learning: cloning training"
   ]
  },
  {
   "attachments": {},
   "cell_type": "markdown",
   "metadata": {},
   "source": [
    "I train the NN on supervised task. \n",
    "We have a groundtruth baseine: let's say that the groundtruth baseline of edge score is ETA (distance from corier to a source point). We want to minimize it via Hungarian algoriths which solves exactly our problem. Let's use it's assignments as targets. Therefore, we will have bool matrix where True on (i, j) position means that we need to asssign i-th order on j-th courier.\n",
    "\n",
    "To get our NN's predictions we just call softmax of our output matrix.\n",
    "The training code you can find at `training_clone.py`"
   ]
  },
  {
   "attachments": {},
   "cell_type": "markdown",
   "metadata": {},
   "source": [
    "## Comparing of baseline algorithm versus NN-based dispatch"
   ]
  },
  {
   "cell_type": "code",
   "execution_count": 2,
   "metadata": {},
   "outputs": [
    {
     "name": "stdout",
     "output_type": "stream",
     "text": [
      "device: cpu\n",
      "net weights loaded successfuly!\n",
      "gamble encoder weights loaded successfuly!\n"
     ]
    }
   ],
   "source": [
    "import torch\n",
    "import json\n",
    "from src.networks.encoders import PointEncoder\n",
    "from src.networks.encoders.gamble_encoder import GambleTripleEncoder\n",
    "from src.networks.scoring_networks.net1 import ScoringNet\n",
    "from src.dispatch.dispatch import NeuralDispatch\n",
    "\n",
    "device = torch.device('cuda:0') if torch.cuda.is_available() else torch.device('cpu')\n",
    "print(f'device: {device}')\n",
    "\n",
    "with open('configs/training_settings.json') as f:\n",
    "    training_settings = json.load(f)\n",
    "with open('configs/network_hyperparams.json') as f:\n",
    "    hyperparams = json.load(f)\n",
    "with open('configs/run_ids.json') as f:\n",
    "    run_id = json.load(f)['cloning']\n",
    "with open('configs/paths.json') as f:\n",
    "    paths = json.load(f)\n",
    "\n",
    "net = ScoringNet(\n",
    "    n_layers=hyperparams['n_layers'],\n",
    "    d_model=hyperparams['d_model'],\n",
    "    n_head=hyperparams['n_head'],\n",
    "    dim_ff=hyperparams['dim_ff'],\n",
    "    path_weights=paths['pretrained_net'] if training_settings['use_pretrained'] else None,\n",
    "    device=device\n",
    ")\n",
    "\n",
    "encoder = GambleTripleEncoder(\n",
    "    number_enc_dim=hyperparams['number_enc_dim'],\n",
    "    d_model=hyperparams['d_model'],\n",
    "    point_enc_dim=hyperparams['point_enc_dim'],\n",
    "    path_weights=paths['pretrained_encoder'] if training_settings['use_pretrained'] else None,\n",
    "    device=device\n",
    ")\n",
    "\n",
    "encoder.eval()\n",
    "net.eval();"
   ]
  },
  {
   "cell_type": "code",
   "execution_count": 5,
   "metadata": {},
   "outputs": [],
   "source": [
    "from src.simulator.simulator import Simulator\n",
    "from src.dispatch.dispatch import Dispatch, NeuralDispatch\n",
    "neural_dsp = NeuralDispatch(net, encoder)\n",
    "hungarian_dsp = Dispatch()"
   ]
  },
  {
   "cell_type": "code",
   "execution_count": 6,
   "metadata": {},
   "outputs": [
    {
     "name": "stdout",
     "output_type": "stream",
     "text": [
      "micro average CR:  0.712109851570891\n",
      "macro average CR:  0.7029197018536849\n"
     ]
    },
    {
     "data": {
      "image/png": "[encoded data removed]",
      "text/plain": [
       "<Figure size 432x288 with 1 Axes>"
      ]
     },
     "metadata": {
      "needs_background": "light"
     },
     "output_type": "display_data"
    },
    {
     "name": "stdout",
     "output_type": "stream",
     "text": [
      "micro average CR:  0.5617744731169544\n",
      "macro average CR:  0.4585180413998661\n"
     ]
    },
    {
     "data": {
      "image/png": "[encoded data removed]",
      "text/plain": [
       "<Figure size 432x288 with 1 Axes>"
      ]
     },
     "metadata": {
      "needs_background": "light"
     },
     "output_type": "display_data"
    }
   ],
   "source": [
    "from src.simulator.graphics import plot_CR\n",
    "neural_sim = Simulator()\n",
    "hungarian_sim = Simulator()\n",
    "\n",
    "neural_metrics = []\n",
    "hungarian_metrics = []\n",
    "for i in range(500):\n",
    "    neural_sim.Next(neural_dsp([neural_sim.GetState()])[0])\n",
    "    neural_metrics.append(neural_sim.GetMetrics())\n",
    "    hungarian_sim.Next(hungarian_dsp(hungarian_sim.GetState()))\n",
    "    hungarian_metrics.append(hungarian_sim.GetMetrics())\n",
    "\n",
    "plot_CR(hungarian_metrics, title='baseline')\n",
    "plot_CR(neural_metrics, title='NN-based')\n"
   ]
  },
  {
   "cell_type": "code",
   "execution_count": null,
   "metadata": {},
   "outputs": [],
   "source": []
  }
 ],
 "metadata": {
  "kernelspec": {
   "display_name": "Python 3",
   "language": "python",
   "name": "python3"
  },
  "language_info": {
   "codemirror_mode": {
    "name": "ipython",
    "version": 3
   },
   "file_extension": ".py",
   "mimetype": "text/x-python",
   "name": "python",
   "nbconvert_exporter": "python",
   "pygments_lexer": "ipython3",
   "version": "3.7.9"
  },
  "orig_nbformat": 4
 },
 "nbformat": 4,
 "nbformat_minor": 2
}
