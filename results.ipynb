{
 "cells": [
  {
   "attachments": {},
   "cell_type": "markdown",
   "metadata": {},
   "source": [
    "Install libraries"
   ]
  },
  {
   "cell_type": "code",
   "execution_count": null,
   "metadata": {},
   "outputs": [],
   "source": [
    "!pip install -r requirements.txt"
   ]
  },
  {
   "attachments": {},
   "cell_type": "markdown",
   "metadata": {},
   "source": [
    "# Simulator"
   ]
  },
  {
   "cell_type": "code",
   "execution_count": 1,
   "metadata": {},
   "outputs": [],
   "source": [
    "%matplotlib inline\n",
    "import matplotlib.pyplot as plt\n",
    "import numpy as np\n",
    "import pandas as pd\n",
    "\n",
    "from utils import *\n",
    "from dispatch.dispatch import Dispatch\n",
    "from simulator.base_simulator import BaseSimulator\n",
    "from simulator.graphics import plot_CR, plot_counts\n",
    "\n",
    "# import importlib\n",
    "# importlib.reload(utils)"
   ]
  },
  {
   "attachments": {},
   "cell_type": "markdown",
   "metadata": {},
   "source": [
    "Let's firstly 2 main objects of the project:\n",
    "* dispatch - the box, that assigns couriers on orders\n",
    "* simulator - a virtual environment that simulates the real world\n",
    "\n",
    "You can configure the simulator parameters in `environment_config.json` file"
   ]
  },
  {
   "cell_type": "code",
   "execution_count": 10,
   "metadata": {},
   "outputs": [],
   "source": [
    "dsp = Dispatch() \n",
    "sim = BaseSimulator(dsp, step=0.5) # the step is the distance which courier makes for each iteration of dispatch"
   ]
  },
  {
   "attachments": {},
   "cell_type": "markdown",
   "metadata": {},
   "source": [
    "The code below visualizes per-iteration snapshots of all active routes"
   ]
  },
  {
   "cell_type": "code",
   "execution_count": 11,
   "metadata": {},
   "outputs": [
    {
     "data": {
      "image/png": "[encoded data removed]",
      "text/plain": [
       "<Figure size 720x720 with 1 Axes>"
      ]
     },
     "metadata": {
      "needs_background": "light"
     },
     "output_type": "display_data"
    }
   ],
   "source": [
    "fig, ax = plt.subplots()\n",
    "fig.set_figheight(10)\n",
    "fig.set_figwidth(10)\n",
    "sim.corner_bounds[0].plot(ax, color='black')\n",
    "sim.corner_bounds[1].plot(ax, color='black')\n",
    "\n",
    "all_metrics = []\n",
    "for i in range(10): # run simulator for 10 iterations\n",
    "    metrics = sim.GetMetrics()\n",
    "    all_metrics.append(metrics)\n",
    "    sim.Next()\n",
    "    for ar in sim.active_routes:\n",
    "        ar.plot(ax)"
   ]
  },
  {
   "attachments": {},
   "cell_type": "markdown",
   "metadata": {},
   "source": [
    "Also, we can see by-iterations statistics of the whole simulation"
   ]
  },
  {
   "cell_type": "code",
   "execution_count": 12,
   "metadata": {},
   "outputs": [
    {
     "data": {
      "text/html": [
       "<div>\n",
       "<style scoped>\n",
       "    .dataframe tbody tr th:only-of-type {\n",
       "        vertical-align: middle;\n",
       "    }\n",
       "\n",
       "    .dataframe tbody tr th {\n",
       "        vertical-align: top;\n",
       "    }\n",
       "\n",
       "    .dataframe thead th {\n",
       "        text-align: right;\n",
       "    }\n",
       "</style>\n",
       "<table border=\"1\" class=\"dataframe\">\n",
       "  <thead>\n",
       "    <tr style=\"text-align: right;\">\n",
       "      <th></th>\n",
       "      <th>completed_orders</th>\n",
       "      <th>finished_orders</th>\n",
       "      <th>current_free_couriers</th>\n",
       "      <th>current_free_orders</th>\n",
       "      <th>current_active_routes</th>\n",
       "      <th>total_eta</th>\n",
       "    </tr>\n",
       "    <tr>\n",
       "      <th>iter</th>\n",
       "      <th></th>\n",
       "      <th></th>\n",
       "      <th></th>\n",
       "      <th></th>\n",
       "      <th></th>\n",
       "      <th></th>\n",
       "    </tr>\n",
       "  </thead>\n",
       "  <tbody>\n",
       "    <tr>\n",
       "      <th>0</th>\n",
       "      <td>0</td>\n",
       "      <td>0</td>\n",
       "      <td>20</td>\n",
       "      <td>0</td>\n",
       "      <td>0</td>\n",
       "      <td>0.000000</td>\n",
       "    </tr>\n",
       "    <tr>\n",
       "      <th>1</th>\n",
       "      <td>0</td>\n",
       "      <td>0</td>\n",
       "      <td>18</td>\n",
       "      <td>0</td>\n",
       "      <td>2</td>\n",
       "      <td>3.575358</td>\n",
       "    </tr>\n",
       "    <tr>\n",
       "      <th>2</th>\n",
       "      <td>0</td>\n",
       "      <td>0</td>\n",
       "      <td>16</td>\n",
       "      <td>0</td>\n",
       "      <td>4</td>\n",
       "      <td>4.094119</td>\n",
       "    </tr>\n",
       "    <tr>\n",
       "      <th>3</th>\n",
       "      <td>0</td>\n",
       "      <td>0</td>\n",
       "      <td>14</td>\n",
       "      <td>0</td>\n",
       "      <td>6</td>\n",
       "      <td>2.105453</td>\n",
       "    </tr>\n",
       "    <tr>\n",
       "      <th>4</th>\n",
       "      <td>0</td>\n",
       "      <td>0</td>\n",
       "      <td>12</td>\n",
       "      <td>0</td>\n",
       "      <td>8</td>\n",
       "      <td>5.276146</td>\n",
       "    </tr>\n",
       "    <tr>\n",
       "      <th>5</th>\n",
       "      <td>0</td>\n",
       "      <td>0</td>\n",
       "      <td>10</td>\n",
       "      <td>0</td>\n",
       "      <td>10</td>\n",
       "      <td>4.404964</td>\n",
       "    </tr>\n",
       "    <tr>\n",
       "      <th>6</th>\n",
       "      <td>0</td>\n",
       "      <td>0</td>\n",
       "      <td>8</td>\n",
       "      <td>0</td>\n",
       "      <td>12</td>\n",
       "      <td>1.397433</td>\n",
       "    </tr>\n",
       "    <tr>\n",
       "      <th>7</th>\n",
       "      <td>0</td>\n",
       "      <td>0</td>\n",
       "      <td>6</td>\n",
       "      <td>0</td>\n",
       "      <td>14</td>\n",
       "      <td>4.818819</td>\n",
       "    </tr>\n",
       "    <tr>\n",
       "      <th>8</th>\n",
       "      <td>0</td>\n",
       "      <td>0</td>\n",
       "      <td>4</td>\n",
       "      <td>0</td>\n",
       "      <td>16</td>\n",
       "      <td>7.092518</td>\n",
       "    </tr>\n",
       "    <tr>\n",
       "      <th>9</th>\n",
       "      <td>0</td>\n",
       "      <td>0</td>\n",
       "      <td>2</td>\n",
       "      <td>0</td>\n",
       "      <td>18</td>\n",
       "      <td>8.720693</td>\n",
       "    </tr>\n",
       "  </tbody>\n",
       "</table>\n",
       "</div>"
      ],
      "text/plain": [
       "      completed_orders  finished_orders  current_free_couriers  \\\n",
       "iter                                                             \n",
       "0                    0                0                     20   \n",
       "1                    0                0                     18   \n",
       "2                    0                0                     16   \n",
       "3                    0                0                     14   \n",
       "4                    0                0                     12   \n",
       "5                    0                0                     10   \n",
       "6                    0                0                      8   \n",
       "7                    0                0                      6   \n",
       "8                    0                0                      4   \n",
       "9                    0                0                      2   \n",
       "\n",
       "      current_free_orders  current_active_routes  total_eta  \n",
       "iter                                                         \n",
       "0                       0                      0   0.000000  \n",
       "1                       0                      2   3.575358  \n",
       "2                       0                      4   4.094119  \n",
       "3                       0                      6   2.105453  \n",
       "4                       0                      8   5.276146  \n",
       "5                       0                     10   4.404964  \n",
       "6                       0                     12   1.397433  \n",
       "7                       0                     14   4.818819  \n",
       "8                       0                     16   7.092518  \n",
       "9                       0                     18   8.720693  "
      ]
     },
     "execution_count": 12,
     "metadata": {},
     "output_type": "execute_result"
    }
   ],
   "source": [
    "pd.DataFrame(all_metrics).set_index('iter')"
   ]
  },
  {
   "attachments": {},
   "cell_type": "markdown",
   "metadata": {},
   "source": [
    "Let's run the simulation for longer time and see the convergence of bussiness metrics"
   ]
  },
  {
   "cell_type": "code",
   "execution_count": 13,
   "metadata": {},
   "outputs": [],
   "source": [
    "all_metrics = []\n",
    "for i in range(2000): # run simulator for 10 iterations\n",
    "    metrics = sim.GetMetrics()\n",
    "    all_metrics.append(metrics)\n",
    "    sim.Next()"
   ]
  },
  {
   "cell_type": "code",
   "execution_count": 14,
   "metadata": {},
   "outputs": [
    {
     "name": "stdout",
     "output_type": "stream",
     "text": [
      "micro average CR:  0.652886694236425\n",
      "macro average CR:  0.645610853075414\n"
     ]
    },
    {
     "data": {
      "image/png": "[encoded data removed]",
      "text/plain": [
       "<Figure size 432x288 with 1 Axes>"
      ]
     },
     "metadata": {
      "needs_background": "light"
     },
     "output_type": "display_data"
    },
    {
     "name": "stdout",
     "output_type": "stream",
     "text": [
      "current free couriers:  0.0\n",
      "current free orders:  13.056\n",
      "current active routes:  20.0\n"
     ]
    },
    {
     "data": {
      "image/png": "[encoded data removed]",
      "text/plain": [
       "<Figure size 432x288 with 1 Axes>"
      ]
     },
     "metadata": {
      "needs_background": "light"
     },
     "output_type": "display_data"
    }
   ],
   "source": [
    "plot_CR(all_metrics)\n",
    "plot_counts(all_metrics)"
   ]
  },
  {
   "attachments": {},
   "cell_type": "markdown",
   "metadata": {},
   "source": [
    "Also, we can view some dispatch statistics - more technical metrics"
   ]
  },
  {
   "cell_type": "code",
   "execution_count": 15,
   "metadata": {},
   "outputs": [
    {
     "data": {
      "image/png": "[encoded data removed]",
      "text/plain": [
       "<Figure size 432x288 with 1 Axes>"
      ]
     },
     "metadata": {
      "needs_background": "light"
     },
     "output_type": "display_data"
    }
   ],
   "source": [
    "plt.plot(sim.dispatch.statistics['avg_scores'], label='avg_scores')\n",
    "plt.plot(sim.dispatch.statistics['num_assignments'], label='matches')\n",
    "plt.legend()\n",
    "plt.show()"
   ]
  },
  {
   "attachments": {},
   "cell_type": "markdown",
   "metadata": {},
   "source": [
    "# Neural-network-based dispatch"
   ]
  },
  {
   "attachments": {},
   "cell_type": "markdown",
   "metadata": {},
   "source": [
    "The idea is to use NNs in dispatch to solve the assignment problem.\n",
    "\n",
    "Let's firstly decompose the problem"
   ]
  },
  {
   "attachments": {},
   "cell_type": "markdown",
   "metadata": {},
   "source": [
    "## Positional encoder"
   ]
  },
  {
   "attachments": {},
   "cell_type": "markdown",
   "metadata": {},
   "source": [
    "Every point is individual. In some areas there can be many orders (because for example there is a storage of big compaby). In some areas there may be bad roads, some the couriers are rare there. That means that we need to encode each point into emdeddings. The PositionalEncoder will do it.\n",
    "\n",
    "It is trained on the problem of prediction a distance between 2 random points. Embeddings of these points are concated and then followed by linear layer. \n",
    "\n",
    "The training code is below"
   ]
  },
  {
   "cell_type": "code",
   "execution_count": 19,
   "metadata": {},
   "outputs": [
    {
     "name": "stdout",
     "output_type": "stream",
     "text": [
      "log-losses:  [31.801849212646484, 31.4597487449646, 31.821333541870118, 30.365452404022218, 30.27077646255493]\n"
     ]
    },
    {
     "data": {
      "image/png": "[encoded data removed]",
      "text/plain": [
       "<Figure size 432x288 with 1 Axes>"
      ]
     },
     "metadata": {
      "needs_background": "light"
     },
     "output_type": "display_data"
    }
   ],
   "source": [
    "from objects.point import Point, get_random_point\n",
    "from networks.points_distance_net import PointDistNet\n",
    "from objects.utils import distance\n",
    "from IPython.display import clear_output\n",
    "\n",
    "batch_size = 64\n",
    "n_epochs = 5\n",
    "n_iters = 100\n",
    "bounds = (Point(0, 0), Point(10, 10))\n",
    "device = None #torch.device('cuda:0')\n",
    "\n",
    "net = PointDistNet(64, 128, device)\n",
    "scorer = ETAScoring()\n",
    "optimizer = torch.optim.Adam(net.parameters(), lr=1e-5)\n",
    "scheduler = torch.optim.lr_scheduler.OneCycleLR(optimizer, max_lr=1e-4, epochs=n_epochs, steps_per_epoch=n_iters)\n",
    "\n",
    "losses = []\n",
    "for epoch in range(n_epochs):\n",
    "    rolling_loss = []\n",
    "    for iter in range(n_iters):\n",
    "        real_distances = []\n",
    "        pts1 = []\n",
    "        pts2 = []\n",
    "        for _ in range(batch_size):\n",
    "            p1 = get_random_point(bounds)\n",
    "            p2 = get_random_point(bounds)\n",
    "            pts1.append(p1)\n",
    "            pts2.append(p2)\n",
    "            real_distances.append(distance(p1, p2))\n",
    "\n",
    "        optimizer.zero_grad()\n",
    "        mse_loss = nn.MSELoss()\n",
    "        preds = net(pts1, pts2)\n",
    "        loss = mse_loss(preds, torch.tensor(real_distances, device=net.device))\n",
    "        loss.backward()\n",
    "        optimizer.step()\n",
    "\n",
    "        rolling_loss.append(loss.item())\n",
    "\n",
    "    losses.append(np.mean(rolling_loss))\n",
    "    if epoch % 1 == 0:\n",
    "        clear_output()\n",
    "        print('log-losses: ', losses[-50:])\n",
    "        plt.plot(np.log(losses))\n",
    "        plt.show()"
   ]
  },
  {
   "attachments": {},
   "cell_type": "markdown",
   "metadata": {},
   "source": [
    "I trained the model till 0.01-loss convergence. I think that more precision is useless because of overfitting on the exact problem."
   ]
  },
  {
   "cell_type": "code",
   "execution_count": 4,
   "metadata": {},
   "outputs": [
    {
     "name": "stdout",
     "output_type": "stream",
     "text": [
      "embedding shape: torch.Size([64])\n",
      "point embedding: tensor([ 0.9591, -0.9928, -0.8638,  0.3912,  0.8134, -0.9457, -0.9223,  0.2196,\n",
      "         0.4088, -0.3766, -0.0237, -0.9824,  0.7664,  0.9947,  0.9416, -0.9989,\n",
      "        -0.6251, -0.5408, -0.9117,  0.9258, -0.9140, -0.6250, -0.2495, -0.6596,\n",
      "         0.1941, -0.4378, -0.5329, -0.9989, -0.1660,  0.3313,  0.9114, -0.9399,\n",
      "        -0.9649, -0.9774, -0.5289, -0.1337, -0.9969, -0.6308,  0.4810, -0.0154,\n",
      "         0.3818,  0.6911,  0.3756,  0.4150, -0.5642,  0.6101, -0.7954,  0.6954,\n",
      "        -0.9984, -0.1336, -0.8200, -0.9999,  0.3275,  0.9254, -0.9906, -0.5371,\n",
      "         0.0275,  0.2973,  0.8066, -0.5628,  0.2780,  0.0167, -0.6116,  0.7915])\n"
     ]
    }
   ],
   "source": [
    "import torch\n",
    "from networks.encoders import PointEncoder\n",
    "from objects.point import Point, get_random_point\n",
    "device = torch.device('cpu')\n",
    "pe = PointEncoder(64, device=device)\n",
    "pe.load_state_dict(torch.load('pretrained_models/point_encoder64/point_encoder64.pt', map_location=device))\n",
    "\n",
    "random_point = get_random_point()\n",
    "embedding = pe(random_point)\n",
    "print('embedding shape:', embedding.shape)\n",
    "print('point embedding:', embedding)"
   ]
  },
  {
   "cell_type": "markdown",
   "metadata": {},
   "source": []
  },
  {
   "cell_type": "code",
   "execution_count": null,
   "metadata": {},
   "outputs": [],
   "source": []
  }
 ],
 "metadata": {
  "kernelspec": {
   "display_name": "Python 3",
   "language": "python",
   "name": "python3"
  },
  "language_info": {
   "codemirror_mode": {
    "name": "ipython",
    "version": 3
   },
   "file_extension": ".py",
   "mimetype": "text/x-python",
   "name": "python",
   "nbconvert_exporter": "python",
   "pygments_lexer": "ipython3",
   "version": "3.7.9"
  },
  "orig_nbformat": 4
 },
 "nbformat": 4,
 "nbformat_minor": 2
}
